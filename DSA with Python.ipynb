{
 "cells": [
  {
   "cell_type": "markdown",
   "metadata": {},
   "source": [
    "Data Structures and Algorithm- By Prathamesh Ausekar"
   ]
  },
  {
   "cell_type": "markdown",
   "metadata": {},
   "source": [
    "Chapter #1 Python Primer \n"
   ]
  },
  {
   "cell_type": "markdown",
   "metadata": {},
   "source": [
    "[Interactive_Python](python_interative.png)\n"
   ]
  },
  {
   "cell_type": "code",
   "execution_count": 3,
   "metadata": {},
   "outputs": [
    {
     "name": "stdout",
     "output_type": "stream",
     "text": [
      "Welcome to GPA calculator\n",
      " Enter the grades of your courses\n",
      " Enter a blank Line to by pressing return key to stop: \n",
      "A\n",
      "B\n",
      "\n",
      "GPA: 3.5\n"
     ]
    }
   ],
   "source": [
    "# preview python program\n",
    "def GPA_CAL():\n",
    "  # while recal:\n",
    "  print(f\"Welcome to GPA calculator\\n Enter the grades of your courses\\n Enter a blank Line to by pressing return key to stop: \")\n",
    "  points = {'A':4.00,'B':3.00,'C':2.00,'D':1.00,'F':0.00}\n",
    "  courses = 0\n",
    "  tot = 0\n",
    "  ipt = False\n",
    "  # try:\n",
    "  while not ipt:\n",
    "    grades = input()\n",
    "    if grades == '':\n",
    "      ipt = True\n",
    "    elif grades not in points:\n",
    "      print(f\"Unrecognized grade\\n\")\n",
    "    else:\n",
    "      courses += 1\n",
    "      tot = tot + points[grades]\n",
    "  # except ZeroDivisionError:\n",
    "    # print(ZeroDivisionError)\n",
    "  if courses > 0:\n",
    "    print(f\"GPA: {tot/courses}\")\n",
    "GPA_CAL()"
   ]
  },
  {
   "cell_type": "code",
   "execution_count": 2,
   "metadata": {},
   "outputs": [
    {
     "name": "stdout",
     "output_type": "stream",
     "text": [
      "[['False', 'None', 'True', 'and', 'as', 'assert', 'async', 'await', 'break', 'class', 'continue', 'def', 'del', 'elif', 'else', 'except', 'finally', 'for', 'from', 'global', 'if', 'import', 'in', 'is', 'lambda', 'nonlocal', 'not', 'or', 'pass', 'raise', 'return', 'try', 'while', 'with', 'yield']] \n",
      "There are Total 35 keywords in python 3.8.8 (default, Apr 13 2021, 15:08:03) [MSC v.1916 64 bit (AMD64)]\n"
     ]
    }
   ],
   "source": [
    "# Keywords list \n",
    "import keyword\n",
    "import sys\n",
    "# print([keyword.kwlist])\n",
    "# for word in keyword.kwlist:\n",
    "print(f\"{[keyword.kwlist]} \")\n",
    "print(f\"There are Total {len(keyword.kwlist)} keywords in python {sys.version}\")\n"
   ]
  },
  {
   "cell_type": "code",
   "execution_count": 1,
   "metadata": {},
   "outputs": [
    {
     "name": "stdout",
     "output_type": "stream",
     "text": [
      "Printing the value of Prathamesh\n",
      "prathamesh\n",
      "PRATHAMESH\n",
      "Prathamesh\n"
     ]
    }
   ],
   "source": [
    "my_str = \"Prathamesh\"\n",
    "print(f\"Printing the value of {my_str}\")\n",
    "lower = my_str.lower()\n",
    "print(lower)\n",
    "uper = lower.upper() # It's accessor method doesnt modify original object\n",
    "print(uper)\n",
    "print(my_str)"
   ]
  },
  {
   "cell_type": "code",
   "execution_count": 1,
   "metadata": {
    "scrolled": true
   },
   "outputs": [
    {
     "name": "stdout",
     "output_type": "stream",
     "text": [
      "accessors, Some methods just access the objects(list, dict) and perform operation but do not change the origianl state of the object\n",
      "\n",
      "printing mylist in sorted order using sorted() [1, 3, 3, 5, 5, 8, 36, 69]\n",
      " Original state of List: [3, 5, 1, 5, 3, 8, 69, 36]\n",
      "\n",
      "\n",
      "Mutators: After sorting usign object.sort() method:  [1, 3, 3, 5, 5, 8, 36, 69], Original state of object has beeb changed mylist: [1, 3, 3, 5, 5, 8, 36, 69]\n",
      "\n",
      "The deafult value returned by the bool() constructor or instantiator is False\n",
      "a contains a non zero value: 0 it is False\n",
      "\n",
      "name contains Prathamesh True\n",
      "Importance of bool()constructor is it can be used to use non boolean value in control structure\n",
      " Non boolean Value: String, list\n",
      " If these are empty bool(non_boolean_value) will return False or if non empty then True\n",
      "int class has int() constructor\n",
      " int() converts any (string with base 10, and float) type to integer\n",
      "\n",
      "a_float has 10.99 in it, convert it to int using int() constructor10\n",
      "Let's try some base 10 string like '12345' <- this is base 10 string\n",
      " Converting 12345\n",
      "Converting the binary octal and hexadecimal to int using prefix '0b', '0o','0x' respectively\n",
      "\n",
      "int of binary 11: using int() constructor 11\n",
      "int of octal 42: using int() constructor 42\n",
      "int of hexadecimal 127: using int() constructor 127\n",
      "Using int(no_to_be_converted, base) Converting binary 1111: 15\n",
      "\n",
      " If we try to convert the non base 10 string to int, it throws error\n",
      "\n",
      "float constructor float()\n"
     ]
    }
   ],
   "source": [
    "# Python Built-in Classes.\n",
    "#1. b\n",
    "mylist = [3,5,1,5,3,8,69,36] # range(0,11)\n",
    "print(f\"accessors, Some methods just access the objects(list, dict) and perform operation but do not change the origianl state of the object\\n\")\n",
    "\n",
    "print(f\"printing mylist in sorted order using sorted() {sorted(mylist)}\\n Original state of List: {mylist}\\n\")\n",
    "\n",
    "mylist.sort()\n",
    "print(f\"\\nMutators: After sorting usign object.sort() method: {mylist}, Original state of object has beeb changed mylist: {mylist}\")\n",
    "print(f\"\\Mutators mutates the state of the object modifying the object\")\n",
    "print(f\"\\nThe deafult value returned by the bool() constructor or instantiator is {bool()}\")\n",
    "\n",
    "a = 0\n",
    "print(f\"a contains a non zero value: {a} it is {bool(a)}\\n\")\n",
    "name = 'Prathamesh'\n",
    "print(f\"name contains {name} {bool(name)}\")\n",
    "\n",
    "print(\"Importance of bool() constructor is it can be used to use non boolean value in control structure\\n Non boolean Value: String, list\\n If these are empty bool(non_boolean_value) will return False or if non empty then True\")\n",
    "\n",
    "\n",
    "print(f\"int class has int() constructor\\n int() converts any (string with base 10, and float) type to integer\\n\")\n",
    "a_float = 10.99\n",
    "print(f\"a_float has {a_float} in it, convert it to int using int() constructor{int(a_float)}\")\n",
    "b10_str = '12345'\n",
    "print(f\"Let's try some base 10 string like '12345' <- this is base 10 string\\n Converting {int(b10_str)}\")\n",
    "\n",
    "print(f\"Converting the binary octal and hexadecimal to int using prefix '0b', '0o','0x' respectively\\n\")\n",
    "bn = 0b1011\n",
    "on = 0o52\n",
    "hn = 0x7f\n",
    "test_bin_no = '1111'\n",
    "print(f\"int of binary {bn}: using int() constructor {int(bn)}\\nint of octal {on}: using int() constructor {int(on)}\\nint of hexadecimal {hn}: using int() constructor {int(hn)}\")\n",
    "print(f\"Using int(no_to_be_converted, base) Converting binary {test_bin_no}: {int(test_bin_no,2)}\")\n",
    "print(f\"\\n If we try to convert the non base 10 string to int, it throws error\\n\")\n",
    "ex = 'hello'\n",
    "# print(f\"Converting: {int(ex)} \")\n",
    "\n",
    "print(f\"float constructor float()\")"
   ]
  },
  {
   "cell_type": "code",
   "execution_count": 2,
   "metadata": {},
   "outputs": [
    {
     "name": "stdout",
     "output_type": "stream",
     "text": [
      "Don't worry\n",
      "c\\user\\prat\n",
      "tab sequence \t is a tab\n",
      "This is a big WELCOME message to Everyone\n",
      "Creatin an empty set using set()\n",
      "my_set: {'P', 'a', 'm', 'r', 'h', 'e', 's', 't'}\n",
      "my_set1: {range(0, 11), range(0, 6)}\n"
     ]
    }
   ],
   "source": [
    "# List Set Tuple\n",
    "# print(f\"List constructor list() creates an empty list\\n\")\n",
    "# my_list = list()\n",
    "# print(f\"my_list {my_list} has length: {len(my_list)}\")\n",
    "# my_list = list('Prathamesh')\n",
    "# print(f\"my_list {my_list} has length: {len(my_list)}\")\n",
    "# my_list = list('Prathamesh')\n",
    "\n",
    "# print(f\"To represent a single tuple\\n\")\n",
    "\n",
    "# my_tuple = tuple()\n",
    "# print(f\"my_tuple {my_tuple} has length {len(my_tuple)}\")\n",
    "# my_tuple = (3,)\n",
    "# print(f\"my_tuple {my_tuple} has length {len(my_tuple)}\")\n",
    "\n",
    "print(\"Don\\'t worry\")\n",
    "print(\"c\\\\user\\\\prat\")\n",
    "print(\"tab sequence \\t is a tab\")\n",
    "print(f\"\"\"This is a big WELCOME message to Everyone\"\"\")\n",
    "\n",
    "print(f\"Creatin an empty set using set()\")\n",
    "\n",
    "my_set = set(\"Prathamesh\")\n",
    "print(f\"my_set: {my_set}\")\n",
    "# print(f\"my_set: {my_set}\")\n",
    "\n",
    "a_l = range(0,11)\n",
    "b_l = range(0,6)\n",
    "c_l = [a_l,b_l]\n",
    "my_set1 = set(c_l)\n",
    "print(f\"my_set1: {my_set1}\")\n"
   ]
  },
  {
   "cell_type": "code",
   "execution_count": 13,
   "metadata": {},
   "outputs": [
    {
     "name": "stdout",
     "output_type": "stream",
     "text": [
      "True\n",
      "False\n"
     ]
    }
   ],
   "source": [
    "# Expressions, Operators, and Precedence\n",
    "a = 10 \n",
    "b = 10 \n",
    "c = a is b # checks identity of a and b\n",
    "print(c)   # for c to be ture , a and b has o be thh alias of same object\n",
    "\n",
    "d = 10\n",
    "c = a is not d\n",
    "print(c)"
   ]
  },
  {
   "cell_type": "code",
   "execution_count": 15,
   "metadata": {},
   "outputs": [
    {
     "name": "stdout",
     "output_type": "stream",
     "text": [
      "6.75\n",
      "6\n",
      "3\n"
     ]
    }
   ],
   "source": [
    "print(27/4) # simple division\n",
    "print(27//4) # equicalent to mathematical floor function of division\n",
    "print(27%4)  # remainder after integer division\n",
    "dividend = quotient * modulo + remainder"
   ]
  },
  {
   "cell_type": "code",
   "execution_count": 23,
   "metadata": {},
   "outputs": [
    {
     "name": "stdout",
     "output_type": "stream",
     "text": [
      "15\n",
      " bitwise compliment -16\n",
      "bitwise and 0\n",
      "0b111100\n",
      "0b11\n"
     ]
    }
   ],
   "source": [
    "# bitwise operators\n",
    "bin_no = 0b1111\n",
    "p = 0b0\n",
    "q = 0b1\n",
    "print(bin_no)\n",
    "print(f\" bitwise compliment {~bin_no}\") # bitwise compliment \n",
    "print(f\"bitwise and {p and q}\") #\n",
    "print(bin(bin_no<<2))\n",
    "print(bin(bin_no>>2))"
   ]
  },
  {
   "cell_type": "code",
   "execution_count": 30,
   "metadata": {},
   "outputs": [
    {
     "name": "stdout",
     "output_type": "stream",
     "text": [
      "[1, 2, 3, 4, 5, 6, 3, 7, 3, 3, 8, 9, 10]\n",
      "Enter the element to be searched\n",
      "3\n"
     ]
    }
   ],
   "source": [
    "#Sequence Operators\n",
    "# built in sequence type supports following\n",
    "s = [1,2,3,4,5,6,3,7,3,3,8,9,10]\n",
    "# sa = [11,12,13,14]\n",
    "# print(s[0]) # element at index 0\n",
    "# print(s[0:7]) # slicing including 0th and 7th element\n",
    "# print(s[0:9:2]) # start stop step ;Stop index excluding\n",
    "# print(f\"Concatanation {sa + s}\")\n",
    "print(s)\n",
    "ele = input(\"Enter the element to be searched\\n\")\n",
    "for i in s:\n",
    "    if ele == i:\n",
    "        if ele in s:\n",
    "            print(\"yes\")\n",
    "        else:\n",
    "            print(\"Not in there\")"
   ]
  },
  {
   "cell_type": "code",
   "execution_count": 16,
   "metadata": {},
   "outputs": [
    {
     "name": "stdout",
     "output_type": "stream",
     "text": [
      "Using negative index s[-10] = 4\n"
     ]
    }
   ],
   "source": [
    "print(f\"Using negative index s[-10] = {s[-10]}\")"
   ]
  },
  {
   "cell_type": "code",
   "execution_count": 2,
   "metadata": {},
   "outputs": [
    {
     "name": "stdout",
     "output_type": "stream",
     "text": [
      "Only if this is the main program and not beong imported from any other module\n"
     ]
    }
   ],
   "source": [
    "# my_list= ()\n",
    "if __name__ == \"__main__\":\n",
    "    print(\"Only if this is the main program and not beong imported from any other module\")\n",
    "else:\n",
    "    print(\"This is not main program\")"
   ]
  },
  {
   "cell_type": "code",
   "execution_count": 3,
   "metadata": {},
   "outputs": [
    {
     "name": "stdout",
     "output_type": "stream",
     "text": [
      "[]\n"
     ]
    }
   ],
   "source": [
    "my_list = list()\n",
    "print(my_list)"
   ]
  },
  {
   "cell_type": "code",
   "execution_count": 4,
   "metadata": {},
   "outputs": [
    {
     "name": "stdout",
     "output_type": "stream",
     "text": [
      "{}\n"
     ]
    }
   ],
   "source": [
    "my_dict = dict()\n",
    "print(my_dict)"
   ]
  },
  {
   "cell_type": "code",
   "execution_count": 5,
   "metadata": {},
   "outputs": [
    {
     "name": "stdout",
     "output_type": "stream",
     "text": [
      "()\n"
     ]
    }
   ],
   "source": [
    "my_tuple = tuple() # Tuples are not mutable \n",
    "print(my_tuple)"
   ]
  },
  {
   "cell_type": "code",
   "execution_count": 7,
   "metadata": {},
   "outputs": [
    {
     "name": "stdout",
     "output_type": "stream",
     "text": [
      "Prathamesh\n"
     ]
    }
   ],
   "source": [
    "my_str = \"Prathamesh\"\n",
    "print(my_str)"
   ]
  },
  {
   "cell_type": "code",
   "execution_count": 10,
   "metadata": {},
   "outputs": [
    {
     "name": "stdout",
     "output_type": "stream",
     "text": [
      "Default value of bool var is:  False\n"
     ]
    }
   ],
   "source": [
    "my_bool_var = bool()\n",
    "print(\"Default value of bool var is: \",my_bool_var)\n",
    "# set \n",
    "#frozenset"
   ]
  },
  {
   "cell_type": "markdown",
   "metadata": {},
   "source": [
    "# Sequenc Operator"
   ]
  },
  {
   "cell_type": "code",
   "execution_count": 34,
   "metadata": {},
   "outputs": [
    {
     "name": "stdout",
     "output_type": "stream",
     "text": [
      "My short name is Pratham\n",
      "m\n",
      "Pahms\n",
      "[1, 2, 3, 4, 5]\n",
      "Enter letter in your name:d\n",
      "Not present\n"
     ]
    }
   ],
   "source": [
    "s = \"Prathamesh\"\n",
    "t= [1,2,3,4,5,6]\n",
    "print(f\"My short name is {s[0:7]}\")\n",
    "print(s[6])\n",
    "print(s[0:10:2])\n",
    "del(t[-1])\n",
    "print(t)\n",
    "h= input(\"Enter letter in your name:\")\n",
    "if h in s:\n",
    "    print(t)\n",
    "else:\n",
    "    print(\"Not present\")"
   ]
  },
  {
   "cell_type": "markdown",
   "metadata": {},
   "source": [
    "# Loops"
   ]
  },
  {
   "cell_type": "code",
   "execution_count": 41,
   "metadata": {},
   "outputs": [
    {
     "name": "stdout",
     "output_type": "stream",
     "text": [
      "Starting count:30\n",
      "Starting count:27\n",
      "Starting count:24\n",
      "Starting count:21\n",
      "Starting count:18\n",
      "Starting count:15\n",
      "Starting count:12\n",
      "Starting count:9\n",
      "Starting count:6\n",
      "Starting count:3\n"
     ]
    }
   ],
   "source": [
    "#While loop\n",
    "tap = True\n",
    "time_limit = 30\n",
    "while tap:\n",
    "    print(f\"Starting count:{time_limit}\")\n",
    "    time_limit -= 3\n",
    "    if time_limit == 0:\n",
    "        tap = False"
   ]
  },
  {
   "cell_type": "code",
   "execution_count": 65,
   "metadata": {},
   "outputs": [
    {
     "name": "stdout",
     "output_type": "stream",
     "text": [
      "Enter a number for number to be printed: 12\n",
      "<class 'int'>\n",
      "Starting count:12\n",
      "Starting count:24\n",
      "Starting count:36\n",
      "Starting count:48\n",
      "Starting count:60\n",
      "Starting count:72\n",
      "Starting count:84\n",
      "Starting count:96\n",
      "Starting count:108\n",
      "Starting count:120\n",
      "Limit Reached:  12\n"
     ]
    }
   ],
   "source": [
    "#While loop to print the table of a number\n",
    "tap = True\n",
    "table = int(input(\"Enter a number for number to be printed: \"))\n",
    "time_limit = table\n",
    "print(type(time_limit))\n",
    "time_limit_reached = table * 10\n",
    "while tap:\n",
    "    print(f\"Starting count:{time_limit}\")\n",
    "    time_limit += table\n",
    "    if time_limit > time_limit_reached:\n",
    "        print(f\"Limit Reached: \",table)\n",
    "        tap = False"
   ]
  },
  {
   "cell_type": "code",
   "execution_count": null,
   "metadata": {},
   "outputs": [],
   "source": [
    "data = input(f\"Enter the text\")\n",
    "j = 0\n",
    "while j < len(data) and data[j] != 'X' :\n",
    "    print(data[j])\n",
    "    j += 1"
   ]
  },
  {
   "cell_type": "code",
   "execution_count": 103,
   "metadata": {},
   "outputs": [
    {
     "name": "stdout",
     "output_type": "stream",
     "text": [
      "Enter elements , S to stop:\n",
      "\n",
      ":10\n",
      ":34\n",
      ":S\n",
      "my_list[0:len(my_list)], biggest is 34\n"
     ]
    }
   ],
   "source": [
    "# program to find the largest element in the array\n",
    "def largest_ele():\n",
    "    my_list = []\n",
    "    ele = 0\n",
    "    print(f\"Enter elements , S to stop:\\n\")\n",
    "    while ele != 'S':\n",
    "        ele = input(f\":\")\n",
    "        if ele == 'S':\n",
    "            break\n",
    "        my_list.append(int(ele))\n",
    "    big = my_list[0]\n",
    "    for each in my_list:\n",
    "        if each > big:\n",
    "            big = each\n",
    "    print(f\"my_list[0:len(my_list)], biggest is {big}\")\n",
    "\n",
    "largest_ele()"
   ]
  },
  {
   "cell_type": "code",
   "execution_count": 118,
   "metadata": {},
   "outputs": [
    {
     "name": "stdout",
     "output_type": "stream",
     "text": [
      "[0, 1, 2, 3, 4, 5, 6, 7, 8, 9, 10]\n"
     ]
    }
   ],
   "source": [
    "item_list = []\n",
    "for i in range(0,11):\n",
    "    item_list.append(i)\n",
    "    \n",
    "print(item_list)"
   ]
  },
  {
   "cell_type": "code",
   "execution_count": 127,
   "metadata": {
    "scrolled": true
   },
   "outputs": [
    {
     "name": "stdout",
     "output_type": "stream",
     "text": [
      "[0, 1, 2, 3, 4, 5, 6, 7, 8, 9, 10]\n",
      "Entry target element:5\n",
      "target is:  5\n",
      "5 is present in items at None\n",
      "\n"
     ]
    }
   ],
   "source": [
    "loc = None\n",
    "flag = False\n",
    "print(item_list)\n",
    "target = input(f\"Entry target element:\")\n",
    "print(\"target is: \",target)\n",
    "for i in range(0,11):\n",
    "    if item_list[i] == target:\n",
    "        flag = True\n",
    "        loc = i\n",
    "print(f\"{target} is present in items at {loc}\\n\")"
   ]
  },
  {
   "cell_type": "code",
   "execution_count": 149,
   "metadata": {},
   "outputs": [
    {
     "name": "stdout",
     "output_type": "stream",
     "text": [
      "Enter target:5\n",
      "[0, 1, 2, 3, 4, 5, 6, 7, 8, 9, 10]\n",
      "5\n",
      "5 is True\n"
     ]
    }
   ],
   "source": [
    "target = int(input(\"Enter target:\"))\n",
    "print(item_list)\n",
    "# print(type(item_list))\n",
    "# print(type(target))\n",
    "found = False\n",
    "for item in item_list:\n",
    "    if item == target:\n",
    "        print(item)\n",
    "        found = True\n",
    "        break\n",
    "        \n",
    "print(f\"{target} is {found}\")"
   ]
  },
  {
   "cell_type": "code",
   "execution_count": 157,
   "metadata": {
    "collapsed": true
   },
   "outputs": [],
   "source": [
    "food = {\"ham\" : \"yes\", \"egg\" : \"yes\", \"spam\" : \"no\" } \n",
    "m_l = [0, 1, 2, 3, 4, 5, 6, 7, 8, 9, 10]\n",
    "string = \"Prathamesh\"\n",
    "my_tuple = tuple(string)\n",
    "def menu_checker():\n",
    "    choice = input(f\"Enter what you wan't to enquire : \")\n",
    "    for i in food:\n",
    "        if choice == i:\n",
    "            print(food[i])\n",
    "            choice = input(\"Anything Else: \")\n",
    "            if choice != \"No\":\n",
    "                continue\n",
    "            else:\n",
    "                break"
   ]
  },
  {
   "cell_type": "code",
   "execution_count": 158,
   "metadata": {},
   "outputs": [
    {
     "name": "stdout",
     "output_type": "stream",
     "text": [
      "Enter what you wan't to enquire : ham\n",
      "yes\n",
      "Anything Else: egg\n",
      "yes\n",
      "Anything Else: spam\n",
      "no\n",
      "Anything Else: No\n"
     ]
    }
   ],
   "source": [
    "menu_checker()"
   ]
  },
  {
   "cell_type": "code",
   "execution_count": 165,
   "metadata": {},
   "outputs": [
    {
     "name": "stdout",
     "output_type": "stream",
     "text": [
      "['In', 'Out', '_', '__', '___', '__builtin__', '__builtins__', '__doc__', '__loader__', '__name__', '__package__', '__spec__', '_dh', '_i', '_i1', '_i10', '_i100', '_i101', '_i102', '_i103', '_i104', '_i105', '_i106', '_i107', '_i108', '_i109', '_i11', '_i110', '_i111', '_i112', '_i113', '_i114', '_i115', '_i116', '_i117', '_i118', '_i119', '_i12', '_i120', '_i121', '_i122', '_i123', '_i124', '_i125', '_i126', '_i127', '_i128', '_i129', '_i13', '_i130', '_i131', '_i132', '_i133', '_i134', '_i135', '_i136', '_i137', '_i138', '_i139', '_i14', '_i140', '_i141', '_i142', '_i143', '_i144', '_i145', '_i146', '_i147', '_i148', '_i149', '_i15', '_i150', '_i151', '_i152', '_i153', '_i154', '_i155', '_i156', '_i157', '_i158', '_i159', '_i16', '_i160', '_i161', '_i162', '_i163', '_i164', '_i165', '_i17', '_i18', '_i19', '_i2', '_i20', '_i21', '_i22', '_i23', '_i24', '_i25', '_i26', '_i27', '_i28', '_i29', '_i3', '_i30', '_i31', '_i32', '_i33', '_i34', '_i35', '_i36', '_i37', '_i38', '_i39', '_i4', '_i40', '_i41', '_i42', '_i43', '_i44', '_i45', '_i46', '_i47', '_i48', '_i49', '_i5', '_i50', '_i51', '_i52', '_i53', '_i54', '_i55', '_i56', '_i57', '_i58', '_i59', '_i6', '_i60', '_i61', '_i62', '_i63', '_i64', '_i65', '_i66', '_i67', '_i68', '_i69', '_i7', '_i70', '_i71', '_i72', '_i73', '_i74', '_i75', '_i76', '_i77', '_i78', '_i79', '_i8', '_i80', '_i81', '_i82', '_i83', '_i84', '_i85', '_i86', '_i87', '_i88', '_i89', '_i9', '_i90', '_i91', '_i92', '_i93', '_i94', '_i95', '_i96', '_i97', '_i98', '_i99', '_ih', '_ii', '_iii', '_oh', 'big', 'bool_var', 'choice', 'data', 'ele', 'exit', 'flag', 'food', 'found', 'get_ipython', 'h', 'i', 'item', 'item_list', 'j', 'l', 'largest_ele', 'li', 'limit', 'loc', 'm_l', 'menu_checker', 'my_bool_var', 'my_dict', 'my_dir', 'my_fuction', 'my_list', 'my_range', 'my_str', 'my_tuple', 'quit', 's', 'string', 't', 'table', 'tap', 'target', 'text', 'time', 'time_limit', 'time_limit_reached', 'variables', 'varibles', 'word']\n",
      "Variable:{'__name__': '__main__', '__doc__': 'Automatically created module for IPython interactive environment', '__package__': None, '__loader__': None, '__spec__': None, '__builtin__': <module 'builtins' (built-in)>, '__builtins__': <module 'builtins' (built-in)>, '_ih': ['', '# my_list= ()\\nif __name__ == \"__main__\":', '# my_list= ()\\nif __name__ == \"__main__\":\\n    print(\"Only if this is the main program and not beong imported from any other module\")\\nelse:\\n    print(\"This is imported\")', 'my_list = list()\\nprint(my_list)', 'my_dict = dict()\\nprint(my_dict)', 'my_tuple = tuple()\\nprint(my_tuple)', 'bool_var = True\\nprint(bool_var)', 'my_str = \"Prathamesh\"\\nprint(my_str)', 'my_bool_var = bool()\\nprint(my_bool_var)\\n# set \\n#frozenset', 'my_bool_var = bool()\\nprint(\"Default value of bool var is: \"my_bool_var)\\n# set \\n#frozenset', 'my_bool_var = bool()\\nprint(\"Default value of bool var is: \",my_bool_var)\\n# set \\n#frozenset', 's = \"Prathamesh\"\\nprint(f\"My short name is {s[0:6]}\")', 's = \"Prathamesh\"\\nprint(f\"My short name is {s[0:7]}\")', 's = \"Prathamesh\"\\nprint(f\"My short name is {s[0:7]}\")\\nprint(s[7])', 's = \"Prathamesh\"\\nprint(f\"My short name is {s[0:7]}\")\\nprint(s[6)', 's = \"Prathamesh\"\\nprint(f\"My short name is {s[0:7]}\")\\nprint(s[6])', 's = \"Prathamesh\"\\nprint(f\"My short name is {s[0:7]}\")\\nprint(s[6])\\nprint(s[0:10:2])', 's = \"Prathamesh\"\\nprint(f\"My short name is {s[0:7]}\")\\nprint(s[6])\\nprint(s[0:10:1])', 's = \"Prathamesh\"\\nprint(f\"My short name is {s[0:7]}\")\\nprint(s[6])\\nprint(s[0:10:-2])', 's = \"Prathamesh\"\\nprint(f\"My short name is {s[0:7]}\")\\nprint(s[6])\\nprint(s[0:10:-1])', 's = \"Prathamesh\"\\nprint(f\"My short name is {s[0:7]}\")\\nprint(s[6])\\nprint(s[0:10:1])', 's = \"Prathamesh\"\\nprint(f\"My short name is {s[0:7]}\")\\nprint(s[6])\\nprint(s[0:10:2])', 's = \"Prathamesh\"\\nprint(f\"My short name is {s[0:7]}\")\\nprint(s[6])\\nprint(s[0:10:2])\\nprint([-1])', 's = \"Prathamesh\"\\nprint(f\"My short name is {s[0:7]}\")\\nprint(s[6])\\nprint(s[0:10:2])\\nprint(s[-1])', 's = \"Prathamesh\"\\nprint(f\"My short name is {s[0:7]}\")\\nprint(s[6])\\nprint(s[0:10:2])\\nprint(s[0:-1])', 's = \"Prathamesh\"\\nprint(f\"My short name is {s[0:7]}\")\\nprint(s[6])\\nprint(s[0:10:2])\\nprint(del(s[-1]))', 's = \"Prathamesh\"\\nprint(f\"My short name is {s[0:7]}\")\\nprint(s[6])\\nprint(s[0:10:2])\\nprint()', 's = \"Prathamesh\"\\nprint(f\"My short name is {s[0:7]}\")\\nprint(s[6])\\nprint(s[0:10:2])\\ndel(s[-1])\\nprint(s)', 's = \"Prathamesh\"\\nt= [1,2,3,4,5,6]\\nprint(f\"My short name is {s[0:7]}\")\\nprint(s[6])\\nprint(s[0:10:2])\\ndel(t[-1])\\nprint(t)', 's = \"Prathamesh\"\\nt= [1,2,3,4,5,6]\\nprint(f\"My short name is {s[0:7]}\")\\nprint(s[6])\\nprint(s[0:10:2])\\ndel(t[-1])\\nprint(t)\\nif \\'h\\' in t:\\n    print(t)', 's = \"Prathamesh\"\\nt= [1,2,3,4,5,6]\\nprint(f\"My short name is {s[0:7]}\")\\nprint(s[6])\\nprint(s[0:10:2])\\ndel(t[-1])\\nprint(t)\\nif \\'h\\' in t:\\n    print(t)\\nelse:\\n    print(\"Not present\")', 's = \"Prathamesh\"\\nt= [1,2,3,4,5,6]\\nprint(f\"My short name is {s[0:7]}\")\\nprint(s[6])\\nprint(s[0:10:2])\\ndel(t[-1])\\nprint(t)\\nh= \\'h\\'\\nif h in t:\\n    print(t)\\nelse:\\n    print(\"Not present\")', 's = \"Prathamesh\"\\nt= [1,2,3,4,5,6]\\nprint(f\"My short name is {s[0:7]}\")\\nprint(s[6])\\nprint(s[0:10:2])\\ndel(t[-1])\\nprint(t)\\nh= \\'h\\'\\nif h in t:\\n    print(t)\\nelse:\\n    print(\"Not present\")', 's = \"Prathamesh\"\\nt= [1,2,3,4,5,6]\\nprint(f\"My short name is {s[0:7]}\")\\nprint(s[6])\\nprint(s[0:10:2])\\ndel(t[-1])\\nprint(t)\\nh= \\'h\\'\\nif h in s:\\n    print(t)\\nelse:\\n    print(\"Not present\")', 's = \"Prathamesh\"\\nt= [1,2,3,4,5,6]\\nprint(f\"My short name is {s[0:7]}\")\\nprint(s[6])\\nprint(s[0:10:2])\\ndel(t[-1])\\nprint(t)\\nh= input(\"Enter letter in your name:\")\\nif h in s:\\n    print(t)\\nelse:\\n    print(\"Not present\")', '#while Loop\\nfrom datetime import time\\nprint(time)\\n# tap = True\\n# curr_time = \\n# while tap: \\n    \\n#     print(\"_-_-_-_\\\\n\")\\n#     print(\"\\\\n\")', '#while Loop\\nfrom datetime import time\\nprint(datetime)\\n# tap = True\\n# curr_time = \\n# while tap: \\n    \\n#     print(\"_-_-_-_\\\\n\")\\n#     print(\"\\\\n\")', '#while Loop\\nfrom datetime import time\\nprint(time)\\n# tap = True\\n# curr_time = \\n# while tap: \\n    \\n#     print(\"_-_-_-_\\\\n\")\\n#     print(\"\\\\n\")', '#while Loop\\nfrom datetime import time\\nprint(curr_time)\\n# tap = True\\n# curr_time = \\n# while tap: \\n    \\n#     print(\"_-_-_-_\\\\n\")\\n#     print(\"\\\\n\")', '#while Loop\\nfrom datetime import time\\ncurr_time = datetime.datetime.now()\\nprint(curr_time)\\n# tap = True\\n# curr_time = \\n# while tap: \\n    \\n#     print(\"_-_-_-_\\\\n\")\\n#     print(\"\\\\n\")', '#While loop', '#While loop\\ntap = True\\ntime_limit = 30\\nwhile tap:\\n    print(f\"Starting count:{time_limit}\")\\n    time_limit -= 3\\n    if time_limit == 0:\\n        tap = False', '#While loop\\ntap = True\\ntime_limit = 0\\nwhile tap:\\n    print(f\"Starting count:{time_limit}\")\\n    time_limit += 3\\n    if time_limit == 30:\\n        tap = False', '#While loop\\ntap = True\\ntime_limit = 3\\nwhile tap:\\n    print(f\"Starting count:{time_limit}\")\\n    time_limit += 3\\n    if time_limit == 30:\\n        tap = False', '#While loop\\ntap = True\\ntime_limit = 3\\nwhile tap:\\n    print(f\"Starting count:{time_limit}\")\\n    time_limit += 3\\n    if time_limit >= 30:\\n        tap = False', '#While loop\\ntap = True\\ntime_limit = 3\\nwhile tap:\\n    print(f\"Starting count:{time_limit}\")\\n    time_limit += 3\\n    if time_limit > 30:\\n        tap = False', '#While loop\\ntap = True\\ntable = input(\"Enter Which Table you want to print\")\\ntime_limit = table\\nwhile tap:\\n    print(f\"Starting count:{time_limit}\")\\n    time_limit += table\\n    if time_limit > (table * 10):\\n        tap = False', '#While loop\\ntap = True\\ntable = input(\"Enter Which Table you want to print\")\\ntime_limit = table\\nwhile tap:\\n    print(f\"Starting count:{time_limit}\")\\n    time_limit += table\\n    if time_limit > (table * 10):\\n        tap = False', '#While loop\\ntap = True\\ntable = input(\"Enter Which Table you want to print\")\\ntime_limit = table\\nwhile tap:\\n    print(f\"Starting count:{time_limit}\")\\n    time_limit += table\\n    if time_limit > (table * 10):\\n        print(table)\\n        tap = False', '#While loop\\ntap = True\\ntable = input(\"Enter Which Table you want to print\")\\ntime_limit_reached = table * 10\\nwhile tap:\\n    print(f\"Starting count:{time_limit}\")\\n    time_limit += table\\n    if time_limit > time_limit_reached:\\n        print(f\"Limit Reached: \",table)\\n        tap = False', '#While loop\\ntap = True\\ntable = input(\"Enter Which Table you want to print: \")\\ntime_limit = table\\ntime_limit_reached = table * 10\\nwhile tap:\\n    print(f\"Starting count:{time_limit}\")\\n    time_limit += table\\n    if time_limit > time_limit_reached:\\n        print(f\"Limit Reached: \",table)\\n        tap = False', 'table = input(f\"Enter which table to print\\\\n\")\\ntap = True\\nlimit = table * 10\\nwhile tap:\\n    print(table)\\n    if table > limit:\\n        tap = False\\n    table +=table', 'table = input(f\"Enter which table to print\\\\n\")\\ntap = 1\\nlimit = table * 10\\nwhile tap:\\n    print(table)\\n    if table > limit:\\n        break\\n    table = i * table\\n    i += 1', 'table = input(f\"Enter which table to print\\\\n\")\\ntap = 1\\nlimit = table * 10\\nwhile tap:\\n    print(table)\\n    if table > limit:\\n        break\\n    table = i * table\\n    tap -= 1', 'table = input(f\"Enter which table to print\\\\n\")\\ntap = 1\\nlimit = table * 10\\nwhile tap:\\n    print(table)\\n    if table > limit:\\n        break\\n    table = tap * table\\n    tap -= 1', '#While loop\\ntap = True\\ntable = input(\"Enter Which Table you want to print: \")\\ntime_limit = table\\ntime_limit_reached = table * 10\\nwhile tap:\\n    print(f\"Starting count:{time_limit}\")\\n    time_limit += int(table)\\n    if time_limit > time_limit_reached:\\n        print(f\"Limit Reached: \",table)\\n        tap = False', '#While loop\\ntap = True\\ntable = input(\"Enter Which Table you want to print: \")\\ntime_limit = int(table)\\ntime_limit_reached = table * 10\\nwhile tap:\\n    print(f\"Starting count:{time_limit}\")\\n    time_limit += table\\n    if time_limit > time_limit_reached:\\n        print(f\"Limit Reached: \",table)\\n        tap = False', '#While loop\\ntap = True\\ntable = input(\"Enter Which Table you want to print: \")\\ntime_limit = table\\nprint(time_limit)\\n# time_limit_reached = table * 10\\n# while tap:\\n#     print(f\"Starting count:{time_limit}\")\\n#     time_limit += table\\n#     if time_limit > time_limit_reached:\\n#         print(f\"Limit Reached: \",table)\\n#         tap = False', '#While loop\\ntap = True\\ntable = input(\"Enter Which Table you want to print: \")\\ntime_limit = table\\nprint(type(time_limit))\\n# time_limit_reached = table * 10\\n# while tap:\\n#     print(f\"Starting count:{time_limit}\")\\n#     time_limit += table\\n#     if time_limit > time_limit_reached:\\n#         print(f\"Limit Reached: \",table)\\n#         tap = False', '#While loop\\ntap = True\\ntable = input(\"Enter a number: \")\\ntime_limit = table\\nprint(type(time_limit))\\n# time_limit_reached = table * 10\\n# while tap:\\n#     print(f\"Starting count:{time_limit}\")\\n#     time_limit += table\\n#     if time_limit > time_limit_reached:\\n#         print(f\"Limit Reached: \",table)\\n#         tap = False', '#While loop\\ntap = True\\ntable = int(input(\"Enter a number: \"))\\ntime_limit = table\\nprint(type(time_limit))\\n# time_limit_reached = table * 10\\n# while tap:\\n#     print(f\"Starting count:{time_limit}\")\\n#     time_limit += table\\n#     if time_limit > time_limit_reached:\\n#         print(f\"Limit Reached: \",table)\\n#         tap = False', '#While loop\\ntap = True\\ntable = int(input(\"Enter a number: \"))\\ntime_limit = table\\nprint(type(time_limit))\\ntime_limit_reached = table * 10\\nwhile tap:\\n    print(f\"Starting count:{time_limit}\")\\n    time_limit += table\\n    if time_limit > time_limit_reached:\\n        print(f\"Limit Reached: \",table)\\n        tap = False', '#While loop\\ntap = True\\ntable = int(input(\"Enter a number for number to be printed: \"))\\ntime_limit = table\\nprint(type(time_limit))\\ntime_limit_reached = table * 10\\nwhile tap:\\n    print(f\"Starting count:{time_limit}\")\\n    time_limit += table\\n    if time_limit > time_limit_reached:\\n        print(f\"Limit Reached: \",table)\\n        tap = False', '#While loop\\ntap = True\\ntable = int(input(\"Enter a number for number to be printed: \"))\\ntime_limit = table\\nprint(type(time_limit))\\ntime_limit_reached = table * 10\\nwhile tap:\\n    print(f\"Starting count:{time_limit}\")\\n    time_limit += table\\n    if time_limit > time_limit_reached:\\n        print(f\"Limit Reached: \",table)\\n        tap = False', '#While loop\\ntap = True\\ntable = int(input(\"Enter a number for number to be printed: \"))\\ntime_limit = table\\nprint(type(time_limit))\\ntime_limit_reached = table * 10\\nwhile tap:\\n    print(f\"Starting count:{time_limit}\")\\n    time_limit += table\\n    if time_limit > time_limit_reached:\\n        print(f\"Limit Reached: \",table)\\n        tap = False', '#While loop to print the table of a number\\ntap = True\\ntable = int(input(\"Enter a number for number to be printed: \"))\\ntime_limit = table\\nprint(type(time_limit))\\ntime_limit_reached = table * 10\\nwhile tap:\\n    print(f\"Starting count:{time_limit}\")\\n    time_limit += table\\n    if time_limit > time_limit_reached:\\n        print(f\"Limit Reached: \",table)\\n        tap = False', 'text = input(f\"Enter some text\\\\n\")\\nif type(text) != str:\\n    print(\"Enter text\")', 'text = input(f\"Enter some text\\\\n\")\\nif type(text) = str:\\n    print(\"Enter text\")', 'text = input(f\"Enter some text\\\\n\")\\nif type(text) == str:\\n    print(\"Enter text\")', 'text = input(f\"Enter some text\\\\n\")\\nif type(text) != str:\\n    print(\"Enter text\")', 'text = input(f\"Enter some text\\\\n\")\\nif type(text) != str:\\n    print(\"Enter text\")\\n    exit()', 'text = input(f\"Enter some text\\\\n\")\\nif type(text) != str:\\n    print(\"Enter text\")\\n    exit()', 'text = input(f\"Enter some text\\\\n\")\\nprint(type(text))\\nif type(text) != str:\\n    print(\"Enter text\")\\n    exit()', 'text = input(f\"Enter some text\\\\n\")\\nprint(type(text))\\nif type(text) != str:\\n    print(\"Enter text\")\\n    exit()', 'text = input(f\"Enter some text\\\\n\")\\nprint(type(text))\\nif type(text) != str:\\n    print(\"Enter text\")', 'text = input(f\"Enter some text\\\\n\")\\nprint(type(text))\\nif type(text) != str:\\n    print(\"Enter text\")\\nword = input(f\"Enter the word to be entered\")\\nif word in text:\\n    print(f\"Its there\")', 'text = input(f\"Enter some text\\\\n\")\\nprint(type(text))\\nif type(text) != str:\\n    print(\"Enter text\")\\nword = input(f\"Enter the word to be entered\")\\nif word in text:\\n    print(f\"Its there\")', 'text = input(f\"Enter some text\\\\n\")\\nprint(type(text))\\nif type(text) != str:\\n    print(\"Enter text\")\\nword = input(f\"Enter the word to be entered\")\\nif word in text:\\n    print(f\"Its there\")\\nl = 0\\nwhile l < len(text) and text[l] == word:\\n    print(f\"{Word} is at {l}\")\\n    l += 1', 'text = input(f\"Enter some text\\\\n\")\\nprint(type(text))\\nif type(text) != str:\\n    print(\"Enter text\")\\nword = input(f\"Enter the word to be entered:\")\\nif word in text:\\n    print(f\"Its there\")\\nl = 0\\nwhile l < len(text) and text[l] == word:\\n    print(f\"{Word} is at {l}\")\\n    l += 1', 'text = input(f\"Enter some text\\\\n\")\\nprint(type(text))\\nif type(text) != str:\\n    print(\"Enter text\")\\nword = input(f\"Enter the word to be entered:\")\\nif word in text:\\n    print(f\"Its there\")\\nl = 0\\nwhile l < len(text) and text[l] == word:\\n    print(f\"{word} is at {l}\")\\n    l += 1', 'text = input(f\"Enter some text\\\\n\")\\nprint(type(text))\\nif type(text) != str:\\n    print(\"Enter text\")\\nword = input(f\"Enter the word to be entered:\")\\n# if word in text:\\n#     print(f\"Its there\")\\n# l = 0\\nwhile l < len(text) and text[l] == word:\\n    print(f\"{word} is at {l}\")\\n    l += 1', 'text = input(f\"Enter some text\\\\n\")\\nprint(type(text))\\nif type(text) != str:\\n    print(\"Enter text\")\\nword = input(f\"Enter the word to be entered:\")\\n# if word in text:\\n#     print(f\"Its there\")\\n# l = 0\\nwhile l < len(text) and text[l] == word:\\n    print(f\"{word} is at {l}\")\\n    l += 1', 'text = input(f\"Enter some text\\\\n\")\\nprint(type(text))\\nif type(text) != str:\\n    print(\"Enter text\")\\nword = input(f\"Enter the word to be entered:\")\\n# if word in text:\\n#     print(f\"Its there\")\\n# l = 0\\nwhile l < len(text) and text[l] == word:\\n    print(f\"{word} is at {l}\")\\n    l += 1', 'text = input(f\"Enter some text\\\\n\")\\nprint(type(text))\\nif type(text) != str:\\n    print(\"Enter text\")\\nword = input(f\"Enter the word to be entered:\")\\n# if word in text:\\n#     print(f\"Its there\")\\n# l = 0\\nprint(len(text))\\nwhile l < len(text) and text[l] == word:\\n    print(f\"{word} is at {l}\")\\n    l += 1', 'text = input(f\"Enter some text\\\\n\")\\nprint(type(text))\\nif type(text) != str:\\n    print(\"Enter text\")\\nword = input(f\"Enter the word to be entered:\")\\n# if word in text:\\n#     print(f\"Its there\")\\nl = 0\\nprint(len(text), text[l])\\nwhile l < len(text) and text[l] == word:\\n    print(f\"{word} is at {l}\")\\n    l += 1', \"j= 0 \\nwhile j < len(data) and data[j] == 's':\\n    print(j)\\n    j += 1\", 'data = input(f\"Enter the text\")\\nj= 0 \\nwhile j < len(data) and data[j] == \\'s\\':\\n    print(j)\\n    j += 1', 'data = input(f\"Enter the text\")\\nj= 0 \\nwhile j < len(data) and data[j] != \\'s\\':\\n    print(j)\\n    j += 1', 'data = input(f\"Enter the text\")\\nj= 0 \\nwhile j < len(data) and data[j] != \\'s\\':\\n#     print(j)\\n    j += 1', 'data = input(f\"Enter the text\")\\n# j= 0 \\n# while j < len(data) and data[j] != \\'s\\':\\n# #     print(j)\\n#     j += 1\\nj = 0\\nwhile j < len(data) and data[j] != \\'X\\' :\\n    print(data[j])\\n    j += 1', 'data = input(f\"Enter the text\")\\n# j= 0 \\n# while j < len(data) and data[j] != \\'s\\':\\n# #     print(j)\\n#     j += 1\\nj = 0\\nwhile j < len(data) and data[j] != \\'X\\' :\\n    print(data[j] + =data[j])\\n    j += 1', 'data = input(f\"Enter the text\")\\n# j= 0 \\n# while j < len(data) and data[j] != \\'s\\':\\n# #     print(j)\\n#     j += 1\\nj = 0\\nwhile j < len(data) and data[j] != \\'X\\' :\\n    print(data[j] += data[j])\\n    j += 1', 'data = input(f\"Enter the text\")\\n# j= 0 \\n# while j < len(data) and data[j] != \\'s\\':\\n# #     print(j)\\n#     j += 1\\nj = 0\\nwhile j < len(data) and data[j] != \\'X\\' :\\n    print(data[j])\\n    j += 1', '# iterables in python are list, dict, set, str or file\\ndata = [input(f\"Enter nums\")]\\n\\nbig = data[0]\\n\\nfor ele in data:\\n    if ele >= big:\\n        big = ele\\nprint(big)', '# iterables in python are list, dict, set, str or file\\ndata = [input(f\"Enter nums: \")]\\n\\nbig = data[0]\\n\\nfor ele in data:\\n    if ele >= big:\\n        big = ele\\nprint(f\"big is: \",big)', '# iterables in python are list, dict, set, str or file\\ndata = [input(f\"Enter nums: \")]\\nprint(data)\\nbig = data[0]\\n\\nfor ele in data:\\n    if ele >= big:\\n        big = ele\\nprint(f\"big is: \",big)', '# iterables in python are list, dict, set, str or file\\ndata = [input(f\"Enter nums: \")]\\nprint(data)\\nbig = data[0]\\nprint(big)\\nfor ele in data:\\n    if ele >= big:\\n        big = ele\\nprint(f\"big is: \",big)', '# program to find the largest element in the array\\ndef largest_ele():', '# program to find the largest element in the array\\ndef largest_ele():\\n    ele = input(f\"Enter elements:\")\\n    print(ele)', 'largest_ele()', '# program to find the largest element in the array\\ndef largest_ele():\\n    my_list = []\\n    ele = input(f\"Enter elements, S to stop:\")\\n    while ele != \\'S\\':\\n        my_list.append(ele)\\n    print(my_list)', 'largest_ele()', 'largest_ele()', '# program to find the largest element in the array\\ndef largest_ele():\\n    my_list = []\\n    ele = 0\\n    print(f\"Enter elements , S to stop:\\\\n\")\\n    while ele != \\'S\\':\\n        ele = input(f\":\")\\n        if ele == \\'S\\':\\n            break\\n        my_list.append(int(ele))\\n    big = my_list[0]\\n    for each in my_list:\\n        if each > big:\\n            big = each\\n    print(f\"my_list[0:len(my_list)], biggest is {big}\")\\n\\nlargest_ele()', 'my_range = range(len(my_list))', 'my_range = range(len(my_list))\\nprint(my_range)', 'li = list()\\nprint(li)', 'li = list()\\nli = range(0,11)\\nprint(li)', 'li = list()\\nli = [range(0,11)]\\nprint(li)', 'li = list()\\nli = range(0,11)\\nprint([li])', 'li = list()\\nli = range(0,11)\\nprint([li])', 'li = list()\\nli = range(11)\\nprint([li])', 'li = list()\\nli = range(11)\\nprint([li])', 'li = list()\\nli = range(11)\\nprint([li])', 'li = list()\\nli = range(11)\\nprint(li)', 'li = list()\\nli = range(0,11)\\nprint(li)', 'for i in rnage(0,11):\\nprint(li)', 'item_list = []\\nfor i in rnage(0,11):\\n    item_list.append(i)\\n    \\nprint(item_list)', 'item_list = []\\nfor i in range(0,11):\\n    item_list.append(i)\\n    \\nprint(item_list)', 'item = item_list\\ntarget = input(f\"Entry target element:\")\\nfor i in range(0,11):\\n    if item[i] == target:\\n        print(f\"{item[i]} is present in items at {i}}\\\\n\")\\n    else:\\n        print(f\"{target} is not present in {item}\")', 'item = item_list\\ntarget = input(f\"Entry target element:\")\\nfor i in range(0,11):\\n    if item[i] == target:\\n        print(f\"{item[i]} is present in items at {i}\\\\n\")\\n    else:\\n        print(f\"{target} is not present in {item}\")', 'print(item_list)\\ntarget = input(f\"Entry target element:\")\\nfor i in range(0,11):\\n    if item_list[i] == target:\\n        print(f\"{item_list[i]} is present in items at {i}\\\\n\")\\n    else:\\n        print(f\"{target} is not present in item_list\")', 'print(item_list)\\ntarget = input(f\"Entry target element:\")\\nprint(target)\\nfor i in range(0,11):\\n    if item_list[i] == target:\\n        print(f\"{target} is present in items at {i}\\\\n\")\\n    else:\\n        print(f\"{target} is not present in item_list\")', 'print(item_list)\\ntarget = input(f\"Entry target element:\")\\nprint(\"target is: \",target)\\nfor i in range(0,11):\\n    if item_list[i] == target:\\n        return True\\n        #print(f\"{target} is present in items at {i}\\\\n\")\\n    else:\\n        return False#print(f\"{target} is not present in item_list\")', '\\nflag = False\\nprint(item_list)\\ntarget = input(f\"Entry target element:\")\\nprint(\"target is: \",target)\\nfor i in range(0,11):\\n    if item_list[i] == target:\\n#         print(f\"{target} is present in items at {i}\\\\n\")\\n        flag = True\\n#         print(f\"{target} is not present in item_list\")\\nprint(f\"{target} is present in items at {i}\\\\n\")', 'loc = None\\nflag = False\\nprint(item_list)\\ntarget = input(f\"Entry target element:\")\\nprint(\"target is: \",target)\\nfor i in range(0,11):\\n    if item_list[i] == target:\\n#         print(f\"{target} is present in items at {i}\\\\n\")\\n        flag = True\\n        loc = i\\n#         print(f\"{target} is not present in item_list\")\\nprint(f\"{target} is present in items at {loc}\\\\n\")', 'loc = None\\nflag = False\\nprint(item_list)\\ntarget = input(f\"Entry target element:\")\\nprint(\"target is: \",target)\\nfor i in range(0,11):\\n    if item_list[i] == target:\\n        flag = True\\n        loc = i\\n#         print(f\"{target} is not present in item_list\")\\nprint(f\"{target} is present in items at {loc}\\\\n\")', 'loc = None\\nflag = False\\nprint(item_list)\\ntarget = input(f\"Entry target element:\")\\nprint(\"target is: \",target)\\nfor i in range(0,11):\\n    if item_list[i] == target:\\n        flag = True\\n        loc = i\\nprint(f\"{target} is present in items at {loc}\\\\n\")', 'for item in item_list:\\n    if item == target:\\n        found = True\\n        break\\nprint(f\"{item} is {found}\")', 'found = False\\nfor item in item_list:\\n    if item == target:\\n        found = True\\n        break\\nprint(f\"{item} is {found}\")', 'target = input(\"Enter target:\")\\nprint(item_list)\\nfound = False\\nfor item in item_list:\\n    if item == target:\\n        found = True\\n        break\\nprint(f\"{item} is {found}\")', 'target = input(\"Enter target:\")\\nprint(item_list)\\nfound = False\\nfor item in item_list:\\n    if item == target:\\n        print({item}: {target})\\n        found = True\\n        break\\nprint(f\"{item} is {found}\")', 'target = input(\"Enter target:\")\\nprint(item_list)\\nfound = False\\nfor item in item_list:\\n    if item == target:\\n        print(f\"{item} {target}\")\\n        found = True\\n        break\\nprint(f\"{item} is {found}\")', 'target = input(\"Enter target:\")\\nprint(item_list)\\nfound = False\\nfor item in item_list:\\n    if item == target:\\n        found = True\\n        print(f\"{item} {target}\")\\n        break\\nprint(f\"{item} is {found}\")', 'target = input(\"Enter target:\")\\nprint(item_list)\\nfound = False\\nfor item in item_list:\\n    print(item)\\n    if item == target:\\n        found = True\\n        print(f\"{item} {target}\")\\n        break\\nprint(f\"{item} is {found}\")', 'target = input(\"Enter target:\")\\nprint(item_list)\\nfound = False\\nfor item in item_list:\\n    print(item, target)\\n    if item == target:\\n        found = True\\n        print(f\"{item} {target}\")\\n        break\\nprint(f\"{item} is {found}\")', 'target = input(\"Enter target:\")\\nprint(item_list)\\nfound = False\\nfor item in item_list:\\n    print(item, target)\\n    if (item == target):\\n        found = True\\n        print(f\"{item} {target}\")\\n        break\\nprint(f\"{item} is {found}\")', 'target = input(\"Enter target:\")\\nprint(item_list)\\nfound = False\\nfor item in item_list:\\n    print(item, target)\\n    if (item == target):\\n        found = True\\n        print(f\"{item} {target}\")\\n    break\\nprint(f\"{target} is {found}\")', 'target = input(\"Enter target:\")\\nprint(item_list)\\nfound = False\\nfor item in item_list:\\n    print(item, target)\\n    if (item == target):\\n        found = True\\n        print(f\"{item} {target}\")\\n        break\\nprint(f\"{target} is {found}\")', 'target = input(\"Enter target:\")\\nprint(item_list)\\nfound = False\\nfor item in item_list:\\n    print(item, target)\\n    if (item == target):\\n#         found = True\\n#         print(f\"{item} {target}\")\\n        break\\nprint(f\"{target} is {found}\")', 'target = input(\"Enter target:\")\\nprint(item_list)\\nfound = False\\nfor item in item_list:\\n    print(item, target)\\n    if (item == target):\\n        found = True\\n        print(f\"{item} {target}\")\\nprint(f\"{target} is {found}\")', 'target = input(\"Enter target:\")\\nprint(item_list)\\nfound = False\\nfor item in item_list:\\n    print item\\n#     print(item, target)\\n#     if (item == target):\\n#         found = True\\n#         print(f\"{item} {target}\")\\nprint(f\"{target} is {found}\")', 'target = input(\"Enter target:\")\\nprint(item_list)\\nfound = False\\nfor item in item_list:\\n    print(item)\\n#     print(item, target)\\n#     if (item == target):\\n#         found = True\\n#         print(f\"{item} {target}\")\\nprint(f\"{target} is {found}\")', 'target = input(\"Enter target:\")\\nprint(item_list)\\nfound = False\\nfor item in item_list:\\n    if (item == target):\\n        print(item)\\n#     print(item, target)\\n#     \\n#         found = True\\n#         print(f\"{item} {target}\")\\nprint(f\"{target} is {found}\")', 'target = input(\"Enter target:\")\\nprint(item_list)\\nprint(type(item_list))\\nprint(type(item))\\nfound = False\\nfor item in item_list:\\n    if (item == target:\\n        print(item)\\n#     print(item, target)\\n#     \\n#         found = True\\n#         print(f\"{item} {target}\")\\nprint(f\"{target} is {found}\")', 'target = input(\"Enter target:\")\\nprint(item_list)\\nprint(type(item_list))\\nprint(type(item))\\nfound = False\\nfor item in item_list:\\n    if item == target:\\n        print(item)\\n#     print(item, target)\\n#     \\n#         found = True\\n#         print(f\"{item} {target}\")\\nprint(f\"{target} is {found}\")', 'target = input(\"Enter target:\")\\nprint(item_list)\\nprint(type(item_list))\\nprint(type(target))\\nfound = False\\nfor item in item_list:\\n    if item == target:\\n        print(item)\\n#     print(item, target)\\n#     \\n#         found = True\\n#         print(f\"{item} {target}\")\\nprint(f\"{target} is {found}\")', 'target = int(input(\"Enter target:\"))\\nprint(item_list)\\nprint(type(item_list))\\nprint(type(target))\\nfound = False\\nfor item in item_list:\\n    if item == target:\\n        print(item)\\n#     print(item, target)\\n#     \\n#         found = True\\n#         print(f\"{item} {target}\")\\nprint(f\"{target} is {found}\")', 'target = int(input(\"Enter target:\"))\\nprint(item_list)\\nprint(type(item_list))\\nprint(type(target))\\nfound = False\\nfor item in item_list:\\n    if item == target:\\n        print(item)\\n        found = True\\n        break\\n        \\nprint(f\"{target} is {found}\")', 'target = int(input(\"Enter target:\"))\\nprint(item_list)\\n# print(type(item_list))\\n# print(type(target))\\nfound = False\\nfor item in item_list:\\n    if item == target:\\n        print(item)\\n        found = True\\n        break\\n        \\nprint(f\"{target} is {found}\")', 'food = {\"ham\" : \"yes\", \"egg\" : \"yes\", \"spam\" : \"no\" } \\nm_l = [0, 1, 2, 3, 4, 5, 6, 7, 8, 9, 10]\\nstring = \"Prathamesh\"\\nmy_tuple = tuple(string,26)\\n\\nfor i in food:\\n    print(i)', 'food = {\"ham\" : \"yes\", \"egg\" : \"yes\", \"spam\" : \"no\" } \\nm_l = [0, 1, 2, 3, 4, 5, 6, 7, 8, 9, 10]\\nstring = \"Prathamesh\"\\nmy_tuple = tuple(string)\\n\\nfor i in food:\\n    print(i)', 'food = {\"ham\" : \"yes\", \"egg\" : \"yes\", \"spam\" : \"no\" } \\nm_l = [0, 1, 2, 3, 4, 5, 6, 7, 8, 9, 10]\\nstring = \"Prathamesh\"\\nmy_tuple = tuple(string)\\n\\nfor i in food:\\n    print(food[i])', 'food = {\"ham\" : \"yes\", \"egg\" : \"yes\", \"spam\" : \"no\" } \\nm_l = [0, 1, 2, 3, 4, 5, 6, 7, 8, 9, 10]\\nstring = \"Prathamesh\"\\nmy_tuple = tuple(string)\\nchoice = input(f\"Enter: \")\\nfor i in food:\\n    if choice == i:\\n        print(food[i])', 'food = {\"ham\" : \"yes\", \"egg\" : \"yes\", \"spam\" : \"no\" } \\nm_l = [0, 1, 2, 3, 4, 5, 6, 7, 8, 9, 10]\\nstring = \"Prathamesh\"\\nmy_tuple = tuple(string)\\nchoice = input(f\"Enter what you wan\\'t to enquire first: \")\\nfor i in food:\\n    if choice == i:\\n        print(food[i])', 'food = {\"ham\" : \"yes\", \"egg\" : \"yes\", \"spam\" : \"no\" } \\nm_l = [0, 1, 2, 3, 4, 5, 6, 7, 8, 9, 10]\\nstring = \"Prathamesh\"\\nmy_tuple = tuple(string)\\ndef menu_checker():\\n    choice = input(f\"Enter what you wan\\'t to enquire first: \")\\n    for i in food:\\n        if choice == i:\\n            print(food[i])\\n            continue', 'menu_checker()', 'food = {\"ham\" : \"yes\", \"egg\" : \"yes\", \"spam\" : \"no\" } \\nm_l = [0, 1, 2, 3, 4, 5, 6, 7, 8, 9, 10]\\nstring = \"Prathamesh\"\\nmy_tuple = tuple(string)\\ndef menu_checker():\\n    choice = input(f\"Enter what you wan\\'t to enquire : \")\\n    for i in food:\\n        if choice == i:\\n            print(food[i])\\n            choice = input(\"Anything Else: \")\\n            if choice != \"No\":\\n                continue\\n            else:\\n                break', 'menu_checker()', 'my_dir= dir()\\nprint(my_dir)', 'def my_fuction():\\n    my_list = []\\n    for i in range(0,11):\\n        my_list.append(i)\\n    print(my_list)', 'my_fuction()', 'my_dir= dir()\\nprint(my_dir) # prints the list of local scope vaibles\\n\\nvaribles = var()\\nprint(f\"Variable:{variable}\")', 'my_dir= dir()\\nprint(my_dir) # prints the list of local scope vaibles\\n\\nvaribles = vars()\\nprint(f\"Variable:{variable}\")', 'my_dir= dir()\\nprint(my_dir) # prints the list of local scope vaibles\\n\\nvariables = vars()\\nprint(f\"Variable:{variable}\")', 'my_dir= dir()\\nprint(my_dir) # prints the list of local scope vaibles\\n\\nvariables = vars()\\nprint(f\"Variable:{variables}\")'], '_oh': {}, '_dh': ['C:\\\\Users\\\\prath\\\\Documents\\\\New folder'], 'In': ['', '# my_list= ()\\nif __name__ == \"__main__\":', '# my_list= ()\\nif __name__ == \"__main__\":\\n    print(\"Only if this is the main program and not beong imported from any other module\")\\nelse:\\n    print(\"This is imported\")', 'my_list = list()\\nprint(my_list)', 'my_dict = dict()\\nprint(my_dict)', 'my_tuple = tuple()\\nprint(my_tuple)', 'bool_var = True\\nprint(bool_var)', 'my_str = \"Prathamesh\"\\nprint(my_str)', 'my_bool_var = bool()\\nprint(my_bool_var)\\n# set \\n#frozenset', 'my_bool_var = bool()\\nprint(\"Default value of bool var is: \"my_bool_var)\\n# set \\n#frozenset', 'my_bool_var = bool()\\nprint(\"Default value of bool var is: \",my_bool_var)\\n# set \\n#frozenset', 's = \"Prathamesh\"\\nprint(f\"My short name is {s[0:6]}\")', 's = \"Prathamesh\"\\nprint(f\"My short name is {s[0:7]}\")', 's = \"Prathamesh\"\\nprint(f\"My short name is {s[0:7]}\")\\nprint(s[7])', 's = \"Prathamesh\"\\nprint(f\"My short name is {s[0:7]}\")\\nprint(s[6)', 's = \"Prathamesh\"\\nprint(f\"My short name is {s[0:7]}\")\\nprint(s[6])', 's = \"Prathamesh\"\\nprint(f\"My short name is {s[0:7]}\")\\nprint(s[6])\\nprint(s[0:10:2])', 's = \"Prathamesh\"\\nprint(f\"My short name is {s[0:7]}\")\\nprint(s[6])\\nprint(s[0:10:1])', 's = \"Prathamesh\"\\nprint(f\"My short name is {s[0:7]}\")\\nprint(s[6])\\nprint(s[0:10:-2])', 's = \"Prathamesh\"\\nprint(f\"My short name is {s[0:7]}\")\\nprint(s[6])\\nprint(s[0:10:-1])', 's = \"Prathamesh\"\\nprint(f\"My short name is {s[0:7]}\")\\nprint(s[6])\\nprint(s[0:10:1])', 's = \"Prathamesh\"\\nprint(f\"My short name is {s[0:7]}\")\\nprint(s[6])\\nprint(s[0:10:2])', 's = \"Prathamesh\"\\nprint(f\"My short name is {s[0:7]}\")\\nprint(s[6])\\nprint(s[0:10:2])\\nprint([-1])', 's = \"Prathamesh\"\\nprint(f\"My short name is {s[0:7]}\")\\nprint(s[6])\\nprint(s[0:10:2])\\nprint(s[-1])', 's = \"Prathamesh\"\\nprint(f\"My short name is {s[0:7]}\")\\nprint(s[6])\\nprint(s[0:10:2])\\nprint(s[0:-1])', 's = \"Prathamesh\"\\nprint(f\"My short name is {s[0:7]}\")\\nprint(s[6])\\nprint(s[0:10:2])\\nprint(del(s[-1]))', 's = \"Prathamesh\"\\nprint(f\"My short name is {s[0:7]}\")\\nprint(s[6])\\nprint(s[0:10:2])\\nprint()', 's = \"Prathamesh\"\\nprint(f\"My short name is {s[0:7]}\")\\nprint(s[6])\\nprint(s[0:10:2])\\ndel(s[-1])\\nprint(s)', 's = \"Prathamesh\"\\nt= [1,2,3,4,5,6]\\nprint(f\"My short name is {s[0:7]}\")\\nprint(s[6])\\nprint(s[0:10:2])\\ndel(t[-1])\\nprint(t)', 's = \"Prathamesh\"\\nt= [1,2,3,4,5,6]\\nprint(f\"My short name is {s[0:7]}\")\\nprint(s[6])\\nprint(s[0:10:2])\\ndel(t[-1])\\nprint(t)\\nif \\'h\\' in t:\\n    print(t)', 's = \"Prathamesh\"\\nt= [1,2,3,4,5,6]\\nprint(f\"My short name is {s[0:7]}\")\\nprint(s[6])\\nprint(s[0:10:2])\\ndel(t[-1])\\nprint(t)\\nif \\'h\\' in t:\\n    print(t)\\nelse:\\n    print(\"Not present\")', 's = \"Prathamesh\"\\nt= [1,2,3,4,5,6]\\nprint(f\"My short name is {s[0:7]}\")\\nprint(s[6])\\nprint(s[0:10:2])\\ndel(t[-1])\\nprint(t)\\nh= \\'h\\'\\nif h in t:\\n    print(t)\\nelse:\\n    print(\"Not present\")', 's = \"Prathamesh\"\\nt= [1,2,3,4,5,6]\\nprint(f\"My short name is {s[0:7]}\")\\nprint(s[6])\\nprint(s[0:10:2])\\ndel(t[-1])\\nprint(t)\\nh= \\'h\\'\\nif h in t:\\n    print(t)\\nelse:\\n    print(\"Not present\")', 's = \"Prathamesh\"\\nt= [1,2,3,4,5,6]\\nprint(f\"My short name is {s[0:7]}\")\\nprint(s[6])\\nprint(s[0:10:2])\\ndel(t[-1])\\nprint(t)\\nh= \\'h\\'\\nif h in s:\\n    print(t)\\nelse:\\n    print(\"Not present\")', 's = \"Prathamesh\"\\nt= [1,2,3,4,5,6]\\nprint(f\"My short name is {s[0:7]}\")\\nprint(s[6])\\nprint(s[0:10:2])\\ndel(t[-1])\\nprint(t)\\nh= input(\"Enter letter in your name:\")\\nif h in s:\\n    print(t)\\nelse:\\n    print(\"Not present\")', '#while Loop\\nfrom datetime import time\\nprint(time)\\n# tap = True\\n# curr_time = \\n# while tap: \\n    \\n#     print(\"_-_-_-_\\\\n\")\\n#     print(\"\\\\n\")', '#while Loop\\nfrom datetime import time\\nprint(datetime)\\n# tap = True\\n# curr_time = \\n# while tap: \\n    \\n#     print(\"_-_-_-_\\\\n\")\\n#     print(\"\\\\n\")', '#while Loop\\nfrom datetime import time\\nprint(time)\\n# tap = True\\n# curr_time = \\n# while tap: \\n    \\n#     print(\"_-_-_-_\\\\n\")\\n#     print(\"\\\\n\")', '#while Loop\\nfrom datetime import time\\nprint(curr_time)\\n# tap = True\\n# curr_time = \\n# while tap: \\n    \\n#     print(\"_-_-_-_\\\\n\")\\n#     print(\"\\\\n\")', '#while Loop\\nfrom datetime import time\\ncurr_time = datetime.datetime.now()\\nprint(curr_time)\\n# tap = True\\n# curr_time = \\n# while tap: \\n    \\n#     print(\"_-_-_-_\\\\n\")\\n#     print(\"\\\\n\")', '#While loop', '#While loop\\ntap = True\\ntime_limit = 30\\nwhile tap:\\n    print(f\"Starting count:{time_limit}\")\\n    time_limit -= 3\\n    if time_limit == 0:\\n        tap = False', '#While loop\\ntap = True\\ntime_limit = 0\\nwhile tap:\\n    print(f\"Starting count:{time_limit}\")\\n    time_limit += 3\\n    if time_limit == 30:\\n        tap = False', '#While loop\\ntap = True\\ntime_limit = 3\\nwhile tap:\\n    print(f\"Starting count:{time_limit}\")\\n    time_limit += 3\\n    if time_limit == 30:\\n        tap = False', '#While loop\\ntap = True\\ntime_limit = 3\\nwhile tap:\\n    print(f\"Starting count:{time_limit}\")\\n    time_limit += 3\\n    if time_limit >= 30:\\n        tap = False', '#While loop\\ntap = True\\ntime_limit = 3\\nwhile tap:\\n    print(f\"Starting count:{time_limit}\")\\n    time_limit += 3\\n    if time_limit > 30:\\n        tap = False', '#While loop\\ntap = True\\ntable = input(\"Enter Which Table you want to print\")\\ntime_limit = table\\nwhile tap:\\n    print(f\"Starting count:{time_limit}\")\\n    time_limit += table\\n    if time_limit > (table * 10):\\n        tap = False', '#While loop\\ntap = True\\ntable = input(\"Enter Which Table you want to print\")\\ntime_limit = table\\nwhile tap:\\n    print(f\"Starting count:{time_limit}\")\\n    time_limit += table\\n    if time_limit > (table * 10):\\n        tap = False', '#While loop\\ntap = True\\ntable = input(\"Enter Which Table you want to print\")\\ntime_limit = table\\nwhile tap:\\n    print(f\"Starting count:{time_limit}\")\\n    time_limit += table\\n    if time_limit > (table * 10):\\n        print(table)\\n        tap = False', '#While loop\\ntap = True\\ntable = input(\"Enter Which Table you want to print\")\\ntime_limit_reached = table * 10\\nwhile tap:\\n    print(f\"Starting count:{time_limit}\")\\n    time_limit += table\\n    if time_limit > time_limit_reached:\\n        print(f\"Limit Reached: \",table)\\n        tap = False', '#While loop\\ntap = True\\ntable = input(\"Enter Which Table you want to print: \")\\ntime_limit = table\\ntime_limit_reached = table * 10\\nwhile tap:\\n    print(f\"Starting count:{time_limit}\")\\n    time_limit += table\\n    if time_limit > time_limit_reached:\\n        print(f\"Limit Reached: \",table)\\n        tap = False', 'table = input(f\"Enter which table to print\\\\n\")\\ntap = True\\nlimit = table * 10\\nwhile tap:\\n    print(table)\\n    if table > limit:\\n        tap = False\\n    table +=table', 'table = input(f\"Enter which table to print\\\\n\")\\ntap = 1\\nlimit = table * 10\\nwhile tap:\\n    print(table)\\n    if table > limit:\\n        break\\n    table = i * table\\n    i += 1', 'table = input(f\"Enter which table to print\\\\n\")\\ntap = 1\\nlimit = table * 10\\nwhile tap:\\n    print(table)\\n    if table > limit:\\n        break\\n    table = i * table\\n    tap -= 1', 'table = input(f\"Enter which table to print\\\\n\")\\ntap = 1\\nlimit = table * 10\\nwhile tap:\\n    print(table)\\n    if table > limit:\\n        break\\n    table = tap * table\\n    tap -= 1', '#While loop\\ntap = True\\ntable = input(\"Enter Which Table you want to print: \")\\ntime_limit = table\\ntime_limit_reached = table * 10\\nwhile tap:\\n    print(f\"Starting count:{time_limit}\")\\n    time_limit += int(table)\\n    if time_limit > time_limit_reached:\\n        print(f\"Limit Reached: \",table)\\n        tap = False', '#While loop\\ntap = True\\ntable = input(\"Enter Which Table you want to print: \")\\ntime_limit = int(table)\\ntime_limit_reached = table * 10\\nwhile tap:\\n    print(f\"Starting count:{time_limit}\")\\n    time_limit += table\\n    if time_limit > time_limit_reached:\\n        print(f\"Limit Reached: \",table)\\n        tap = False', '#While loop\\ntap = True\\ntable = input(\"Enter Which Table you want to print: \")\\ntime_limit = table\\nprint(time_limit)\\n# time_limit_reached = table * 10\\n# while tap:\\n#     print(f\"Starting count:{time_limit}\")\\n#     time_limit += table\\n#     if time_limit > time_limit_reached:\\n#         print(f\"Limit Reached: \",table)\\n#         tap = False', '#While loop\\ntap = True\\ntable = input(\"Enter Which Table you want to print: \")\\ntime_limit = table\\nprint(type(time_limit))\\n# time_limit_reached = table * 10\\n# while tap:\\n#     print(f\"Starting count:{time_limit}\")\\n#     time_limit += table\\n#     if time_limit > time_limit_reached:\\n#         print(f\"Limit Reached: \",table)\\n#         tap = False', '#While loop\\ntap = True\\ntable = input(\"Enter a number: \")\\ntime_limit = table\\nprint(type(time_limit))\\n# time_limit_reached = table * 10\\n# while tap:\\n#     print(f\"Starting count:{time_limit}\")\\n#     time_limit += table\\n#     if time_limit > time_limit_reached:\\n#         print(f\"Limit Reached: \",table)\\n#         tap = False', '#While loop\\ntap = True\\ntable = int(input(\"Enter a number: \"))\\ntime_limit = table\\nprint(type(time_limit))\\n# time_limit_reached = table * 10\\n# while tap:\\n#     print(f\"Starting count:{time_limit}\")\\n#     time_limit += table\\n#     if time_limit > time_limit_reached:\\n#         print(f\"Limit Reached: \",table)\\n#         tap = False', '#While loop\\ntap = True\\ntable = int(input(\"Enter a number: \"))\\ntime_limit = table\\nprint(type(time_limit))\\ntime_limit_reached = table * 10\\nwhile tap:\\n    print(f\"Starting count:{time_limit}\")\\n    time_limit += table\\n    if time_limit > time_limit_reached:\\n        print(f\"Limit Reached: \",table)\\n        tap = False', '#While loop\\ntap = True\\ntable = int(input(\"Enter a number for number to be printed: \"))\\ntime_limit = table\\nprint(type(time_limit))\\ntime_limit_reached = table * 10\\nwhile tap:\\n    print(f\"Starting count:{time_limit}\")\\n    time_limit += table\\n    if time_limit > time_limit_reached:\\n        print(f\"Limit Reached: \",table)\\n        tap = False', '#While loop\\ntap = True\\ntable = int(input(\"Enter a number for number to be printed: \"))\\ntime_limit = table\\nprint(type(time_limit))\\ntime_limit_reached = table * 10\\nwhile tap:\\n    print(f\"Starting count:{time_limit}\")\\n    time_limit += table\\n    if time_limit > time_limit_reached:\\n        print(f\"Limit Reached: \",table)\\n        tap = False', '#While loop\\ntap = True\\ntable = int(input(\"Enter a number for number to be printed: \"))\\ntime_limit = table\\nprint(type(time_limit))\\ntime_limit_reached = table * 10\\nwhile tap:\\n    print(f\"Starting count:{time_limit}\")\\n    time_limit += table\\n    if time_limit > time_limit_reached:\\n        print(f\"Limit Reached: \",table)\\n        tap = False', '#While loop to print the table of a number\\ntap = True\\ntable = int(input(\"Enter a number for number to be printed: \"))\\ntime_limit = table\\nprint(type(time_limit))\\ntime_limit_reached = table * 10\\nwhile tap:\\n    print(f\"Starting count:{time_limit}\")\\n    time_limit += table\\n    if time_limit > time_limit_reached:\\n        print(f\"Limit Reached: \",table)\\n        tap = False', 'text = input(f\"Enter some text\\\\n\")\\nif type(text) != str:\\n    print(\"Enter text\")', 'text = input(f\"Enter some text\\\\n\")\\nif type(text) = str:\\n    print(\"Enter text\")', 'text = input(f\"Enter some text\\\\n\")\\nif type(text) == str:\\n    print(\"Enter text\")', 'text = input(f\"Enter some text\\\\n\")\\nif type(text) != str:\\n    print(\"Enter text\")', 'text = input(f\"Enter some text\\\\n\")\\nif type(text) != str:\\n    print(\"Enter text\")\\n    exit()', 'text = input(f\"Enter some text\\\\n\")\\nif type(text) != str:\\n    print(\"Enter text\")\\n    exit()', 'text = input(f\"Enter some text\\\\n\")\\nprint(type(text))\\nif type(text) != str:\\n    print(\"Enter text\")\\n    exit()', 'text = input(f\"Enter some text\\\\n\")\\nprint(type(text))\\nif type(text) != str:\\n    print(\"Enter text\")\\n    exit()', 'text = input(f\"Enter some text\\\\n\")\\nprint(type(text))\\nif type(text) != str:\\n    print(\"Enter text\")', 'text = input(f\"Enter some text\\\\n\")\\nprint(type(text))\\nif type(text) != str:\\n    print(\"Enter text\")\\nword = input(f\"Enter the word to be entered\")\\nif word in text:\\n    print(f\"Its there\")', 'text = input(f\"Enter some text\\\\n\")\\nprint(type(text))\\nif type(text) != str:\\n    print(\"Enter text\")\\nword = input(f\"Enter the word to be entered\")\\nif word in text:\\n    print(f\"Its there\")', 'text = input(f\"Enter some text\\\\n\")\\nprint(type(text))\\nif type(text) != str:\\n    print(\"Enter text\")\\nword = input(f\"Enter the word to be entered\")\\nif word in text:\\n    print(f\"Its there\")\\nl = 0\\nwhile l < len(text) and text[l] == word:\\n    print(f\"{Word} is at {l}\")\\n    l += 1', 'text = input(f\"Enter some text\\\\n\")\\nprint(type(text))\\nif type(text) != str:\\n    print(\"Enter text\")\\nword = input(f\"Enter the word to be entered:\")\\nif word in text:\\n    print(f\"Its there\")\\nl = 0\\nwhile l < len(text) and text[l] == word:\\n    print(f\"{Word} is at {l}\")\\n    l += 1', 'text = input(f\"Enter some text\\\\n\")\\nprint(type(text))\\nif type(text) != str:\\n    print(\"Enter text\")\\nword = input(f\"Enter the word to be entered:\")\\nif word in text:\\n    print(f\"Its there\")\\nl = 0\\nwhile l < len(text) and text[l] == word:\\n    print(f\"{word} is at {l}\")\\n    l += 1', 'text = input(f\"Enter some text\\\\n\")\\nprint(type(text))\\nif type(text) != str:\\n    print(\"Enter text\")\\nword = input(f\"Enter the word to be entered:\")\\n# if word in text:\\n#     print(f\"Its there\")\\n# l = 0\\nwhile l < len(text) and text[l] == word:\\n    print(f\"{word} is at {l}\")\\n    l += 1', 'text = input(f\"Enter some text\\\\n\")\\nprint(type(text))\\nif type(text) != str:\\n    print(\"Enter text\")\\nword = input(f\"Enter the word to be entered:\")\\n# if word in text:\\n#     print(f\"Its there\")\\n# l = 0\\nwhile l < len(text) and text[l] == word:\\n    print(f\"{word} is at {l}\")\\n    l += 1', 'text = input(f\"Enter some text\\\\n\")\\nprint(type(text))\\nif type(text) != str:\\n    print(\"Enter text\")\\nword = input(f\"Enter the word to be entered:\")\\n# if word in text:\\n#     print(f\"Its there\")\\n# l = 0\\nwhile l < len(text) and text[l] == word:\\n    print(f\"{word} is at {l}\")\\n    l += 1', 'text = input(f\"Enter some text\\\\n\")\\nprint(type(text))\\nif type(text) != str:\\n    print(\"Enter text\")\\nword = input(f\"Enter the word to be entered:\")\\n# if word in text:\\n#     print(f\"Its there\")\\n# l = 0\\nprint(len(text))\\nwhile l < len(text) and text[l] == word:\\n    print(f\"{word} is at {l}\")\\n    l += 1', 'text = input(f\"Enter some text\\\\n\")\\nprint(type(text))\\nif type(text) != str:\\n    print(\"Enter text\")\\nword = input(f\"Enter the word to be entered:\")\\n# if word in text:\\n#     print(f\"Its there\")\\nl = 0\\nprint(len(text), text[l])\\nwhile l < len(text) and text[l] == word:\\n    print(f\"{word} is at {l}\")\\n    l += 1', \"j= 0 \\nwhile j < len(data) and data[j] == 's':\\n    print(j)\\n    j += 1\", 'data = input(f\"Enter the text\")\\nj= 0 \\nwhile j < len(data) and data[j] == \\'s\\':\\n    print(j)\\n    j += 1', 'data = input(f\"Enter the text\")\\nj= 0 \\nwhile j < len(data) and data[j] != \\'s\\':\\n    print(j)\\n    j += 1', 'data = input(f\"Enter the text\")\\nj= 0 \\nwhile j < len(data) and data[j] != \\'s\\':\\n#     print(j)\\n    j += 1', 'data = input(f\"Enter the text\")\\n# j= 0 \\n# while j < len(data) and data[j] != \\'s\\':\\n# #     print(j)\\n#     j += 1\\nj = 0\\nwhile j < len(data) and data[j] != \\'X\\' :\\n    print(data[j])\\n    j += 1', 'data = input(f\"Enter the text\")\\n# j= 0 \\n# while j < len(data) and data[j] != \\'s\\':\\n# #     print(j)\\n#     j += 1\\nj = 0\\nwhile j < len(data) and data[j] != \\'X\\' :\\n    print(data[j] + =data[j])\\n    j += 1', 'data = input(f\"Enter the text\")\\n# j= 0 \\n# while j < len(data) and data[j] != \\'s\\':\\n# #     print(j)\\n#     j += 1\\nj = 0\\nwhile j < len(data) and data[j] != \\'X\\' :\\n    print(data[j] += data[j])\\n    j += 1', 'data = input(f\"Enter the text\")\\n# j= 0 \\n# while j < len(data) and data[j] != \\'s\\':\\n# #     print(j)\\n#     j += 1\\nj = 0\\nwhile j < len(data) and data[j] != \\'X\\' :\\n    print(data[j])\\n    j += 1', '# iterables in python are list, dict, set, str or file\\ndata = [input(f\"Enter nums\")]\\n\\nbig = data[0]\\n\\nfor ele in data:\\n    if ele >= big:\\n        big = ele\\nprint(big)', '# iterables in python are list, dict, set, str or file\\ndata = [input(f\"Enter nums: \")]\\n\\nbig = data[0]\\n\\nfor ele in data:\\n    if ele >= big:\\n        big = ele\\nprint(f\"big is: \",big)', '# iterables in python are list, dict, set, str or file\\ndata = [input(f\"Enter nums: \")]\\nprint(data)\\nbig = data[0]\\n\\nfor ele in data:\\n    if ele >= big:\\n        big = ele\\nprint(f\"big is: \",big)', '# iterables in python are list, dict, set, str or file\\ndata = [input(f\"Enter nums: \")]\\nprint(data)\\nbig = data[0]\\nprint(big)\\nfor ele in data:\\n    if ele >= big:\\n        big = ele\\nprint(f\"big is: \",big)', '# program to find the largest element in the array\\ndef largest_ele():', '# program to find the largest element in the array\\ndef largest_ele():\\n    ele = input(f\"Enter elements:\")\\n    print(ele)', 'largest_ele()', '# program to find the largest element in the array\\ndef largest_ele():\\n    my_list = []\\n    ele = input(f\"Enter elements, S to stop:\")\\n    while ele != \\'S\\':\\n        my_list.append(ele)\\n    print(my_list)', 'largest_ele()', 'largest_ele()', '# program to find the largest element in the array\\ndef largest_ele():\\n    my_list = []\\n    ele = 0\\n    print(f\"Enter elements , S to stop:\\\\n\")\\n    while ele != \\'S\\':\\n        ele = input(f\":\")\\n        if ele == \\'S\\':\\n            break\\n        my_list.append(int(ele))\\n    big = my_list[0]\\n    for each in my_list:\\n        if each > big:\\n            big = each\\n    print(f\"my_list[0:len(my_list)], biggest is {big}\")\\n\\nlargest_ele()', 'my_range = range(len(my_list))', 'my_range = range(len(my_list))\\nprint(my_range)', 'li = list()\\nprint(li)', 'li = list()\\nli = range(0,11)\\nprint(li)', 'li = list()\\nli = [range(0,11)]\\nprint(li)', 'li = list()\\nli = range(0,11)\\nprint([li])', 'li = list()\\nli = range(0,11)\\nprint([li])', 'li = list()\\nli = range(11)\\nprint([li])', 'li = list()\\nli = range(11)\\nprint([li])', 'li = list()\\nli = range(11)\\nprint([li])', 'li = list()\\nli = range(11)\\nprint(li)', 'li = list()\\nli = range(0,11)\\nprint(li)', 'for i in rnage(0,11):\\nprint(li)', 'item_list = []\\nfor i in rnage(0,11):\\n    item_list.append(i)\\n    \\nprint(item_list)', 'item_list = []\\nfor i in range(0,11):\\n    item_list.append(i)\\n    \\nprint(item_list)', 'item = item_list\\ntarget = input(f\"Entry target element:\")\\nfor i in range(0,11):\\n    if item[i] == target:\\n        print(f\"{item[i]} is present in items at {i}}\\\\n\")\\n    else:\\n        print(f\"{target} is not present in {item}\")', 'item = item_list\\ntarget = input(f\"Entry target element:\")\\nfor i in range(0,11):\\n    if item[i] == target:\\n        print(f\"{item[i]} is present in items at {i}\\\\n\")\\n    else:\\n        print(f\"{target} is not present in {item}\")', 'print(item_list)\\ntarget = input(f\"Entry target element:\")\\nfor i in range(0,11):\\n    if item_list[i] == target:\\n        print(f\"{item_list[i]} is present in items at {i}\\\\n\")\\n    else:\\n        print(f\"{target} is not present in item_list\")', 'print(item_list)\\ntarget = input(f\"Entry target element:\")\\nprint(target)\\nfor i in range(0,11):\\n    if item_list[i] == target:\\n        print(f\"{target} is present in items at {i}\\\\n\")\\n    else:\\n        print(f\"{target} is not present in item_list\")', 'print(item_list)\\ntarget = input(f\"Entry target element:\")\\nprint(\"target is: \",target)\\nfor i in range(0,11):\\n    if item_list[i] == target:\\n        return True\\n        #print(f\"{target} is present in items at {i}\\\\n\")\\n    else:\\n        return False#print(f\"{target} is not present in item_list\")', '\\nflag = False\\nprint(item_list)\\ntarget = input(f\"Entry target element:\")\\nprint(\"target is: \",target)\\nfor i in range(0,11):\\n    if item_list[i] == target:\\n#         print(f\"{target} is present in items at {i}\\\\n\")\\n        flag = True\\n#         print(f\"{target} is not present in item_list\")\\nprint(f\"{target} is present in items at {i}\\\\n\")', 'loc = None\\nflag = False\\nprint(item_list)\\ntarget = input(f\"Entry target element:\")\\nprint(\"target is: \",target)\\nfor i in range(0,11):\\n    if item_list[i] == target:\\n#         print(f\"{target} is present in items at {i}\\\\n\")\\n        flag = True\\n        loc = i\\n#         print(f\"{target} is not present in item_list\")\\nprint(f\"{target} is present in items at {loc}\\\\n\")', 'loc = None\\nflag = False\\nprint(item_list)\\ntarget = input(f\"Entry target element:\")\\nprint(\"target is: \",target)\\nfor i in range(0,11):\\n    if item_list[i] == target:\\n        flag = True\\n        loc = i\\n#         print(f\"{target} is not present in item_list\")\\nprint(f\"{target} is present in items at {loc}\\\\n\")', 'loc = None\\nflag = False\\nprint(item_list)\\ntarget = input(f\"Entry target element:\")\\nprint(\"target is: \",target)\\nfor i in range(0,11):\\n    if item_list[i] == target:\\n        flag = True\\n        loc = i\\nprint(f\"{target} is present in items at {loc}\\\\n\")', 'for item in item_list:\\n    if item == target:\\n        found = True\\n        break\\nprint(f\"{item} is {found}\")', 'found = False\\nfor item in item_list:\\n    if item == target:\\n        found = True\\n        break\\nprint(f\"{item} is {found}\")', 'target = input(\"Enter target:\")\\nprint(item_list)\\nfound = False\\nfor item in item_list:\\n    if item == target:\\n        found = True\\n        break\\nprint(f\"{item} is {found}\")', 'target = input(\"Enter target:\")\\nprint(item_list)\\nfound = False\\nfor item in item_list:\\n    if item == target:\\n        print({item}: {target})\\n        found = True\\n        break\\nprint(f\"{item} is {found}\")', 'target = input(\"Enter target:\")\\nprint(item_list)\\nfound = False\\nfor item in item_list:\\n    if item == target:\\n        print(f\"{item} {target}\")\\n        found = True\\n        break\\nprint(f\"{item} is {found}\")', 'target = input(\"Enter target:\")\\nprint(item_list)\\nfound = False\\nfor item in item_list:\\n    if item == target:\\n        found = True\\n        print(f\"{item} {target}\")\\n        break\\nprint(f\"{item} is {found}\")', 'target = input(\"Enter target:\")\\nprint(item_list)\\nfound = False\\nfor item in item_list:\\n    print(item)\\n    if item == target:\\n        found = True\\n        print(f\"{item} {target}\")\\n        break\\nprint(f\"{item} is {found}\")', 'target = input(\"Enter target:\")\\nprint(item_list)\\nfound = False\\nfor item in item_list:\\n    print(item, target)\\n    if item == target:\\n        found = True\\n        print(f\"{item} {target}\")\\n        break\\nprint(f\"{item} is {found}\")', 'target = input(\"Enter target:\")\\nprint(item_list)\\nfound = False\\nfor item in item_list:\\n    print(item, target)\\n    if (item == target):\\n        found = True\\n        print(f\"{item} {target}\")\\n        break\\nprint(f\"{item} is {found}\")', 'target = input(\"Enter target:\")\\nprint(item_list)\\nfound = False\\nfor item in item_list:\\n    print(item, target)\\n    if (item == target):\\n        found = True\\n        print(f\"{item} {target}\")\\n    break\\nprint(f\"{target} is {found}\")', 'target = input(\"Enter target:\")\\nprint(item_list)\\nfound = False\\nfor item in item_list:\\n    print(item, target)\\n    if (item == target):\\n        found = True\\n        print(f\"{item} {target}\")\\n        break\\nprint(f\"{target} is {found}\")', 'target = input(\"Enter target:\")\\nprint(item_list)\\nfound = False\\nfor item in item_list:\\n    print(item, target)\\n    if (item == target):\\n#         found = True\\n#         print(f\"{item} {target}\")\\n        break\\nprint(f\"{target} is {found}\")', 'target = input(\"Enter target:\")\\nprint(item_list)\\nfound = False\\nfor item in item_list:\\n    print(item, target)\\n    if (item == target):\\n        found = True\\n        print(f\"{item} {target}\")\\nprint(f\"{target} is {found}\")', 'target = input(\"Enter target:\")\\nprint(item_list)\\nfound = False\\nfor item in item_list:\\n    print item\\n#     print(item, target)\\n#     if (item == target):\\n#         found = True\\n#         print(f\"{item} {target}\")\\nprint(f\"{target} is {found}\")', 'target = input(\"Enter target:\")\\nprint(item_list)\\nfound = False\\nfor item in item_list:\\n    print(item)\\n#     print(item, target)\\n#     if (item == target):\\n#         found = True\\n#         print(f\"{item} {target}\")\\nprint(f\"{target} is {found}\")', 'target = input(\"Enter target:\")\\nprint(item_list)\\nfound = False\\nfor item in item_list:\\n    if (item == target):\\n        print(item)\\n#     print(item, target)\\n#     \\n#         found = True\\n#         print(f\"{item} {target}\")\\nprint(f\"{target} is {found}\")', 'target = input(\"Enter target:\")\\nprint(item_list)\\nprint(type(item_list))\\nprint(type(item))\\nfound = False\\nfor item in item_list:\\n    if (item == target:\\n        print(item)\\n#     print(item, target)\\n#     \\n#         found = True\\n#         print(f\"{item} {target}\")\\nprint(f\"{target} is {found}\")', 'target = input(\"Enter target:\")\\nprint(item_list)\\nprint(type(item_list))\\nprint(type(item))\\nfound = False\\nfor item in item_list:\\n    if item == target:\\n        print(item)\\n#     print(item, target)\\n#     \\n#         found = True\\n#         print(f\"{item} {target}\")\\nprint(f\"{target} is {found}\")', 'target = input(\"Enter target:\")\\nprint(item_list)\\nprint(type(item_list))\\nprint(type(target))\\nfound = False\\nfor item in item_list:\\n    if item == target:\\n        print(item)\\n#     print(item, target)\\n#     \\n#         found = True\\n#         print(f\"{item} {target}\")\\nprint(f\"{target} is {found}\")', 'target = int(input(\"Enter target:\"))\\nprint(item_list)\\nprint(type(item_list))\\nprint(type(target))\\nfound = False\\nfor item in item_list:\\n    if item == target:\\n        print(item)\\n#     print(item, target)\\n#     \\n#         found = True\\n#         print(f\"{item} {target}\")\\nprint(f\"{target} is {found}\")', 'target = int(input(\"Enter target:\"))\\nprint(item_list)\\nprint(type(item_list))\\nprint(type(target))\\nfound = False\\nfor item in item_list:\\n    if item == target:\\n        print(item)\\n        found = True\\n        break\\n        \\nprint(f\"{target} is {found}\")', 'target = int(input(\"Enter target:\"))\\nprint(item_list)\\n# print(type(item_list))\\n# print(type(target))\\nfound = False\\nfor item in item_list:\\n    if item == target:\\n        print(item)\\n        found = True\\n        break\\n        \\nprint(f\"{target} is {found}\")', 'food = {\"ham\" : \"yes\", \"egg\" : \"yes\", \"spam\" : \"no\" } \\nm_l = [0, 1, 2, 3, 4, 5, 6, 7, 8, 9, 10]\\nstring = \"Prathamesh\"\\nmy_tuple = tuple(string,26)\\n\\nfor i in food:\\n    print(i)', 'food = {\"ham\" : \"yes\", \"egg\" : \"yes\", \"spam\" : \"no\" } \\nm_l = [0, 1, 2, 3, 4, 5, 6, 7, 8, 9, 10]\\nstring = \"Prathamesh\"\\nmy_tuple = tuple(string)\\n\\nfor i in food:\\n    print(i)', 'food = {\"ham\" : \"yes\", \"egg\" : \"yes\", \"spam\" : \"no\" } \\nm_l = [0, 1, 2, 3, 4, 5, 6, 7, 8, 9, 10]\\nstring = \"Prathamesh\"\\nmy_tuple = tuple(string)\\n\\nfor i in food:\\n    print(food[i])', 'food = {\"ham\" : \"yes\", \"egg\" : \"yes\", \"spam\" : \"no\" } \\nm_l = [0, 1, 2, 3, 4, 5, 6, 7, 8, 9, 10]\\nstring = \"Prathamesh\"\\nmy_tuple = tuple(string)\\nchoice = input(f\"Enter: \")\\nfor i in food:\\n    if choice == i:\\n        print(food[i])', 'food = {\"ham\" : \"yes\", \"egg\" : \"yes\", \"spam\" : \"no\" } \\nm_l = [0, 1, 2, 3, 4, 5, 6, 7, 8, 9, 10]\\nstring = \"Prathamesh\"\\nmy_tuple = tuple(string)\\nchoice = input(f\"Enter what you wan\\'t to enquire first: \")\\nfor i in food:\\n    if choice == i:\\n        print(food[i])', 'food = {\"ham\" : \"yes\", \"egg\" : \"yes\", \"spam\" : \"no\" } \\nm_l = [0, 1, 2, 3, 4, 5, 6, 7, 8, 9, 10]\\nstring = \"Prathamesh\"\\nmy_tuple = tuple(string)\\ndef menu_checker():\\n    choice = input(f\"Enter what you wan\\'t to enquire first: \")\\n    for i in food:\\n        if choice == i:\\n            print(food[i])\\n            continue', 'menu_checker()', 'food = {\"ham\" : \"yes\", \"egg\" : \"yes\", \"spam\" : \"no\" } \\nm_l = [0, 1, 2, 3, 4, 5, 6, 7, 8, 9, 10]\\nstring = \"Prathamesh\"\\nmy_tuple = tuple(string)\\ndef menu_checker():\\n    choice = input(f\"Enter what you wan\\'t to enquire : \")\\n    for i in food:\\n        if choice == i:\\n            print(food[i])\\n            choice = input(\"Anything Else: \")\\n            if choice != \"No\":\\n                continue\\n            else:\\n                break', 'menu_checker()', 'my_dir= dir()\\nprint(my_dir)', 'def my_fuction():\\n    my_list = []\\n    for i in range(0,11):\\n        my_list.append(i)\\n    print(my_list)', 'my_fuction()', 'my_dir= dir()\\nprint(my_dir) # prints the list of local scope vaibles\\n\\nvaribles = var()\\nprint(f\"Variable:{variable}\")', 'my_dir= dir()\\nprint(my_dir) # prints the list of local scope vaibles\\n\\nvaribles = vars()\\nprint(f\"Variable:{variable}\")', 'my_dir= dir()\\nprint(my_dir) # prints the list of local scope vaibles\\n\\nvariables = vars()\\nprint(f\"Variable:{variable}\")', 'my_dir= dir()\\nprint(my_dir) # prints the list of local scope vaibles\\n\\nvariables = vars()\\nprint(f\"Variable:{variables}\")'], 'Out': {}, 'get_ipython': <bound method InteractiveShell.get_ipython of <ipykernel.zmqshell.ZMQInteractiveShell object at 0x000001883283D710>>, 'exit': <IPython.core.autocall.ZMQExitAutocall object at 0x000001883386C0B8>, 'quit': <IPython.core.autocall.ZMQExitAutocall object at 0x000001883386C0B8>, '_': '', '__': '', '___': '', '_i': 'my_dir= dir()\\nprint(my_dir) # prints the list of local scope vaibles\\n\\nvariables = vars()\\nprint(f\"Variable:{variable}\")', '_ii': 'my_dir= dir()\\nprint(my_dir) # prints the list of local scope vaibles\\n\\nvaribles = vars()\\nprint(f\"Variable:{variable}\")', '_iii': 'my_dir= dir()\\nprint(my_dir) # prints the list of local scope vaibles\\n\\nvaribles = var()\\nprint(f\"Variable:{variable}\")', '_i1': '# my_list= ()\\nif __name__ == \"__main__\":', '_i2': '# my_list= ()\\nif __name__ == \"__main__\":\\n    print(\"Only if this is the main program and not beong imported from any other module\")\\nelse:\\n    print(\"This is imported\")', '_i3': 'my_list = list()\\nprint(my_list)', 'my_list': [], '_i4': 'my_dict = dict()\\nprint(my_dict)', 'my_dict': {}, '_i5': 'my_tuple = tuple()\\nprint(my_tuple)', 'my_tuple': ('P', 'r', 'a', 't', 'h', 'a', 'm', 'e', 's', 'h'), '_i6': 'bool_var = True\\nprint(bool_var)', 'bool_var': True, '_i7': 'my_str = \"Prathamesh\"\\nprint(my_str)', 'my_str': 'Prathamesh', '_i8': 'my_bool_var = bool()\\nprint(my_bool_var)\\n# set \\n#frozenset', 'my_bool_var': False, '_i9': 'my_bool_var = bool()\\nprint(\"Default value of bool var is: \"my_bool_var)\\n# set \\n#frozenset', '_i10': 'my_bool_var = bool()\\nprint(\"Default value of bool var is: \",my_bool_var)\\n# set \\n#frozenset', '_i11': 's = \"Prathamesh\"\\nprint(f\"My short name is {s[0:6]}\")', 's': 'Prathamesh', '_i12': 's = \"Prathamesh\"\\nprint(f\"My short name is {s[0:7]}\")', '_i13': 's = \"Prathamesh\"\\nprint(f\"My short name is {s[0:7]}\")\\nprint(s[7])', '_i14': 's = \"Prathamesh\"\\nprint(f\"My short name is {s[0:7]}\")\\nprint(s[6)', '_i15': 's = \"Prathamesh\"\\nprint(f\"My short name is {s[0:7]}\")\\nprint(s[6])', '_i16': 's = \"Prathamesh\"\\nprint(f\"My short name is {s[0:7]}\")\\nprint(s[6])\\nprint(s[0:10:2])', '_i17': 's = \"Prathamesh\"\\nprint(f\"My short name is {s[0:7]}\")\\nprint(s[6])\\nprint(s[0:10:1])', '_i18': 's = \"Prathamesh\"\\nprint(f\"My short name is {s[0:7]}\")\\nprint(s[6])\\nprint(s[0:10:-2])', '_i19': 's = \"Prathamesh\"\\nprint(f\"My short name is {s[0:7]}\")\\nprint(s[6])\\nprint(s[0:10:-1])', '_i20': 's = \"Prathamesh\"\\nprint(f\"My short name is {s[0:7]}\")\\nprint(s[6])\\nprint(s[0:10:1])', '_i21': 's = \"Prathamesh\"\\nprint(f\"My short name is {s[0:7]}\")\\nprint(s[6])\\nprint(s[0:10:2])', '_i22': 's = \"Prathamesh\"\\nprint(f\"My short name is {s[0:7]}\")\\nprint(s[6])\\nprint(s[0:10:2])\\nprint([-1])', '_i23': 's = \"Prathamesh\"\\nprint(f\"My short name is {s[0:7]}\")\\nprint(s[6])\\nprint(s[0:10:2])\\nprint(s[-1])', '_i24': 's = \"Prathamesh\"\\nprint(f\"My short name is {s[0:7]}\")\\nprint(s[6])\\nprint(s[0:10:2])\\nprint(s[0:-1])', '_i25': 's = \"Prathamesh\"\\nprint(f\"My short name is {s[0:7]}\")\\nprint(s[6])\\nprint(s[0:10:2])\\nprint(del(s[-1]))', '_i26': 's = \"Prathamesh\"\\nprint(f\"My short name is {s[0:7]}\")\\nprint(s[6])\\nprint(s[0:10:2])\\nprint()', '_i27': 's = \"Prathamesh\"\\nprint(f\"My short name is {s[0:7]}\")\\nprint(s[6])\\nprint(s[0:10:2])\\ndel(s[-1])\\nprint(s)', '_i28': 's = \"Prathamesh\"\\nt= [1,2,3,4,5,6]\\nprint(f\"My short name is {s[0:7]}\")\\nprint(s[6])\\nprint(s[0:10:2])\\ndel(t[-1])\\nprint(t)', 't': [1, 2, 3, 4, 5], '_i29': 's = \"Prathamesh\"\\nt= [1,2,3,4,5,6]\\nprint(f\"My short name is {s[0:7]}\")\\nprint(s[6])\\nprint(s[0:10:2])\\ndel(t[-1])\\nprint(t)\\nif \\'h\\' in t:\\n    print(t)', '_i30': 's = \"Prathamesh\"\\nt= [1,2,3,4,5,6]\\nprint(f\"My short name is {s[0:7]}\")\\nprint(s[6])\\nprint(s[0:10:2])\\ndel(t[-1])\\nprint(t)\\nif \\'h\\' in t:\\n    print(t)\\nelse:\\n    print(\"Not present\")', '_i31': 's = \"Prathamesh\"\\nt= [1,2,3,4,5,6]\\nprint(f\"My short name is {s[0:7]}\")\\nprint(s[6])\\nprint(s[0:10:2])\\ndel(t[-1])\\nprint(t)\\nh= \\'h\\'\\nif h in t:\\n    print(t)\\nelse:\\n    print(\"Not present\")', 'h': 'd', '_i32': 's = \"Prathamesh\"\\nt= [1,2,3,4,5,6]\\nprint(f\"My short name is {s[0:7]}\")\\nprint(s[6])\\nprint(s[0:10:2])\\ndel(t[-1])\\nprint(t)\\nh= \\'h\\'\\nif h in t:\\n    print(t)\\nelse:\\n    print(\"Not present\")', '_i33': 's = \"Prathamesh\"\\nt= [1,2,3,4,5,6]\\nprint(f\"My short name is {s[0:7]}\")\\nprint(s[6])\\nprint(s[0:10:2])\\ndel(t[-1])\\nprint(t)\\nh= \\'h\\'\\nif h in s:\\n    print(t)\\nelse:\\n    print(\"Not present\")', '_i34': 's = \"Prathamesh\"\\nt= [1,2,3,4,5,6]\\nprint(f\"My short name is {s[0:7]}\")\\nprint(s[6])\\nprint(s[0:10:2])\\ndel(t[-1])\\nprint(t)\\nh= input(\"Enter letter in your name:\")\\nif h in s:\\n    print(t)\\nelse:\\n    print(\"Not present\")', '_i35': '#while Loop\\nfrom datetime import time\\nprint(time)\\n# tap = True\\n# curr_time = \\n# while tap: \\n    \\n#     print(\"_-_-_-_\\\\n\")\\n#     print(\"\\\\n\")', 'time': <class 'datetime.time'>, '_i36': '#while Loop\\nfrom datetime import time\\nprint(datetime)\\n# tap = True\\n# curr_time = \\n# while tap: \\n    \\n#     print(\"_-_-_-_\\\\n\")\\n#     print(\"\\\\n\")', '_i37': '#while Loop\\nfrom datetime import time\\nprint(time)\\n# tap = True\\n# curr_time = \\n# while tap: \\n    \\n#     print(\"_-_-_-_\\\\n\")\\n#     print(\"\\\\n\")', '_i38': '#while Loop\\nfrom datetime import time\\nprint(curr_time)\\n# tap = True\\n# curr_time = \\n# while tap: \\n    \\n#     print(\"_-_-_-_\\\\n\")\\n#     print(\"\\\\n\")', '_i39': '#while Loop\\nfrom datetime import time\\ncurr_time = datetime.datetime.now()\\nprint(curr_time)\\n# tap = True\\n# curr_time = \\n# while tap: \\n    \\n#     print(\"_-_-_-_\\\\n\")\\n#     print(\"\\\\n\")', '_i40': '#While loop', '_i41': '#While loop\\ntap = True\\ntime_limit = 30\\nwhile tap:\\n    print(f\"Starting count:{time_limit}\")\\n    time_limit -= 3\\n    if time_limit == 0:\\n        tap = False', 'tap': False, '_i42': '#While loop\\ntap = True\\ntime_limit = 0\\nwhile tap:\\n    print(f\"Starting count:{time_limit}\")\\n    time_limit += 3\\n    if time_limit == 30:\\n        tap = False', '_i43': '#While loop\\ntap = True\\ntime_limit = 3\\nwhile tap:\\n    print(f\"Starting count:{time_limit}\")\\n    time_limit += 3\\n    if time_limit == 30:\\n        tap = False', '_i44': '#While loop\\ntap = True\\ntime_limit = 3\\nwhile tap:\\n    print(f\"Starting count:{time_limit}\")\\n    time_limit += 3\\n    if time_limit >= 30:\\n        tap = False', '_i45': '#While loop\\ntap = True\\ntime_limit = 3\\nwhile tap:\\n    print(f\"Starting count:{time_limit}\")\\n    time_limit += 3\\n    if time_limit > 30:\\n        tap = False', '_i46': '#While loop\\ntap = True\\ntable = input(\"Enter Which Table you want to print\")\\ntime_limit = table\\nwhile tap:\\n    print(f\"Starting count:{time_limit}\")\\n    time_limit += table\\n    if time_limit > (table * 10):\\n        tap = False', 'table': 12, '_i47': '#While loop\\ntap = True\\ntable = input(\"Enter Which Table you want to print\")\\ntime_limit = table\\nwhile tap:\\n    print(f\"Starting count:{time_limit}\")\\n    time_limit += table\\n    if time_limit > (table * 10):\\n        tap = False', '_i48': '#While loop\\ntap = True\\ntable = input(\"Enter Which Table you want to print\")\\ntime_limit = table\\nwhile tap:\\n    print(f\"Starting count:{time_limit}\")\\n    time_limit += table\\n    if time_limit > (table * 10):\\n        print(table)\\n        tap = False', '_i49': '#While loop\\ntap = True\\ntable = input(\"Enter Which Table you want to print\")\\ntime_limit_reached = table * 10\\nwhile tap:\\n    print(f\"Starting count:{time_limit}\")\\n    time_limit += table\\n    if time_limit > time_limit_reached:\\n        print(f\"Limit Reached: \",table)\\n        tap = False', 'time_limit_reached': 120, '_i50': '#While loop\\ntap = True\\ntable = input(\"Enter Which Table you want to print: \")\\ntime_limit = table\\ntime_limit_reached = table * 10\\nwhile tap:\\n    print(f\"Starting count:{time_limit}\")\\n    time_limit += table\\n    if time_limit > time_limit_reached:\\n        print(f\"Limit Reached: \",table)\\n        tap = False', 'time_limit': 132, '_i51': 'table = input(f\"Enter which table to print\\\\n\")\\ntap = True\\nlimit = table * 10\\nwhile tap:\\n    print(table)\\n    if table > limit:\\n        tap = False\\n    table +=table', 'limit': '3333333333', '_i52': 'table = input(f\"Enter which table to print\\\\n\")\\ntap = 1\\nlimit = table * 10\\nwhile tap:\\n    print(table)\\n    if table > limit:\\n        break\\n    table = i * table\\n    i += 1', '_i53': 'table = input(f\"Enter which table to print\\\\n\")\\ntap = 1\\nlimit = table * 10\\nwhile tap:\\n    print(table)\\n    if table > limit:\\n        break\\n    table = i * table\\n    tap -= 1', '_i54': 'table = input(f\"Enter which table to print\\\\n\")\\ntap = 1\\nlimit = table * 10\\nwhile tap:\\n    print(table)\\n    if table > limit:\\n        break\\n    table = tap * table\\n    tap -= 1', '_i55': '#While loop\\ntap = True\\ntable = input(\"Enter Which Table you want to print: \")\\ntime_limit = table\\ntime_limit_reached = table * 10\\nwhile tap:\\n    print(f\"Starting count:{time_limit}\")\\n    time_limit += int(table)\\n    if time_limit > time_limit_reached:\\n        print(f\"Limit Reached: \",table)\\n        tap = False', '_i56': '#While loop\\ntap = True\\ntable = input(\"Enter Which Table you want to print: \")\\ntime_limit = int(table)\\ntime_limit_reached = table * 10\\nwhile tap:\\n    print(f\"Starting count:{time_limit}\")\\n    time_limit += table\\n    if time_limit > time_limit_reached:\\n        print(f\"Limit Reached: \",table)\\n        tap = False', '_i57': '#While loop\\ntap = True\\ntable = input(\"Enter Which Table you want to print: \")\\ntime_limit = table\\nprint(time_limit)\\n# time_limit_reached = table * 10\\n# while tap:\\n#     print(f\"Starting count:{time_limit}\")\\n#     time_limit += table\\n#     if time_limit > time_limit_reached:\\n#         print(f\"Limit Reached: \",table)\\n#         tap = False', '_i58': '#While loop\\ntap = True\\ntable = input(\"Enter Which Table you want to print: \")\\ntime_limit = table\\nprint(type(time_limit))\\n# time_limit_reached = table * 10\\n# while tap:\\n#     print(f\"Starting count:{time_limit}\")\\n#     time_limit += table\\n#     if time_limit > time_limit_reached:\\n#         print(f\"Limit Reached: \",table)\\n#         tap = False', '_i59': '#While loop\\ntap = True\\ntable = input(\"Enter a number: \")\\ntime_limit = table\\nprint(type(time_limit))\\n# time_limit_reached = table * 10\\n# while tap:\\n#     print(f\"Starting count:{time_limit}\")\\n#     time_limit += table\\n#     if time_limit > time_limit_reached:\\n#         print(f\"Limit Reached: \",table)\\n#         tap = False', '_i60': '#While loop\\ntap = True\\ntable = int(input(\"Enter a number: \"))\\ntime_limit = table\\nprint(type(time_limit))\\n# time_limit_reached = table * 10\\n# while tap:\\n#     print(f\"Starting count:{time_limit}\")\\n#     time_limit += table\\n#     if time_limit > time_limit_reached:\\n#         print(f\"Limit Reached: \",table)\\n#         tap = False', '_i61': '#While loop\\ntap = True\\ntable = int(input(\"Enter a number: \"))\\ntime_limit = table\\nprint(type(time_limit))\\ntime_limit_reached = table * 10\\nwhile tap:\\n    print(f\"Starting count:{time_limit}\")\\n    time_limit += table\\n    if time_limit > time_limit_reached:\\n        print(f\"Limit Reached: \",table)\\n        tap = False', '_i62': '#While loop\\ntap = True\\ntable = int(input(\"Enter a number for number to be printed: \"))\\ntime_limit = table\\nprint(type(time_limit))\\ntime_limit_reached = table * 10\\nwhile tap:\\n    print(f\"Starting count:{time_limit}\")\\n    time_limit += table\\n    if time_limit > time_limit_reached:\\n        print(f\"Limit Reached: \",table)\\n        tap = False', '_i63': '#While loop\\ntap = True\\ntable = int(input(\"Enter a number for number to be printed: \"))\\ntime_limit = table\\nprint(type(time_limit))\\ntime_limit_reached = table * 10\\nwhile tap:\\n    print(f\"Starting count:{time_limit}\")\\n    time_limit += table\\n    if time_limit > time_limit_reached:\\n        print(f\"Limit Reached: \",table)\\n        tap = False', '_i64': '#While loop\\ntap = True\\ntable = int(input(\"Enter a number for number to be printed: \"))\\ntime_limit = table\\nprint(type(time_limit))\\ntime_limit_reached = table * 10\\nwhile tap:\\n    print(f\"Starting count:{time_limit}\")\\n    time_limit += table\\n    if time_limit > time_limit_reached:\\n        print(f\"Limit Reached: \",table)\\n        tap = False', '_i65': '#While loop to print the table of a number\\ntap = True\\ntable = int(input(\"Enter a number for number to be printed: \"))\\ntime_limit = table\\nprint(type(time_limit))\\ntime_limit_reached = table * 10\\nwhile tap:\\n    print(f\"Starting count:{time_limit}\")\\n    time_limit += table\\n    if time_limit > time_limit_reached:\\n        print(f\"Limit Reached: \",table)\\n        tap = False', '_i66': 'text = input(f\"Enter some text\\\\n\")\\nif type(text) != str:\\n    print(\"Enter text\")', 'text': 'Before executing the code, it will define a few special variables. For example, if the python interpreter is running that module (the source file) as the main program, it sets the special', '_i67': 'text = input(f\"Enter some text\\\\n\")\\nif type(text) = str:\\n    print(\"Enter text\")', '_i68': 'text = input(f\"Enter some text\\\\n\")\\nif type(text) == str:\\n    print(\"Enter text\")', '_i69': 'text = input(f\"Enter some text\\\\n\")\\nif type(text) != str:\\n    print(\"Enter text\")', '_i70': 'text = input(f\"Enter some text\\\\n\")\\nif type(text) != str:\\n    print(\"Enter text\")\\n    exit()', '_i71': 'text = input(f\"Enter some text\\\\n\")\\nif type(text) != str:\\n    print(\"Enter text\")\\n    exit()', '_i72': 'text = input(f\"Enter some text\\\\n\")\\nprint(type(text))\\nif type(text) != str:\\n    print(\"Enter text\")\\n    exit()', '_i73': 'text = input(f\"Enter some text\\\\n\")\\nprint(type(text))\\nif type(text) != str:\\n    print(\"Enter text\")\\n    exit()', '_i74': 'text = input(f\"Enter some text\\\\n\")\\nprint(type(text))\\nif type(text) != str:\\n    print(\"Enter text\")', '_i75': 'text = input(f\"Enter some text\\\\n\")\\nprint(type(text))\\nif type(text) != str:\\n    print(\"Enter text\")\\nword = input(f\"Enter the word to be entered\")\\nif word in text:\\n    print(f\"Its there\")', 'word': 'special', '_i76': 'text = input(f\"Enter some text\\\\n\")\\nprint(type(text))\\nif type(text) != str:\\n    print(\"Enter text\")\\nword = input(f\"Enter the word to be entered\")\\nif word in text:\\n    print(f\"Its there\")', '_i77': 'text = input(f\"Enter some text\\\\n\")\\nprint(type(text))\\nif type(text) != str:\\n    print(\"Enter text\")\\nword = input(f\"Enter the word to be entered\")\\nif word in text:\\n    print(f\"Its there\")\\nl = 0\\nwhile l < len(text) and text[l] == word:\\n    print(f\"{Word} is at {l}\")\\n    l += 1', 'l': 0, '_i78': 'text = input(f\"Enter some text\\\\n\")\\nprint(type(text))\\nif type(text) != str:\\n    print(\"Enter text\")\\nword = input(f\"Enter the word to be entered:\")\\nif word in text:\\n    print(f\"Its there\")\\nl = 0\\nwhile l < len(text) and text[l] == word:\\n    print(f\"{Word} is at {l}\")\\n    l += 1', '_i79': 'text = input(f\"Enter some text\\\\n\")\\nprint(type(text))\\nif type(text) != str:\\n    print(\"Enter text\")\\nword = input(f\"Enter the word to be entered:\")\\nif word in text:\\n    print(f\"Its there\")\\nl = 0\\nwhile l < len(text) and text[l] == word:\\n    print(f\"{word} is at {l}\")\\n    l += 1', '_i80': 'text = input(f\"Enter some text\\\\n\")\\nprint(type(text))\\nif type(text) != str:\\n    print(\"Enter text\")\\nword = input(f\"Enter the word to be entered:\")\\n# if word in text:\\n#     print(f\"Its there\")\\n# l = 0\\nwhile l < len(text) and text[l] == word:\\n    print(f\"{word} is at {l}\")\\n    l += 1', '_i81': 'text = input(f\"Enter some text\\\\n\")\\nprint(type(text))\\nif type(text) != str:\\n    print(\"Enter text\")\\nword = input(f\"Enter the word to be entered:\")\\n# if word in text:\\n#     print(f\"Its there\")\\n# l = 0\\nwhile l < len(text) and text[l] == word:\\n    print(f\"{word} is at {l}\")\\n    l += 1', '_i82': 'text = input(f\"Enter some text\\\\n\")\\nprint(type(text))\\nif type(text) != str:\\n    print(\"Enter text\")\\nword = input(f\"Enter the word to be entered:\")\\n# if word in text:\\n#     print(f\"Its there\")\\n# l = 0\\nwhile l < len(text) and text[l] == word:\\n    print(f\"{word} is at {l}\")\\n    l += 1', '_i83': 'text = input(f\"Enter some text\\\\n\")\\nprint(type(text))\\nif type(text) != str:\\n    print(\"Enter text\")\\nword = input(f\"Enter the word to be entered:\")\\n# if word in text:\\n#     print(f\"Its there\")\\n# l = 0\\nprint(len(text))\\nwhile l < len(text) and text[l] == word:\\n    print(f\"{word} is at {l}\")\\n    l += 1', '_i84': 'text = input(f\"Enter some text\\\\n\")\\nprint(type(text))\\nif type(text) != str:\\n    print(\"Enter text\")\\nword = input(f\"Enter the word to be entered:\")\\n# if word in text:\\n#     print(f\"Its there\")\\nl = 0\\nprint(len(text), text[l])\\nwhile l < len(text) and text[l] == word:\\n    print(f\"{word} is at {l}\")\\n    l += 1', '_i85': \"j= 0 \\nwhile j < len(data) and data[j] == 's':\\n    print(j)\\n    j += 1\", 'j': 6, '_i86': 'data = input(f\"Enter the text\")\\nj= 0 \\nwhile j < len(data) and data[j] == \\'s\\':\\n    print(j)\\n    j += 1', 'data': ['10 20 30 40 '], '_i87': 'data = input(f\"Enter the text\")\\nj= 0 \\nwhile j < len(data) and data[j] != \\'s\\':\\n    print(j)\\n    j += 1', '_i88': 'data = input(f\"Enter the text\")\\nj= 0 \\nwhile j < len(data) and data[j] != \\'s\\':\\n#     print(j)\\n    j += 1', '_i89': 'data = input(f\"Enter the text\")\\n# j= 0 \\n# while j < len(data) and data[j] != \\'s\\':\\n# #     print(j)\\n#     j += 1\\nj = 0\\nwhile j < len(data) and data[j] != \\'X\\' :\\n    print(data[j])\\n    j += 1', '_i90': 'data = input(f\"Enter the text\")\\n# j= 0 \\n# while j < len(data) and data[j] != \\'s\\':\\n# #     print(j)\\n#     j += 1\\nj = 0\\nwhile j < len(data) and data[j] != \\'X\\' :\\n    print(data[j] + =data[j])\\n    j += 1', '_i91': 'data = input(f\"Enter the text\")\\n# j= 0 \\n# while j < len(data) and data[j] != \\'s\\':\\n# #     print(j)\\n#     j += 1\\nj = 0\\nwhile j < len(data) and data[j] != \\'X\\' :\\n    print(data[j] += data[j])\\n    j += 1', '_i92': 'data = input(f\"Enter the text\")\\n# j= 0 \\n# while j < len(data) and data[j] != \\'s\\':\\n# #     print(j)\\n#     j += 1\\nj = 0\\nwhile j < len(data) and data[j] != \\'X\\' :\\n    print(data[j])\\n    j += 1', '_i93': '# iterables in python are list, dict, set, str or file\\ndata = [input(f\"Enter nums\")]\\n\\nbig = data[0]\\n\\nfor ele in data:\\n    if ele >= big:\\n        big = ele\\nprint(big)', 'big': '10 20 30 40 ', 'ele': '10 20 30 40 ', '_i94': '# iterables in python are list, dict, set, str or file\\ndata = [input(f\"Enter nums: \")]\\n\\nbig = data[0]\\n\\nfor ele in data:\\n    if ele >= big:\\n        big = ele\\nprint(f\"big is: \",big)', '_i95': '# iterables in python are list, dict, set, str or file\\ndata = [input(f\"Enter nums: \")]\\nprint(data)\\nbig = data[0]\\n\\nfor ele in data:\\n    if ele >= big:\\n        big = ele\\nprint(f\"big is: \",big)', '_i96': '# iterables in python are list, dict, set, str or file\\ndata = [input(f\"Enter nums: \")]\\nprint(data)\\nbig = data[0]\\nprint(big)\\nfor ele in data:\\n    if ele >= big:\\n        big = ele\\nprint(f\"big is: \",big)', '_i97': '# program to find the largest element in the array\\ndef largest_ele():', '_i98': '# program to find the largest element in the array\\ndef largest_ele():\\n    ele = input(f\"Enter elements:\")\\n    print(ele)', 'largest_ele': <function largest_ele at 0x00000188339F1B70>, '_i99': 'largest_ele()', '_i100': '# program to find the largest element in the array\\ndef largest_ele():\\n    my_list = []\\n    ele = input(f\"Enter elements, S to stop:\")\\n    while ele != \\'S\\':\\n        my_list.append(ele)\\n    print(my_list)', '_i101': 'largest_ele()', '_i102': 'largest_ele()', '_i103': '# program to find the largest element in the array\\ndef largest_ele():\\n    my_list = []\\n    ele = 0\\n    print(f\"Enter elements , S to stop:\\\\n\")\\n    while ele != \\'S\\':\\n        ele = input(f\":\")\\n        if ele == \\'S\\':\\n            break\\n        my_list.append(int(ele))\\n    big = my_list[0]\\n    for each in my_list:\\n        if each > big:\\n            big = each\\n    print(f\"my_list[0:len(my_list)], biggest is {big}\")\\n\\nlargest_ele()', '_i104': 'my_range = range(len(my_list))', 'my_range': range(0, 0), '_i105': 'my_range = range(len(my_list))\\nprint(my_range)', '_i106': 'li = list()\\nprint(li)', 'li': range(0, 11), '_i107': 'li = list()\\nli = range(0,11)\\nprint(li)', '_i108': 'li = list()\\nli = [range(0,11)]\\nprint(li)', '_i109': 'li = list()\\nli = range(0,11)\\nprint([li])', '_i110': 'li = list()\\nli = range(0,11)\\nprint([li])', '_i111': 'li = list()\\nli = range(11)\\nprint([li])', '_i112': 'li = list()\\nli = range(11)\\nprint([li])', '_i113': 'li = list()\\nli = range(11)\\nprint([li])', '_i114': 'li = list()\\nli = range(11)\\nprint(li)', '_i115': 'li = list()\\nli = range(0,11)\\nprint(li)', '_i116': 'for i in rnage(0,11):\\nprint(li)', '_i117': 'item_list = []\\nfor i in rnage(0,11):\\n    item_list.append(i)\\n    \\nprint(item_list)', 'item_list': [0, 1, 2, 3, 4, 5, 6, 7, 8, 9, 10], '_i118': 'item_list = []\\nfor i in range(0,11):\\n    item_list.append(i)\\n    \\nprint(item_list)', 'i': 'spam', '_i119': 'item = item_list\\ntarget = input(f\"Entry target element:\")\\nfor i in range(0,11):\\n    if item[i] == target:\\n        print(f\"{item[i]} is present in items at {i}}\\\\n\")\\n    else:\\n        print(f\"{target} is not present in {item}\")', '_i120': 'item = item_list\\ntarget = input(f\"Entry target element:\")\\nfor i in range(0,11):\\n    if item[i] == target:\\n        print(f\"{item[i]} is present in items at {i}\\\\n\")\\n    else:\\n        print(f\"{target} is not present in {item}\")', 'item': 5, 'target': 5, '_i121': 'print(item_list)\\ntarget = input(f\"Entry target element:\")\\nfor i in range(0,11):\\n    if item_list[i] == target:\\n        print(f\"{item_list[i]} is present in items at {i}\\\\n\")\\n    else:\\n        print(f\"{target} is not present in item_list\")', '_i122': 'print(item_list)\\ntarget = input(f\"Entry target element:\")\\nprint(target)\\nfor i in range(0,11):\\n    if item_list[i] == target:\\n        print(f\"{target} is present in items at {i}\\\\n\")\\n    else:\\n        print(f\"{target} is not present in item_list\")', '_i123': 'print(item_list)\\ntarget = input(f\"Entry target element:\")\\nprint(\"target is: \",target)\\nfor i in range(0,11):\\n    if item_list[i] == target:\\n        return True\\n        #print(f\"{target} is present in items at {i}\\\\n\")\\n    else:\\n        return False#print(f\"{target} is not present in item_list\")', '_i124': '\\nflag = False\\nprint(item_list)\\ntarget = input(f\"Entry target element:\")\\nprint(\"target is: \",target)\\nfor i in range(0,11):\\n    if item_list[i] == target:\\n#         print(f\"{target} is present in items at {i}\\\\n\")\\n        flag = True\\n#         print(f\"{target} is not present in item_list\")\\nprint(f\"{target} is present in items at {i}\\\\n\")', 'flag': False, '_i125': 'loc = None\\nflag = False\\nprint(item_list)\\ntarget = input(f\"Entry target element:\")\\nprint(\"target is: \",target)\\nfor i in range(0,11):\\n    if item_list[i] == target:\\n#         print(f\"{target} is present in items at {i}\\\\n\")\\n        flag = True\\n        loc = i\\n#         print(f\"{target} is not present in item_list\")\\nprint(f\"{target} is present in items at {loc}\\\\n\")', 'loc': None, '_i126': 'loc = None\\nflag = False\\nprint(item_list)\\ntarget = input(f\"Entry target element:\")\\nprint(\"target is: \",target)\\nfor i in range(0,11):\\n    if item_list[i] == target:\\n        flag = True\\n        loc = i\\n#         print(f\"{target} is not present in item_list\")\\nprint(f\"{target} is present in items at {loc}\\\\n\")', '_i127': 'loc = None\\nflag = False\\nprint(item_list)\\ntarget = input(f\"Entry target element:\")\\nprint(\"target is: \",target)\\nfor i in range(0,11):\\n    if item_list[i] == target:\\n        flag = True\\n        loc = i\\nprint(f\"{target} is present in items at {loc}\\\\n\")', '_i128': 'for item in item_list:\\n    if item == target:\\n        found = True\\n        break\\nprint(f\"{item} is {found}\")', '_i129': 'found = False\\nfor item in item_list:\\n    if item == target:\\n        found = True\\n        break\\nprint(f\"{item} is {found}\")', 'found': True, '_i130': 'target = input(\"Enter target:\")\\nprint(item_list)\\nfound = False\\nfor item in item_list:\\n    if item == target:\\n        found = True\\n        break\\nprint(f\"{item} is {found}\")', '_i131': 'target = input(\"Enter target:\")\\nprint(item_list)\\nfound = False\\nfor item in item_list:\\n    if item == target:\\n        print({item}: {target})\\n        found = True\\n        break\\nprint(f\"{item} is {found}\")', '_i132': 'target = input(\"Enter target:\")\\nprint(item_list)\\nfound = False\\nfor item in item_list:\\n    if item == target:\\n        print(f\"{item} {target}\")\\n        found = True\\n        break\\nprint(f\"{item} is {found}\")', '_i133': 'target = input(\"Enter target:\")\\nprint(item_list)\\nfound = False\\nfor item in item_list:\\n    if item == target:\\n        found = True\\n        print(f\"{item} {target}\")\\n        break\\nprint(f\"{item} is {found}\")', '_i134': 'target = input(\"Enter target:\")\\nprint(item_list)\\nfound = False\\nfor item in item_list:\\n    print(item)\\n    if item == target:\\n        found = True\\n        print(f\"{item} {target}\")\\n        break\\nprint(f\"{item} is {found}\")', '_i135': 'target = input(\"Enter target:\")\\nprint(item_list)\\nfound = False\\nfor item in item_list:\\n    print(item, target)\\n    if item == target:\\n        found = True\\n        print(f\"{item} {target}\")\\n        break\\nprint(f\"{item} is {found}\")', '_i136': 'target = input(\"Enter target:\")\\nprint(item_list)\\nfound = False\\nfor item in item_list:\\n    print(item, target)\\n    if (item == target):\\n        found = True\\n        print(f\"{item} {target}\")\\n        break\\nprint(f\"{item} is {found}\")', '_i137': 'target = input(\"Enter target:\")\\nprint(item_list)\\nfound = False\\nfor item in item_list:\\n    print(item, target)\\n    if (item == target):\\n        found = True\\n        print(f\"{item} {target}\")\\n    break\\nprint(f\"{target} is {found}\")', '_i138': 'target = input(\"Enter target:\")\\nprint(item_list)\\nfound = False\\nfor item in item_list:\\n    print(item, target)\\n    if (item == target):\\n        found = True\\n        print(f\"{item} {target}\")\\n        break\\nprint(f\"{target} is {found}\")', '_i139': 'target = input(\"Enter target:\")\\nprint(item_list)\\nfound = False\\nfor item in item_list:\\n    print(item, target)\\n    if (item == target):\\n#         found = True\\n#         print(f\"{item} {target}\")\\n        break\\nprint(f\"{target} is {found}\")', '_i140': 'target = input(\"Enter target:\")\\nprint(item_list)\\nfound = False\\nfor item in item_list:\\n    print(item, target)\\n    if (item == target):\\n        found = True\\n        print(f\"{item} {target}\")\\nprint(f\"{target} is {found}\")', '_i141': 'target = input(\"Enter target:\")\\nprint(item_list)\\nfound = False\\nfor item in item_list:\\n    print item\\n#     print(item, target)\\n#     if (item == target):\\n#         found = True\\n#         print(f\"{item} {target}\")\\nprint(f\"{target} is {found}\")', '_i142': 'target = input(\"Enter target:\")\\nprint(item_list)\\nfound = False\\nfor item in item_list:\\n    print(item)\\n#     print(item, target)\\n#     if (item == target):\\n#         found = True\\n#         print(f\"{item} {target}\")\\nprint(f\"{target} is {found}\")', '_i143': 'target = input(\"Enter target:\")\\nprint(item_list)\\nfound = False\\nfor item in item_list:\\n    if (item == target):\\n        print(item)\\n#     print(item, target)\\n#     \\n#         found = True\\n#         print(f\"{item} {target}\")\\nprint(f\"{target} is {found}\")', '_i144': 'target = input(\"Enter target:\")\\nprint(item_list)\\nprint(type(item_list))\\nprint(type(item))\\nfound = False\\nfor item in item_list:\\n    if (item == target:\\n        print(item)\\n#     print(item, target)\\n#     \\n#         found = True\\n#         print(f\"{item} {target}\")\\nprint(f\"{target} is {found}\")', '_i145': 'target = input(\"Enter target:\")\\nprint(item_list)\\nprint(type(item_list))\\nprint(type(item))\\nfound = False\\nfor item in item_list:\\n    if item == target:\\n        print(item)\\n#     print(item, target)\\n#     \\n#         found = True\\n#         print(f\"{item} {target}\")\\nprint(f\"{target} is {found}\")', '_i146': 'target = input(\"Enter target:\")\\nprint(item_list)\\nprint(type(item_list))\\nprint(type(target))\\nfound = False\\nfor item in item_list:\\n    if item == target:\\n        print(item)\\n#     print(item, target)\\n#     \\n#         found = True\\n#         print(f\"{item} {target}\")\\nprint(f\"{target} is {found}\")', '_i147': 'target = int(input(\"Enter target:\"))\\nprint(item_list)\\nprint(type(item_list))\\nprint(type(target))\\nfound = False\\nfor item in item_list:\\n    if item == target:\\n        print(item)\\n#     print(item, target)\\n#     \\n#         found = True\\n#         print(f\"{item} {target}\")\\nprint(f\"{target} is {found}\")', '_i148': 'target = int(input(\"Enter target:\"))\\nprint(item_list)\\nprint(type(item_list))\\nprint(type(target))\\nfound = False\\nfor item in item_list:\\n    if item == target:\\n        print(item)\\n        found = True\\n        break\\n        \\nprint(f\"{target} is {found}\")', '_i149': 'target = int(input(\"Enter target:\"))\\nprint(item_list)\\n# print(type(item_list))\\n# print(type(target))\\nfound = False\\nfor item in item_list:\\n    if item == target:\\n        print(item)\\n        found = True\\n        break\\n        \\nprint(f\"{target} is {found}\")', '_i150': 'food = {\"ham\" : \"yes\", \"egg\" : \"yes\", \"spam\" : \"no\" } \\nm_l = [0, 1, 2, 3, 4, 5, 6, 7, 8, 9, 10]\\nstring = \"Prathamesh\"\\nmy_tuple = tuple(string,26)\\n\\nfor i in food:\\n    print(i)', 'food': {'ham': 'yes', 'egg': 'yes', 'spam': 'no'}, 'm_l': [0, 1, 2, 3, 4, 5, 6, 7, 8, 9, 10], 'string': 'Prathamesh', '_i151': 'food = {\"ham\" : \"yes\", \"egg\" : \"yes\", \"spam\" : \"no\" } \\nm_l = [0, 1, 2, 3, 4, 5, 6, 7, 8, 9, 10]\\nstring = \"Prathamesh\"\\nmy_tuple = tuple(string)\\n\\nfor i in food:\\n    print(i)', '_i152': 'food = {\"ham\" : \"yes\", \"egg\" : \"yes\", \"spam\" : \"no\" } \\nm_l = [0, 1, 2, 3, 4, 5, 6, 7, 8, 9, 10]\\nstring = \"Prathamesh\"\\nmy_tuple = tuple(string)\\n\\nfor i in food:\\n    print(food[i])', '_i153': 'food = {\"ham\" : \"yes\", \"egg\" : \"yes\", \"spam\" : \"no\" } \\nm_l = [0, 1, 2, 3, 4, 5, 6, 7, 8, 9, 10]\\nstring = \"Prathamesh\"\\nmy_tuple = tuple(string)\\nchoice = input(f\"Enter: \")\\nfor i in food:\\n    if choice == i:\\n        print(food[i])', 'choice': 'ham', '_i154': 'food = {\"ham\" : \"yes\", \"egg\" : \"yes\", \"spam\" : \"no\" } \\nm_l = [0, 1, 2, 3, 4, 5, 6, 7, 8, 9, 10]\\nstring = \"Prathamesh\"\\nmy_tuple = tuple(string)\\nchoice = input(f\"Enter what you wan\\'t to enquire first: \")\\nfor i in food:\\n    if choice == i:\\n        print(food[i])', '_i155': 'food = {\"ham\" : \"yes\", \"egg\" : \"yes\", \"spam\" : \"no\" } \\nm_l = [0, 1, 2, 3, 4, 5, 6, 7, 8, 9, 10]\\nstring = \"Prathamesh\"\\nmy_tuple = tuple(string)\\ndef menu_checker():\\n    choice = input(f\"Enter what you wan\\'t to enquire first: \")\\n    for i in food:\\n        if choice == i:\\n            print(food[i])\\n            continue', 'menu_checker': <function menu_checker at 0x0000018833B48598>, '_i156': 'menu_checker()', '_i157': 'food = {\"ham\" : \"yes\", \"egg\" : \"yes\", \"spam\" : \"no\" } \\nm_l = [0, 1, 2, 3, 4, 5, 6, 7, 8, 9, 10]\\nstring = \"Prathamesh\"\\nmy_tuple = tuple(string)\\ndef menu_checker():\\n    choice = input(f\"Enter what you wan\\'t to enquire : \")\\n    for i in food:\\n        if choice == i:\\n            print(food[i])\\n            choice = input(\"Anything Else: \")\\n            if choice != \"No\":\\n                continue\\n            else:\\n                break', '_i158': 'menu_checker()', '_i159': 'my_dir= dir()\\nprint(my_dir)', 'my_dir': ['In', 'Out', '_', '__', '___', '__builtin__', '__builtins__', '__doc__', '__loader__', '__name__', '__package__', '__spec__', '_dh', '_i', '_i1', '_i10', '_i100', '_i101', '_i102', '_i103', '_i104', '_i105', '_i106', '_i107', '_i108', '_i109', '_i11', '_i110', '_i111', '_i112', '_i113', '_i114', '_i115', '_i116', '_i117', '_i118', '_i119', '_i12', '_i120', '_i121', '_i122', '_i123', '_i124', '_i125', '_i126', '_i127', '_i128', '_i129', '_i13', '_i130', '_i131', '_i132', '_i133', '_i134', '_i135', '_i136', '_i137', '_i138', '_i139', '_i14', '_i140', '_i141', '_i142', '_i143', '_i144', '_i145', '_i146', '_i147', '_i148', '_i149', '_i15', '_i150', '_i151', '_i152', '_i153', '_i154', '_i155', '_i156', '_i157', '_i158', '_i159', '_i16', '_i160', '_i161', '_i162', '_i163', '_i164', '_i165', '_i17', '_i18', '_i19', '_i2', '_i20', '_i21', '_i22', '_i23', '_i24', '_i25', '_i26', '_i27', '_i28', '_i29', '_i3', '_i30', '_i31', '_i32', '_i33', '_i34', '_i35', '_i36', '_i37', '_i38', '_i39', '_i4', '_i40', '_i41', '_i42', '_i43', '_i44', '_i45', '_i46', '_i47', '_i48', '_i49', '_i5', '_i50', '_i51', '_i52', '_i53', '_i54', '_i55', '_i56', '_i57', '_i58', '_i59', '_i6', '_i60', '_i61', '_i62', '_i63', '_i64', '_i65', '_i66', '_i67', '_i68', '_i69', '_i7', '_i70', '_i71', '_i72', '_i73', '_i74', '_i75', '_i76', '_i77', '_i78', '_i79', '_i8', '_i80', '_i81', '_i82', '_i83', '_i84', '_i85', '_i86', '_i87', '_i88', '_i89', '_i9', '_i90', '_i91', '_i92', '_i93', '_i94', '_i95', '_i96', '_i97', '_i98', '_i99', '_ih', '_ii', '_iii', '_oh', 'big', 'bool_var', 'choice', 'data', 'ele', 'exit', 'flag', 'food', 'found', 'get_ipython', 'h', 'i', 'item', 'item_list', 'j', 'l', 'largest_ele', 'li', 'limit', 'loc', 'm_l', 'menu_checker', 'my_bool_var', 'my_dict', 'my_dir', 'my_fuction', 'my_list', 'my_range', 'my_str', 'my_tuple', 'quit', 's', 'string', 't', 'table', 'tap', 'target', 'text', 'time', 'time_limit', 'time_limit_reached', 'variables', 'varibles', 'word'], '_i160': 'def my_fuction():\\n    my_list = []\\n    for i in range(0,11):\\n        my_list.append(i)\\n    print(my_list)', 'my_fuction': <function my_fuction at 0x0000018833B48620>, '_i161': 'my_fuction()', '_i162': 'my_dir= dir()\\nprint(my_dir) # prints the list of local scope vaibles\\n\\nvaribles = var()\\nprint(f\"Variable:{variable}\")', '_i163': 'my_dir= dir()\\nprint(my_dir) # prints the list of local scope vaibles\\n\\nvaribles = vars()\\nprint(f\"Variable:{variable}\")', 'varibles': {...}, '_i164': 'my_dir= dir()\\nprint(my_dir) # prints the list of local scope vaibles\\n\\nvariables = vars()\\nprint(f\"Variable:{variable}\")', 'variables': {...}, '_i165': 'my_dir= dir()\\nprint(my_dir) # prints the list of local scope vaibles\\n\\nvariables = vars()\\nprint(f\"Variable:{variables}\")'}\n"
     ]
    }
   ],
   "source": [
    "my_dir= dir()\n",
    "print(my_dir) # prints the list of local scope vaibles\n",
    "\n",
    "variables = vars()\n",
    "print(f\"Variable:{variables}\")"
   ]
  },
  {
   "cell_type": "code",
   "execution_count": 160,
   "metadata": {
    "collapsed": true
   },
   "outputs": [],
   "source": [
    "def my_fuction():\n",
    "    my_list = []\n",
    "    for i in range(0,11):\n",
    "        my_list.append(i)\n",
    "    print(my_list)"
   ]
  },
  {
   "cell_type": "code",
   "execution_count": 161,
   "metadata": {},
   "outputs": [
    {
     "name": "stdout",
     "output_type": "stream",
     "text": [
      "[0, 1, 2, 3, 4, 5, 6, 7, 8, 9, 10]\n"
     ]
    }
   ],
   "source": [
    "my_fuction()\n",
    "pri"
   ]
  },
  {
   "cell_type": "code",
   "execution_count": 167,
   "metadata": {},
   "outputs": [
    {
     "name": "stdout",
     "output_type": "stream",
     "text": [
      "[1, 2, 3, 4, 5, 6]\n",
      "[1, 2, 3, 4, 5, 6, 7, 8, 9]\n"
     ]
    }
   ],
   "source": [
    "alpha = [1,2,3]\n",
    "beta = alpha\n",
    "beta += [4,5,6]\n",
    "print(beta)\n",
    "beta = beta + [7,8,9]\n",
    "print(beta)"
   ]
  },
  {
   "cell_type": "code",
   "execution_count": 185,
   "metadata": {},
   "outputs": [
    {
     "name": "stdout",
     "output_type": "stream",
     "text": [
      "[0, 2, 4, 6, 8, 10, 12, 14, 16, 18, 20]\n"
     ]
    }
   ],
   "source": [
    "def scale(data,factor):\n",
    "    for ele in data:\n",
    "#         print(ele * factor)\n",
    "#         ele = ele * factor\n",
    "        my_l2.append(ele * factor)\n",
    "my_l1 = [0, 1, 2, 3, 4, 5, 6, 7, 8, 9, 10]\n",
    "my_l2 = []\n",
    "scale(my_l1,2)\n",
    "print(f\"Scaled by factor of {2}\",my_l2)"
   ]
  },
  {
   "cell_type": "code",
   "execution_count": 197,
   "metadata": {},
   "outputs": [
    {
     "name": "stdout",
     "output_type": "stream",
     "text": [
      "a:10\n",
      " b:20\n",
      " c:30\n",
      "60\n",
      "a:10\n",
      " b:20\n",
      " c:30\n",
      "60\n"
     ]
    }
   ],
   "source": [
    "# Polymorphic function calling : More than one callig signature\n",
    "def sum_fun(a, b, c = 30 ):\n",
    "    print(f\"a:{a}\\n b:{b}\\n c:{c}\")\n",
    "    return a + b + c\n",
    "print(f\"{sum_fun(10, 20)}\")\n",
    "print(f\"{sum_fun(10, 20)}\")"
   ]
  },
  {
   "cell_type": "code",
   "execution_count": 202,
   "metadata": {},
   "outputs": [
    {
     "data": {
      "text/plain": [
       "60"
      ]
     },
     "execution_count": 202,
     "metadata": {},
     "output_type": "execute_result"
    }
   ],
   "source": [
    "# Keyword parameters\n",
    "def foo(a, b, c):\n",
    "    return a + b + c\n",
    "\n",
    "thirty = 30\n",
    "foo(10,20,thirty)"
   ]
  },
  {
   "cell_type": "markdown",
   "metadata": {},
   "source": [
    "## How to study python functions\n",
    "+ https://docs.python.org/2/library/functions.html?highlight=id#id"
   ]
  },
  {
   "cell_type": "code",
   "execution_count": 216,
   "metadata": {},
   "outputs": [
    {
     "name": "stdout",
     "output_type": "stream",
     "text": [
      "Enter Character to know the ASCII value:A\n",
      "ASCII equivalnet of A is 65\n"
     ]
    }
   ],
   "source": [
    "#Built in python functions\n",
    "new_char = input(f\"Enter Character to know the ASCII value:\")\n",
    "print(f\"ASCII equivalnet of {new_char} is {ord(new_char)}\")\n",
    "def value_printer(start,end):\n",
    "    for i in range(start,end):\n",
    "        print(f\"{chr(i)}\") # chr() return One character \n",
    "# value_printer(65,91) # for A to Z\n",
    "# value_printer(48,58) # for 1 to 9\n",
    "# value_printer(97,123) # for a to z"
   ]
  },
  {
   "cell_type": "code",
   "execution_count": 220,
   "metadata": {},
   "outputs": [
    {
     "name": "stdout",
     "output_type": "stream",
     "text": [
      "10\n"
     ]
    }
   ],
   "source": [
    "# Common Built-in functions\n",
    "a = -10\n",
    "print(abs(a)) # absolute value is distance of a quantity from 0\n",
    "list_a = [10,20,30,40,50]"
   ]
  },
  {
   "cell_type": "code",
   "execution_count": 2,
   "metadata": {},
   "outputs": [
    {
     "name": "stdout",
     "output_type": "stream",
     "text": [
      "Each element in list is: True\n"
     ]
    }
   ],
   "source": [
    "def all(list_a): # checks if all of the elements of iterable are true\n",
    "    for ele in list_a:\n",
    "        if not bool(ele):\n",
    "            return False\n",
    "    return True\n",
    "\n",
    "list_a = [-1,-2,-3,-4,-4,-5]        \n",
    "print(f\"Each element in list is: {all(list_a)}\")"
   ]
  },
  {
   "cell_type": "code",
   "execution_count": 241,
   "metadata": {
    "collapsed": true
   },
   "outputs": [],
   "source": [
    "def any(list_a): # checks of an of the element of iterable is true\n",
    "    for ele in list_a:\n",
    "        if ele:\n",
    "            return True\n",
    "    return False"
   ]
  },
  {
   "cell_type": "code",
   "execution_count": 242,
   "metadata": {},
   "outputs": [
    {
     "data": {
      "text/plain": [
       "True"
      ]
     },
     "execution_count": 242,
     "metadata": {},
     "output_type": "execute_result"
    }
   ],
   "source": [
    "any(list_a)"
   ]
  },
  {
   "cell_type": "code",
   "execution_count": 7,
   "metadata": {},
   "outputs": [
    {
     "name": "stdout",
     "output_type": "stream",
     "text": [
      "Y\n"
     ]
    }
   ],
   "source": [
    "# chr(integer) returns ASCII equivalant of number\n",
    "print(chr(89))"
   ]
  },
  {
   "cell_type": "code",
   "execution_count": 8,
   "metadata": {},
   "outputs": [
    {
     "name": "stdout",
     "output_type": "stream",
     "text": [
      "(10, 0)\n",
      "(2, 0)\n"
     ]
    }
   ],
   "source": [
    "# divemod together as tuple returns x//y, and x%y\n",
    "print(divmod(30,3)) # 30//3 = 10, 30%3 = 0\n",
    "print(divmod(24,12))"
   ]
  },
  {
   "cell_type": "code",
   "execution_count": 14,
   "metadata": {},
   "outputs": [
    {
     "name": "stdout",
     "output_type": "stream",
     "text": [
      "Enter numbersahfjah\n",
      "hash code is -3215991416613355742\n",
      "2217749066504\n"
     ]
    }
   ],
   "source": [
    "# returns integer hash value of the\n",
    "text = input(\"Enter numbers\")\n",
    "print(f\"hash code is {hash(text)}\")\n",
    "print(id(text)) # returns memory address of text"
   ]
  },
  {
   "cell_type": "code",
   "execution_count": 251,
   "metadata": {},
   "outputs": [
    {
     "name": "stdout",
     "output_type": "stream",
     "text": [
      "[-1, -2, -3, -4, -4, -5]\n",
      "1683980374920\n"
     ]
    }
   ],
   "source": [
    "# id() returns unique intege serving as identity of the object\n",
    "print(list_a)\n",
    "print(id(list_a)) # identity of object unique for its life time :\n",
    "# it's Cpython implimentation detail, memory address of object"
   ]
  },
  {
   "cell_type": "code",
   "execution_count": 252,
   "metadata": {},
   "outputs": [
    {
     "name": "stdout",
     "output_type": "stream",
     "text": [
      "True\n"
     ]
    }
   ],
   "source": [
    "# isinstance() determines if the object is instance of same class\n",
    "a = 10\n",
    "print(isinstance(a, int))"
   ]
  },
  {
   "cell_type": "code",
   "execution_count": 21,
   "metadata": {},
   "outputs": [
    {
     "name": "stdout",
     "output_type": "stream",
     "text": [
      "192.168.10.1\n",
      "Home_ip is IP address\n"
     ]
    }
   ],
   "source": [
    "class Ip:\n",
    "    def __init__(self,ip_ad):\n",
    "        self.host_address = ip_ad\n",
    "\n",
    "home_ip = Ip('192.168.10.1')\n",
    "print(home_ip.host_address)\n",
    "\n",
    "if isinstance(home_ip,Ip):\n",
    "    print(\"Home_ip is IP address\")"
   ]
  },
  {
   "cell_type": "code",
   "execution_count": 30,
   "metadata": {},
   "outputs": [
    {
     "name": "stdout",
     "output_type": "stream",
     "text": [
      "[0, 1, 2, 3, 4, 5, 6, 7, 8]\n",
      "0 1\n"
     ]
    }
   ],
   "source": [
    "# Returns iterator object of the parameter\n",
    "# iter() returns the object whos elements are accessible by next() in squentital manner\n",
    "list_a = [x for x in range(0,9) if True]\n",
    "print(list_a)\n",
    "my_list = iter(list_a)\n",
    "print(next(my_list),next(my_list))"
   ]
  },
  {
   "cell_type": "code",
   "execution_count": 254,
   "metadata": {},
   "outputs": [
    {
     "data": {
      "text/plain": [
       "6"
      ]
     },
     "execution_count": 254,
     "metadata": {},
     "output_type": "execute_result"
    }
   ],
   "source": [
    "# returns length\n",
    "len(list_a)"
   ]
  },
  {
   "cell_type": "code",
   "execution_count": 46,
   "metadata": {},
   "outputs": [
    {
     "name": "stdout",
     "output_type": "stream",
     "text": [
      "[0, 1, 2, 3, 4, 5, 6, 7, 8]\n",
      "[0, 1, 4, 9, 16, 25, 36, 49, 64]\n"
     ]
    }
   ],
   "source": [
    "def sq(num):\n",
    "    return num * num\n",
    "\n",
    "mylist = [x for x in range(0,9) if True]\n",
    "print(mylist)\n",
    "sq_list = map(sq,mylist)\n",
    "print(list(sq_list))"
   ]
  },
  {
   "cell_type": "code",
   "execution_count": 53,
   "metadata": {},
   "outputs": [
    {
     "name": "stdout",
     "output_type": "stream",
     "text": [
      "[0, 1, 2, 3, 4, 5, 6, 7, 8] has max ele 8\n",
      "[0, 1, 2, 3, 4, 5, 6, 7, 8] has max ele 0\n",
      "8 0\n"
     ]
    }
   ],
   "source": [
    "#max(iterable) returns max of iterable\n",
    "print(f\"{mylist} has max ele {max(mylist)}\")\n",
    "print(f\"{mylist} has max ele {min(mylist)}\")\n",
    "\n",
    "# max(a,b,c,d)\n",
    "print(max(0,1,2,3,4,5,6,7,8), min(0,1,2,3,4,5,6,7,8))"
   ]
  },
  {
   "cell_type": "code",
   "execution_count": 259,
   "metadata": {},
   "outputs": [
    {
     "name": "stdout",
     "output_type": "stream",
     "text": [
      "Largest element of list_a is -1\n",
      "50\n",
      "10\n"
     ]
    }
   ],
   "source": [
    "# max() returns the largest element of give iteration \n",
    "print(f\"Largest element of list_a is {max(list_a)}\")\n",
    "\n",
    "maximum_value = max(10,20,30,50)\n",
    "print(maximum_value)\n",
    "\n",
    "minimum_value = min(10,20,30,50)\n",
    "print(minimum_value)"
   ]
  },
  {
   "cell_type": "code",
   "execution_count": 268,
   "metadata": {},
   "outputs": [
    {
     "name": "stdout",
     "output_type": "stream",
     "text": [
      "[-1, -2, -3, -4, -4, -5]\n",
      "-1\n",
      "-2\n"
     ]
    }
   ],
   "source": [
    "#returns the object of iterable type\n",
    "print(list_a)\n",
    "iterable_object = iter(list_a) # returns the object of iterable type\n",
    "print(next(iterable_object, -1))\n",
    "print(next(iterable_object, -1))\n",
    "# it = iter(list_a)\n",
    "# print(next(it,-1))"
   ]
  },
  {
   "cell_type": "code",
   "execution_count": 274,
   "metadata": {},
   "outputs": [
    {
     "name": "stdout",
     "output_type": "stream",
     "text": [
      "order of the A is 126\n"
     ]
    }
   ],
   "source": [
    "print(f\"order of the A is {ord('~')}\")"
   ]
  },
  {
   "cell_type": "code",
   "execution_count": 280,
   "metadata": {},
   "outputs": [
    {
     "name": "stdout",
     "output_type": "stream",
     "text": [
      "Enter base Number\n",
      "10\n",
      "Enter power\n",
      "2\n",
      "You entered x:10 y:2 : x^y 100\n"
     ]
    }
   ],
   "source": [
    "# pow(x,y)\n",
    "x = int(input(f\"Enter base Number\\n\"))\n",
    "y = int(input(f\"Enter power\\n\"))\n",
    "print(f\"You entered x:{x} y:{y} : x^y\", pow(x,y))"
   ]
  },
  {
   "cell_type": "code",
   "execution_count": null,
   "metadata": {
    "collapsed": true
   },
   "outputs": [],
   "source": []
  },
  {
   "cell_type": "markdown",
   "metadata": {},
   "source": [
    "z = int(input(f\"Enter the divisor\"))\n",
    "print(f\"{x} {y} x^y mod z {z}: \", pow(x,y,z))"
   ]
  },
  {
   "cell_type": "code",
   "execution_count": 288,
   "metadata": {},
   "outputs": [
    {
     "name": "stdout",
     "output_type": "stream",
     "text": [
      "Reverse of [-1, -2, -3, -4, -4, -5] is [-5, -4, -4, -3, -2, -1]\n"
     ]
    }
   ],
   "source": [
    "# reversing a function using reversed()\n",
    "rev_list = reversed(list_a)\n",
    "print(f\"Reverse of {list_a} is {list(rev_list)}\")"
   ]
  },
  {
   "cell_type": "code",
   "execution_count": 4,
   "metadata": {},
   "outputs": [
    {
     "name": "stdout",
     "output_type": "stream",
     "text": [
      "a : 10 b:  11 c: 10\n"
     ]
    }
   ],
   "source": [
    "# round() tie is broken towards the even value\n",
    "a = 10.49\n",
    "b= 10.51\n",
    "c= 10.50\n",
    "print(f\"a : {round(a)} b:  {round(b)} c: {round(c)}\") # \"c\" is tie broken at nearest even number"
   ]
  },
  {
   "cell_type": "code",
   "execution_count": 6,
   "metadata": {},
   "outputs": [
    {
     "name": "stdout",
     "output_type": "stream",
     "text": [
      "a : 10.49 b : 10.51 rounded 10\n"
     ]
    }
   ],
   "source": [
    "# round(x,k)\n",
    "print(f\"a : {a} b : {b} rounded {round(round(a),round(b))}\")"
   ]
  },
  {
   "cell_type": "code",
   "execution_count": 8,
   "metadata": {},
   "outputs": [
    {
     "name": "stdout",
     "output_type": "stream",
     "text": [
      "-19\n"
     ]
    }
   ],
   "source": [
    "# Sum(iterable) returns the sum of elements in the itereable\n",
    "my_a = [-1, -2, -3, -4, -4, -5]\n",
    "print(sum(my_a))"
   ]
  },
  {
   "cell_type": "code",
   "execution_count": 11,
   "metadata": {},
   "outputs": [
    {
     "name": "stdout",
     "output_type": "stream",
     "text": [
      "<class 'float'>\n",
      "<class 'float'>\n"
     ]
    }
   ],
   "source": [
    "#type() Returns the class as a type of object\n",
    "print(f\"{type(a)}\")\n",
    "print(f\"{type(b)}\")"
   ]
  },
  {
   "cell_type": "markdown",
   "metadata": {},
   "source": [
    "# Exception Hadelling \n",
    "\n",
    " + error Classes are \n",
    "     ZeroDivisonError('We pass message to be displayed in this exception')\n",
    "     ValueError()\n",
    "     .\n",
    "     .\n",
    "     .\n",
    "     "
   ]
  },
  {
   "cell_type": "code",
   "execution_count": 17,
   "metadata": {},
   "outputs": [
    {
     "name": "stdout",
     "output_type": "stream",
     "text": [
      "Total is -19\n"
     ]
    }
   ],
   "source": [
    "# A simple function for sum\n",
    "values = [-1, -2, -3, -4, -4, -5]\n",
    "def sum():\n",
    "    total = 0\n",
    "    for ele in values:\n",
    "        total += ele\n",
    "    print(f\"Total is {total}\")\n",
    "\n",
    "sum()"
   ]
  },
  {
   "cell_type": "code",
   "execution_count": 33,
   "metadata": {},
   "outputs": [
    {
     "name": "stdout",
     "output_type": "stream",
     "text": [
      "0\n",
      "1\n",
      "2\n",
      "3\n",
      "4\n",
      "5\n",
      "6\n",
      "7\n",
      "8\n",
      "<class 'StopIteration'>\n"
     ]
    }
   ],
   "source": [
    "try:\n",
    "    my_list = [x for x in range(0,9) if True]\n",
    "    my_list = iter(my_list)\n",
    "    while True:\n",
    "        print(next(my_list))\n",
    "except StopIteration:\n",
    "    print(StopIteration)\n",
    "    #print(\"list index out of range\")"
   ]
  },
  {
   "cell_type": "code",
   "execution_count": 28,
   "metadata": {},
   "outputs": [
    {
     "name": "stdout",
     "output_type": "stream",
     "text": [
      "<class 'list'>\n"
     ]
    }
   ],
   "source": [
    "#sum program with exception handelling \n",
    "import collections\n",
    "values = [-1, -2, -3, 4, 4, 5]\n",
    "print(type(values))\n",
    "      \n",
    "def sum():\n",
    "    total = 0\n",
    "    if isinstance(values, collections.Iterable):\n",
    "        if isinstance(values,int):\n",
    "            for ele in values:\n",
    "                print(type(ele))\n",
    "                total += ele\n",
    "        else:\n",
    "            raise ValueError(\"Elements must be numeric\")\n",
    "    else:\n",
    "        raise TypeError(\"parameter must be iterable\")\n",
    "        \n",
    "    return total\n",
    "\n",
    "# sum()\n"
   ]
  },
  {
   "cell_type": "code",
   "execution_count": 2,
   "metadata": {},
   "outputs": [
    {
     "name": "stdout",
     "output_type": "stream",
     "text": [
      "Enter the first number\n",
      "0\n"
     ]
    },
    {
     "ename": "ValueError",
     "evalue": "Cant not be zero",
     "output_type": "error",
     "traceback": [
      "\u001b[1;31m---------------------------------------------------------------------------\u001b[0m",
      "\u001b[1;31mValueError\u001b[0m                                Traceback (most recent call last)",
      "\u001b[1;32m<ipython-input-2-3ca00cdf6fdb>\u001b[0m in \u001b[0;36m<module>\u001b[1;34m()\u001b[0m\n\u001b[0;32m      1\u001b[0m \u001b[0mx\u001b[0m \u001b[1;33m=\u001b[0m \u001b[0mint\u001b[0m\u001b[1;33m(\u001b[0m\u001b[0minput\u001b[0m\u001b[1;33m(\u001b[0m\u001b[1;34mf\"Enter the first number\\n\"\u001b[0m\u001b[1;33m)\u001b[0m\u001b[1;33m)\u001b[0m\u001b[1;33m\u001b[0m\u001b[0m\n\u001b[0;32m      2\u001b[0m \u001b[1;32mif\u001b[0m \u001b[0mx\u001b[0m \u001b[1;33m<=\u001b[0m \u001b[1;36m0\u001b[0m\u001b[1;33m:\u001b[0m\u001b[1;33m\u001b[0m\u001b[0m\n\u001b[1;32m----> 3\u001b[1;33m     \u001b[1;32mraise\u001b[0m \u001b[0mValueError\u001b[0m\u001b[1;33m(\u001b[0m\u001b[1;34mf\"Cant not be zero\"\u001b[0m\u001b[1;33m)\u001b[0m\u001b[1;33m\u001b[0m\u001b[0m\n\u001b[0m",
      "\u001b[1;31mValueError\u001b[0m: Cant not be zero"
     ]
    }
   ],
   "source": [
    "# Raising an exception\n",
    "x = int(input(f\"Enter the first number\\n\"))\n",
    "if x <= 0:\n",
    "    raise ValueError(f\"Cant not be zero\")"
   ]
  },
  {
   "cell_type": "code",
   "execution_count": 14,
   "metadata": {},
   "outputs": [
    {
     "ename": "TypeError",
     "evalue": "Type Error",
     "output_type": "error",
     "traceback": [
      "\u001b[1;31m---------------------------------------------------------------------------\u001b[0m",
      "\u001b[1;31mTypeError\u001b[0m                                 Traceback (most recent call last)",
      "\u001b[1;32m<ipython-input-14-6a519dce2e2b>\u001b[0m in \u001b[0;36m<module>\u001b[1;34m()\u001b[0m\n\u001b[0;32m      7\u001b[0m     \u001b[1;32melse\u001b[0m\u001b[1;33m:\u001b[0m\u001b[1;33m\u001b[0m\u001b[0m\n\u001b[0;32m      8\u001b[0m         \u001b[1;32mraise\u001b[0m \u001b[0mTypeError\u001b[0m\u001b[1;33m(\u001b[0m\u001b[1;34m\"Type Error\"\u001b[0m\u001b[1;33m)\u001b[0m\u001b[1;33m\u001b[0m\u001b[0m\n\u001b[1;32m----> 9\u001b[1;33m \u001b[0msqrt\u001b[0m\u001b[1;33m(\u001b[0m\u001b[1;34m'A'\u001b[0m\u001b[1;33m)\u001b[0m\u001b[1;33m\u001b[0m\u001b[0m\n\u001b[0m",
      "\u001b[1;32m<ipython-input-14-6a519dce2e2b>\u001b[0m in \u001b[0;36msqrt\u001b[1;34m(x)\u001b[0m\n\u001b[0;32m      6\u001b[0m             \u001b[0mprint\u001b[0m\u001b[1;33m(\u001b[0m\u001b[1;34mf\"{pow(x,0.5)}\"\u001b[0m\u001b[1;33m)\u001b[0m\u001b[1;33m\u001b[0m\u001b[0m\n\u001b[0;32m      7\u001b[0m     \u001b[1;32melse\u001b[0m\u001b[1;33m:\u001b[0m\u001b[1;33m\u001b[0m\u001b[0m\n\u001b[1;32m----> 8\u001b[1;33m         \u001b[1;32mraise\u001b[0m \u001b[0mTypeError\u001b[0m\u001b[1;33m(\u001b[0m\u001b[1;34m\"Type Error\"\u001b[0m\u001b[1;33m)\u001b[0m\u001b[1;33m\u001b[0m\u001b[0m\n\u001b[0m\u001b[0;32m      9\u001b[0m \u001b[0msqrt\u001b[0m\u001b[1;33m(\u001b[0m\u001b[1;34m'A'\u001b[0m\u001b[1;33m)\u001b[0m\u001b[1;33m\u001b[0m\u001b[0m\n",
      "\u001b[1;31mTypeError\u001b[0m: Type Error"
     ]
    }
   ],
   "source": [
    "def sqrt(x):\n",
    "    if isinstance(x,(int,float)):\n",
    "        if x < 0:\n",
    "            raise (\"Can not be negative\")\n",
    "        elif type(x) == str: \n",
    "            print(f\"{pow(x,0.5)}\")\n",
    "    else:\n",
    "        raise TypeError(\"Type Error\")\n",
    "sqrt('A')"
   ]
  },
  {
   "cell_type": "code",
   "execution_count": 18,
   "metadata": {},
   "outputs": [
    {
     "ename": "TypeError",
     "evalue": "'int' object is not iterable",
     "output_type": "error",
     "traceback": [
      "\u001b[1;31m---------------------------------------------------------------------------\u001b[0m",
      "\u001b[1;31mTypeError\u001b[0m                                 Traceback (most recent call last)",
      "\u001b[1;32m<ipython-input-18-b19bd45c4316>\u001b[0m in \u001b[0;36m<module>\u001b[1;34m()\u001b[0m\n\u001b[0;32m      6\u001b[0m \u001b[1;33m\u001b[0m\u001b[0m\n\u001b[0;32m      7\u001b[0m \u001b[0mlist_a\u001b[0m \u001b[1;33m=\u001b[0m \u001b[1;36m3\u001b[0m \u001b[1;31m# [-5, -4, -4, -3, -2, -1]\u001b[0m\u001b[1;33m\u001b[0m\u001b[0m\n\u001b[1;32m----> 8\u001b[1;33m \u001b[0msum\u001b[0m\u001b[1;33m(\u001b[0m\u001b[0mlist_a\u001b[0m\u001b[1;33m)\u001b[0m\u001b[1;33m\u001b[0m\u001b[0m\n\u001b[0m",
      "\u001b[1;32m<ipython-input-18-b19bd45c4316>\u001b[0m in \u001b[0;36msum\u001b[1;34m(values)\u001b[0m\n\u001b[0;32m      1\u001b[0m \u001b[1;32mdef\u001b[0m \u001b[0msum\u001b[0m\u001b[1;33m(\u001b[0m\u001b[0mvalues\u001b[0m\u001b[1;33m)\u001b[0m\u001b[1;33m:\u001b[0m\u001b[1;33m\u001b[0m\u001b[0m\n\u001b[0;32m      2\u001b[0m     \u001b[0mtotal\u001b[0m \u001b[1;33m=\u001b[0m \u001b[1;36m0\u001b[0m\u001b[1;33m\u001b[0m\u001b[0m\n\u001b[1;32m----> 3\u001b[1;33m     \u001b[1;32mfor\u001b[0m \u001b[0mv\u001b[0m \u001b[1;32min\u001b[0m \u001b[0mvalues\u001b[0m\u001b[1;33m:\u001b[0m\u001b[1;33m\u001b[0m\u001b[0m\n\u001b[0m\u001b[0;32m      4\u001b[0m         \u001b[0mtotal\u001b[0m \u001b[1;33m=\u001b[0m \u001b[0mtotal\u001b[0m \u001b[1;33m+\u001b[0m \u001b[0mv\u001b[0m\u001b[1;33m\u001b[0m\u001b[0m\n\u001b[0;32m      5\u001b[0m     \u001b[1;32mreturn\u001b[0m \u001b[0mtotal\u001b[0m\u001b[1;33m\u001b[0m\u001b[0m\n",
      "\u001b[1;31mTypeError\u001b[0m: 'int' object is not iterable"
     ]
    }
   ],
   "source": [
    "def sum(values):\n",
    "    total = 0\n",
    "    for v in values:\n",
    "        total = total + v\n",
    "    return total\n",
    "\n",
    "list_a = 3 # [-5, -4, -4, -3, -2, -1]\n",
    "sum(list_a)"
   ]
  },
  {
   "cell_type": "code",
   "execution_count": 26,
   "metadata": {},
   "outputs": [
    {
     "name": "stdout",
     "output_type": "stream",
     "text": [
      "Enter your age-30\n",
      "Age cant be 0\n",
      "Enter your age$\n",
      "end of file invalid literal for int() with base 10: '$'\n",
      "Enter your age20\n"
     ]
    }
   ],
   "source": [
    "# multiple exception\n",
    "age = -1\n",
    "while age <= 0:\n",
    "    try:\n",
    "        age = int(input(f\"Enter your age\"))\n",
    "        if age <= 0:\n",
    "            print(f\"Age cant be 0\")\n",
    "    except ValueError as v:\n",
    "        print(\"end of file\",v)\n",
    "    except EOFError as e:\n",
    "        print(\"Invalid Response\",e)\n",
    "        pass\n",
    "        "
   ]
  },
  {
   "cell_type": "code",
   "execution_count": 28,
   "metadata": {},
   "outputs": [
    {
     "name": "stdout",
     "output_type": "stream",
     "text": [
      "<str_iterator object at 0x000001F321EE7C50>\n"
     ]
    }
   ],
   "source": [
    "mystr = \"Prathamesh\"\n",
    "itstr = iter(mystr)\n",
    "print(itstr)"
   ]
  },
  {
   "cell_type": "markdown",
   "metadata": {},
   "source": [
    "# File Functions "
   ]
  },
  {
   "cell_type": "code",
   "execution_count": 64,
   "metadata": {
    "collapsed": true
   },
   "outputs": [],
   "source": [
    "file_contents = open('myfile.txt')\n",
    "#file_contents.read()"
   ]
  },
  {
   "cell_type": "code",
   "execution_count": 66,
   "metadata": {},
   "outputs": [
    {
     "data": {
      "text/plain": [
       "'is is my t'"
      ]
     },
     "execution_count": 66,
     "metadata": {},
     "output_type": "execute_result"
    }
   ],
   "source": [
    "file_contents.read(10)"
   ]
  },
  {
   "cell_type": "code",
   "execution_count": 67,
   "metadata": {},
   "outputs": [
    {
     "data": {
      "text/plain": [
       "'ext file. \\n'"
      ]
     },
     "execution_count": 67,
     "metadata": {},
     "output_type": "execute_result"
    }
   ],
   "source": [
    "file_contents.readline()"
   ]
  },
  {
   "cell_type": "code",
   "execution_count": 69,
   "metadata": {},
   "outputs": [
    {
     "data": {
      "text/plain": [
       "[]"
      ]
     },
     "execution_count": 69,
     "metadata": {},
     "output_type": "execute_result"
    }
   ],
   "source": [
    "file_contents.readlines()"
   ]
  },
  {
   "cell_type": "code",
   "execution_count": 73,
   "metadata": {
    "collapsed": true
   },
   "outputs": [],
   "source": [
    "for line in file_contents:\n",
    "    print(f\"{line}\")"
   ]
  },
  {
   "cell_type": "markdown",
   "metadata": {},
   "source": [
    "# Better way to shorten your code "
   ]
  },
  {
   "cell_type": "code",
   "execution_count": 2,
   "metadata": {},
   "outputs": [
    {
     "name": "stdout",
     "output_type": "stream",
     "text": [
      "You are fined True\n"
     ]
    }
   ],
   "source": [
    "def give_ticket(speed,limit):\n",
    "  if speed > limit:\n",
    "    return True\n",
    "  else:\n",
    "    return False\n",
    "  \n",
    "print(f\"You are fined {give_ticket(50,40)}\")"
   ]
  },
  {
   "cell_type": "code",
   "execution_count": null,
   "metadata": {
    "collapsed": true
   },
   "outputs": [],
   "source": [
    "speed = 50\n",
    "limit = 40\n",
    "dec = True if speed > limit else False\n",
    "print(f\"You are fined {dec}\")"
   ]
  },
  {
   "cell_type": "markdown",
   "metadata": {},
   "source": [
    "# List Comprehension in python "
   ]
  },
  {
   "cell_type": "code",
   "execution_count": 3,
   "metadata": {},
   "outputs": [
    {
     "name": "stdout",
     "output_type": "stream",
     "text": [
      "[0, 2, 4, 6, 8, 10, 12, 14, 16, 18]\n"
     ]
    }
   ],
   "source": [
    "my_list= []\n",
    "for i in range(0,20):\n",
    "  if i % 2 ==0:\n",
    "    my_list.append(i)\n",
    "print(my_list)"
   ]
  },
  {
   "cell_type": "code",
   "execution_count": 4,
   "metadata": {},
   "outputs": [
    {
     "name": "stdout",
     "output_type": "stream",
     "text": [
      "[0, 2, 4, 6, 8, 10, 12, 14, 16, 18]\n"
     ]
    }
   ],
   "source": [
    "m_l = [i for i in range(0,20) if i%2 == 0]\n",
    "print(m_l)"
   ]
  },
  {
   "cell_type": "code",
   "execution_count": 7,
   "metadata": {},
   "outputs": [
    {
     "name": "stdout",
     "output_type": "stream",
     "text": [
      "[0, 4, 16, 36, 64, 100, 144, 196, 256, 324]\n"
     ]
    }
   ],
   "source": [
    "# list comprehention to print the squares of the even numbers from 0 to 20 \n",
    "sq_list = [k*k for k in range(0,20) if k % 2 == 0]\n",
    "print(sq_list)"
   ]
  },
  {
   "cell_type": "markdown",
   "metadata": {},
   "source": [
    "# Dictonary Comprehension "
   ]
  },
  {
   "cell_type": "code",
   "execution_count": 10,
   "metadata": {},
   "outputs": [
    {
     "name": "stdout",
     "output_type": "stream",
     "text": [
      "{0: 0, 2: 4, 4: 16, 6: 36, 8: 64, 10: 100, 12: 144, 14: 196, 16: 256, 18: 324}\n"
     ]
    }
   ],
   "source": [
    "my_d = {k:k*k for k in range(0,20) if k % 2 == 0}\n",
    "print(my_d)"
   ]
  },
  {
   "cell_type": "code",
   "execution_count": 12,
   "metadata": {},
   "outputs": [
    {
     "name": "stdout",
     "output_type": "stream",
     "text": [
      "16\n"
     ]
    }
   ],
   "source": [
    "print(my_d[4])"
   ]
  },
  {
   "cell_type": "markdown",
   "metadata": {},
   "source": [
    "# generator comprehension "
   ]
  },
  {
   "cell_type": "code",
   "execution_count": 16,
   "metadata": {},
   "outputs": [
    {
     "name": "stdout",
     "output_type": "stream",
     "text": [
      "0\n",
      "1\n"
     ]
    }
   ],
   "source": [
    "gc = (k*k for k in range(0,20))\n",
    "print(next(gc))\n",
    "print(next(gc))"
   ]
  },
  {
   "cell_type": "code",
   "execution_count": 22,
   "metadata": {},
   "outputs": [
    {
     "name": "stdout",
     "output_type": "stream",
     "text": [
      "10\n"
     ]
    }
   ],
   "source": [
    "total = sum(k for k in range(1, 5))\n",
    "print(total)"
   ]
  },
  {
   "cell_type": "code",
   "execution_count": 23,
   "metadata": {},
   "outputs": [
    {
     "name": "stdout",
     "output_type": "stream",
     "text": [
      "5 0\n"
     ]
    }
   ],
   "source": [
    "quotient, remainder = divmod(10,2)\n",
    "print(quotient,remainder)"
   ]
  },
  {
   "cell_type": "code",
   "execution_count": 76,
   "metadata": {},
   "outputs": [
    {
     "name": "stdout",
     "output_type": "stream",
     "text": [
      "['IP', 'In', 'Ip', 'Out', '_', '_36', '_61', '_62', '_63', '_65', '_66', '_67', '_68', '_69', '__', '___', '__builtin__', '__builtins__', '__doc__', '__loader__', '__name__', '__package__', '__spec__', '_dh', '_i', '_i1', '_i10', '_i11', '_i12', '_i13', '_i14', '_i15', '_i16', '_i17', '_i18', '_i19', '_i2', '_i20', '_i21', '_i22', '_i23', '_i24', '_i25', '_i26', '_i27', '_i28', '_i29', '_i3', '_i30', '_i31', '_i32', '_i33', '_i34', '_i35', '_i36', '_i37', '_i38', '_i39', '_i4', '_i40', '_i41', '_i42', '_i43', '_i44', '_i45', '_i46', '_i47', '_i48', '_i49', '_i5', '_i50', '_i51', '_i52', '_i53', '_i54', '_i55', '_i56', '_i57', '_i58', '_i59', '_i6', '_i60', '_i61', '_i62', '_i63', '_i64', '_i65', '_i66', '_i67', '_i68', '_i69', '_i7', '_i70', '_i71', '_i72', '_i73', '_i74', '_i75', '_i76', '_i8', '_i9', '_ih', '_ii', '_iii', '_oh', 'all', 'exit', 'file_contents', 'get_ipython', 'home_ip', 'list_a', 'my_list', 'mylist', 'quit', 'sq', 'sq_list', 'text']\n"
     ]
    },
    {
     "ename": "NameError",
     "evalue": "name 'val' is not defined",
     "output_type": "error",
     "traceback": [
      "\u001b[1;31m---------------------------------------------------------------------------\u001b[0m",
      "\u001b[1;31mNameError\u001b[0m                                 Traceback (most recent call last)",
      "\u001b[1;32m<ipython-input-76-921907e00a36>\u001b[0m in \u001b[0;36m<module>\u001b[1;34m()\u001b[0m\n\u001b[0;32m      1\u001b[0m \u001b[0mprint\u001b[0m\u001b[1;33m(\u001b[0m\u001b[0mdir\u001b[0m\u001b[1;33m(\u001b[0m\u001b[1;33m)\u001b[0m\u001b[1;33m)\u001b[0m\u001b[1;33m\u001b[0m\u001b[0m\n\u001b[1;32m----> 2\u001b[1;33m \u001b[0mprint\u001b[0m\u001b[1;33m(\u001b[0m\u001b[0mval\u001b[0m\u001b[1;33m(\u001b[0m\u001b[1;33m)\u001b[0m\u001b[1;33m)\u001b[0m\u001b[1;33m\u001b[0m\u001b[0m\n\u001b[0m",
      "\u001b[1;31mNameError\u001b[0m: name 'val' is not defined"
     ]
    }
   ],
   "source": [
    "print(dir())\n",
    "print(val())"
   ]
  },
  {
   "cell_type": "markdown",
   "metadata": {
    "collapsed": true
   },
   "source": [
    "# Exercises \n",
    "Code must be DRY:Do not repeat yourself "
   ]
  },
  {
   "cell_type": "code",
   "execution_count": 5,
   "metadata": {},
   "outputs": [
    {
     "name": "stdout",
     "output_type": "stream",
     "text": [
      "True\n"
     ]
    }
   ],
   "source": [
    "# Write a short Python function, is multiple(n, m), that takes two integer\n",
    "# values and returns True if n is a multiple of m, that is, n = mi for some\n",
    "# integer i, and False otherwise.\n",
    "\n",
    "def is_multiple(m,n):\n",
    "    return True if m % n == 0 else False\n",
    "    \n",
    "print(f\"{is_multiple(10,2)}\")\n",
    "    "
   ]
  },
  {
   "cell_type": "code",
   "execution_count": 27,
   "metadata": {},
   "outputs": [
    {
     "name": "stdout",
     "output_type": "stream",
     "text": [
      "[0, 1, 2, 3, 4, 5, 6, 7, 8]\n",
      "[True, False, True, False, True, False, True, False, True]\n",
      "(False, True)\n"
     ]
    }
   ],
   "source": [
    "# Write a short Python function, is even(k), that takes an integer value and\n",
    "# returns True if k is even, and False otherwise. However, your function\n",
    "# cannot use the multiplication, modulo, or division operators.\n",
    "def is_even(k):\n",
    "    d, r = divmod(k,2)\n",
    "    return True if r ==0 else False\n",
    "\n",
    "ml = [x for x in range(0,9)]\n",
    "print(ml)\n",
    "ml = map(is_even,ml)\n",
    "mll = list(ml)\n",
    "print(mll)\n",
    "print(f\"{any(ml),all(ml)}\")"
   ]
  },
  {
   "cell_type": "code",
   "execution_count": 74,
   "metadata": {
    "collapsed": true
   },
   "outputs": [],
   "source": [
    "# Write a short Python function, minmax(data), that takes a sequence of\n",
    "# one or more numbers, and returns the smallest and largest numbers, in the\n",
    "# form of a tuple of length two. Do not use the built-in functions min or\n",
    "# max in implementing your solution.\n",
    "def minmax(data):\n",
    "    mx = data[0]\n",
    "    mn = data[0]\n",
    "    \n",
    "    for x in data:\n",
    "        if x > mx:\n",
    "            mx = x\n",
    "    for y in data:\n",
    "        if y < mn:\n",
    "            mn = y\n",
    "    print(f\"max:{mx} min:{mn}\")"
   ]
  },
  {
   "cell_type": "code",
   "execution_count": 75,
   "metadata": {},
   "outputs": [
    {
     "name": "stdout",
     "output_type": "stream",
     "text": [
      "[0, 1, 2, 3, 4, 5, 6, 7, 8]\n",
      "max:8 min:0\n"
     ]
    }
   ],
   "source": [
    "ml = [x for x in range(0,9)]\n",
    "print(ml)\n",
    "minmax(ml)"
   ]
  },
  {
   "cell_type": "code",
   "execution_count": 109,
   "metadata": {},
   "outputs": [
    {
     "name": "stdout",
     "output_type": "stream",
     "text": [
      "5\n"
     ]
    },
    {
     "ename": "TypeError",
     "evalue": "'int' object is not iterable",
     "output_type": "error",
     "traceback": [
      "\u001b[1;31m---------------------------------------------------------------------------\u001b[0m",
      "\u001b[1;31mTypeError\u001b[0m                                 Traceback (most recent call last)",
      "\u001b[1;32m<ipython-input-109-a3762862414a>\u001b[0m in \u001b[0;36m<module>\u001b[1;34m()\u001b[0m\n\u001b[0;32m     15\u001b[0m     \u001b[1;32mreturn\u001b[0m \u001b[0mss\u001b[0m\u001b[1;33m\u001b[0m\u001b[0m\n\u001b[0;32m     16\u001b[0m \"\"\"\n\u001b[1;32m---> 17\u001b[1;33m \u001b[0ma\u001b[0m \u001b[1;33m=\u001b[0m \u001b[0mmyfunc\u001b[0m\u001b[1;33m(\u001b[0m\u001b[1;36m5\u001b[0m\u001b[1;33m)\u001b[0m\u001b[1;33m\u001b[0m\u001b[0m\n\u001b[0m\u001b[0;32m     18\u001b[0m \u001b[0mprint\u001b[0m\u001b[1;33m(\u001b[0m\u001b[0ma\u001b[0m\u001b[1;33m)\u001b[0m\u001b[1;33m\u001b[0m\u001b[0m\n",
      "\u001b[1;32m<ipython-input-109-a3762862414a>\u001b[0m in \u001b[0;36mmyfunc\u001b[1;34m(n)\u001b[0m\n\u001b[0;32m      5\u001b[0m     \u001b[1;32mwhile\u001b[0m \u001b[0mn\u001b[0m\u001b[1;33m>\u001b[0m\u001b[1;36m0\u001b[0m\u001b[1;33m:\u001b[0m\u001b[1;33m\u001b[0m\u001b[0m\n\u001b[0;32m      6\u001b[0m         \u001b[0mprint\u001b[0m\u001b[1;33m(\u001b[0m\u001b[0mn\u001b[0m\u001b[1;33m)\u001b[0m\u001b[1;33m\u001b[0m\u001b[0m\n\u001b[1;32m----> 7\u001b[1;33m         \u001b[0mss\u001b[0m \u001b[1;33m=\u001b[0m \u001b[0msum\u001b[0m\u001b[1;33m(\u001b[0m\u001b[0mss\u001b[0m \u001b[1;33m+\u001b[0m \u001b[1;33m(\u001b[0m\u001b[0mn\u001b[0m \u001b[1;33m**\u001b[0m \u001b[0mn\u001b[0m\u001b[1;33m)\u001b[0m\u001b[1;33m)\u001b[0m\u001b[1;33m\u001b[0m\u001b[0m\n\u001b[0m\u001b[0;32m      8\u001b[0m         \u001b[0mn\u001b[0m \u001b[1;33m-=\u001b[0m \u001b[1;36m1\u001b[0m\u001b[1;33m\u001b[0m\u001b[0m\n\u001b[0;32m      9\u001b[0m         \u001b[0mprint\u001b[0m\u001b[1;33m(\u001b[0m\u001b[1;34mf\":{n} {ss}\"\u001b[0m\u001b[1;33m)\u001b[0m\u001b[1;33m\u001b[0m\u001b[0m\n",
      "\u001b[1;31mTypeError\u001b[0m: 'int' object is not iterable"
     ]
    }
   ],
   "source": [
    "# Write a short Python function that takes a positive integer n and returns\n",
    "# the sum of the squares of all the positive integers smaller than n.\n",
    "def myfunc(n):\n",
    "    ss = 0\n",
    "    while n>0:\n",
    "        print(n)\n",
    "        ss = sum(ss + (n ** n))\n",
    "        n -= 1\n",
    "        print(f\":{n} {ss}\")\n",
    "\"\"\" \n",
    "        ss += n ** n\n",
    "        print(ss)\n",
    "        n -= 1\n",
    "        print(n)\n",
    "    return ss\n",
    "\"\"\"\n",
    "a = myfunc(5)\n",
    "print(a)"
   ]
  },
  {
   "cell_type": "markdown",
   "metadata": {},
   "source": [
    "# Python Exercise "
   ]
  },
  {
   "cell_type": "code",
   "execution_count": 26,
   "metadata": {
    "collapsed": true
   },
   "outputs": [],
   "source": [
    "def is_even(k):\n",
    "    k_bin = bin(k)\n",
    "    k_bin = k_bin[2:]\n",
    "    #if k_bin[-1]\n",
    "    if k_bin == 0:\n",
    "        print(f\"{k} is even\",k_bin[-1])\n",
    "    else:\n",
    "        print(f\"{k} It's odd\")"
   ]
  },
  {
   "cell_type": "code",
   "execution_count": 27,
   "metadata": {},
   "outputs": [
    {
     "name": "stdout",
     "output_type": "stream",
     "text": [
      "11 It's odd\n"
     ]
    }
   ],
   "source": [
    "is_even(11)"
   ]
  },
  {
   "cell_type": "code",
   "execution_count": 31,
   "metadata": {},
   "outputs": [
    {
     "name": "stdout",
     "output_type": "stream",
     "text": [
      "[1, 2, 3, 4, 5, 6, 7, 8, 9, 10]\n",
      "[1, 2, 3, 4, 5, 6, 7, 8, 9, 10]\n"
     ]
    },
    {
     "data": {
      "text/plain": [
       "(1, 10)"
      ]
     },
     "execution_count": 31,
     "metadata": {},
     "output_type": "execute_result"
    }
   ],
   "source": [
    "def min_max(m_l):\n",
    "    print(m_l)\n",
    "    min = m_l[0]\n",
    "    max = m_l[0]\n",
    "    for item in m_l:\n",
    "        if item > max:\n",
    "            max = item\n",
    "        #print(f\"{item} is max\")\n",
    "        if item < min:\n",
    "            min = item\n",
    "            #print(f\"{item} is min\")\n",
    "    return (min,max)\n",
    "    #print(f\"{min}\")\n",
    "m_l = [1,2,3,4,5,6,7,8,9,10]\n",
    "print(m_l)\n",
    "min_max(m_l)"
   ]
  },
  {
   "cell_type": "code",
   "execution_count": 39,
   "metadata": {
    "collapsed": true
   },
   "outputs": [],
   "source": [
    "def sum_of_squares(n):\n",
    "    print(n)\n",
    "    sum = 0 \n",
    "    while n:\n",
    "        n -= 1\n",
    "        if n < 0:\n",
    "            break\n",
    "        sum += (n*n)\n",
    "        \n",
    "    print(sum)\n",
    "    "
   ]
  },
  {
   "cell_type": "code",
   "execution_count": 40,
   "metadata": {},
   "outputs": [
    {
     "name": "stdout",
     "output_type": "stream",
     "text": [
      "5\n",
      "30\n"
     ]
    }
   ],
   "source": [
    "sum_of_squares(5)"
   ]
  },
  {
   "cell_type": "code",
   "execution_count": 42,
   "metadata": {},
   "outputs": [
    {
     "name": "stdout",
     "output_type": "stream",
     "text": [
      "30\n"
     ]
    }
   ],
   "source": [
    "sum_of_squares = sum(i*i for i in range(0,5))\n",
    "print(sum_of_squares)"
   ]
  },
  {
   "cell_type": "code",
   "execution_count": 48,
   "metadata": {},
   "outputs": [
    {
     "name": "stdout",
     "output_type": "stream",
     "text": [
      "Enter a number: 2\n"
     ]
    }
   ],
   "source": [
    "a = int(input(\"Enter a number: \"))\n",
    "if a & 1:\n",
    "    print(f\"Even\")"
   ]
  },
  {
   "cell_type": "code",
   "execution_count": 51,
   "metadata": {},
   "outputs": [
    {
     "name": "stdout",
     "output_type": "stream",
     "text": [
      "[50, 60, 70, 80]\n"
     ]
    }
   ],
   "source": [
    "l = [i for i in range(50,90,10)]\n",
    "print(l)"
   ]
  },
  {
   "cell_type": "code",
   "execution_count": 55,
   "metadata": {},
   "outputs": [
    {
     "name": "stdout",
     "output_type": "stream",
     "text": [
      "[0, 2, 4, 6, 8, 10, 12, 14, 16, 18]\n"
     ]
    }
   ],
   "source": [
    "m_l1 = [2*i for i in range(0,10)]\n",
    "print(m_l1)"
   ]
  },
  {
   "cell_type": "code",
   "execution_count": 59,
   "metadata": {},
   "outputs": [
    {
     "name": "stdout",
     "output_type": "stream",
     "text": [
      "[]\n"
     ]
    }
   ],
   "source": [
    "r_c = [i for i in range(8,-9,2) if i%2 == 0]\n",
    "print(r_c)"
   ]
  },
  {
   "cell_type": "code",
   "execution_count": 6,
   "metadata": {},
   "outputs": [
    {
     "ename": "NameError",
     "evalue": "name 'choice' is not defined",
     "output_type": "error",
     "traceback": [
      "\u001b[1;31m---------------------------------------------------------------------------\u001b[0m",
      "\u001b[1;31mNameError\u001b[0m                                 Traceback (most recent call last)",
      "\u001b[1;32m<ipython-input-6-4ef4659f2f58>\u001b[0m in \u001b[0;36m<module>\u001b[1;34m\u001b[0m\n\u001b[0;32m      3\u001b[0m \u001b[0mdata\u001b[0m \u001b[1;33m=\u001b[0m \u001b[1;33m[\u001b[0m\u001b[1;36m0\u001b[0m\u001b[1;33m,\u001b[0m \u001b[1;36m2\u001b[0m\u001b[1;33m,\u001b[0m \u001b[1;36m4\u001b[0m\u001b[1;33m,\u001b[0m \u001b[1;36m6\u001b[0m\u001b[1;33m,\u001b[0m \u001b[1;36m8\u001b[0m\u001b[1;33m,\u001b[0m \u001b[1;36m10\u001b[0m\u001b[1;33m,\u001b[0m \u001b[1;36m12\u001b[0m\u001b[1;33m,\u001b[0m \u001b[1;36m14\u001b[0m\u001b[1;33m,\u001b[0m \u001b[1;36m16\u001b[0m\u001b[1;33m,\u001b[0m \u001b[1;36m18\u001b[0m\u001b[1;33m]\u001b[0m\u001b[1;33m\u001b[0m\u001b[1;33m\u001b[0m\u001b[0m\n\u001b[0;32m      4\u001b[0m \u001b[1;33m\u001b[0m\u001b[0m\n\u001b[1;32m----> 5\u001b[1;33m \u001b[0mr\u001b[0m \u001b[1;33m=\u001b[0m \u001b[0mchoice\u001b[0m\u001b[1;33m(\u001b[0m\u001b[0mdata\u001b[0m\u001b[1;33m)\u001b[0m\u001b[1;33m\u001b[0m\u001b[1;33m\u001b[0m\u001b[0m\n\u001b[0m\u001b[0;32m      6\u001b[0m \u001b[0mprint\u001b[0m\u001b[1;33m(\u001b[0m\u001b[0mr\u001b[0m\u001b[1;33m)\u001b[0m\u001b[1;33m\u001b[0m\u001b[1;33m\u001b[0m\u001b[0m\n",
      "\u001b[1;31mNameError\u001b[0m: name 'choice' is not defined"
     ]
    }
   ],
   "source": [
    "import random\n",
    "\n",
    "data = [0, 2, 4, 6, 8, 10, 12, 14, 16, 18]\n",
    "\n",
    "r = choice(data)\n",
    "print(r)"
   ]
  },
  {
   "cell_type": "markdown",
   "metadata": {
    "scrolled": false
   },
   "source": [
    "# Python String Methods"
   ]
  },
  {
   "cell_type": "code",
   "execution_count": 4,
   "metadata": {},
   "outputs": [
    {
     "name": "stdout",
     "output_type": "stream",
     "text": [
      "Perseverance\n"
     ]
    }
   ],
   "source": [
    "quote = \"perseverance\"\n",
    "print(quote.capitalize()) #capitalizes first character"
   ]
  },
  {
   "cell_type": "code",
   "execution_count": 15,
   "metadata": {},
   "outputs": [
    {
     "name": "stdout",
     "output_type": "stream",
     "text": [
      "everything you ever wanted is on the other side of fear\n"
     ]
    }
   ],
   "source": [
    "teststr = \"Everything You Ever Wanted is On the Other Side of fear\"\n",
    "print(teststr.casefold()) #string -> lowercase string"
   ]
  },
  {
   "cell_type": "code",
   "execution_count": 1,
   "metadata": {},
   "outputs": [
    {
     "name": "stdout",
     "output_type": "stream",
     "text": [
      "pppppppbananappppppp\n"
     ]
    }
   ],
   "source": [
    "quote = \"banana\"\n",
    "temp  = quote.center(20,\"p\")\n",
    "print(temp)# takes 20 p's to center the quote"
   ]
  },
  {
   "cell_type": "code",
   "execution_count": 24,
   "metadata": {},
   "outputs": [
    {
     "name": "stdout",
     "output_type": "stream",
     "text": [
      "2\n"
     ]
    }
   ],
   "source": [
    "quote = \"Smarter harder faster better\"\n",
    "print(quote.count(\"er\",0,20)) #counts occurance of sub-string from 0 to 20th pos "
   ]
  },
  {
   "cell_type": "code",
   "execution_count": 28,
   "metadata": {},
   "outputs": [
    {
     "name": "stdout",
     "output_type": "stream",
     "text": [
      "True\n",
      "False\n"
     ]
    }
   ],
   "source": [
    "txt = \"Hello, welcome to myworld.\"\n",
    "print(txt.endswith(\".\"))# checks if the string ends with particular character \n",
    "print(txt.endswith(\".\",5,11)) #starts checking of \".\" lies in between position 5 and 11"
   ]
  },
  {
   "cell_type": "code",
   "execution_count": 31,
   "metadata": {},
   "outputs": [
    {
     "name": "stdout",
     "output_type": "stream",
     "text": [
      "    Never   stop    learning\n"
     ]
    }
   ],
   "source": [
    "#setting the tab size default size 8\n",
    "txt = \"\\tNever \\tstop \\tlearning\"\n",
    "print(txt.expandtabs(4))"
   ]
  },
  {
   "cell_type": "code",
   "execution_count": 33,
   "metadata": {},
   "outputs": [
    {
     "name": "stdout",
     "output_type": "stream",
     "text": [
      "-1\n"
     ]
    },
    {
     "ename": "ValueError",
     "evalue": "substring not found",
     "output_type": "error",
     "traceback": [
      "\u001b[1;31m---------------------------------------------------------------------------\u001b[0m",
      "\u001b[1;31mValueError\u001b[0m                                Traceback (most recent call last)",
      "\u001b[1;32m<ipython-input-33-9fb401bce34f>\u001b[0m in \u001b[0;36m<module>\u001b[1;34m\u001b[0m\n\u001b[0;32m      3\u001b[0m \u001b[0mtxt\u001b[0m \u001b[1;33m=\u001b[0m \u001b[1;34m\"never stop learning\"\u001b[0m\u001b[1;33m\u001b[0m\u001b[1;33m\u001b[0m\u001b[0m\n\u001b[0;32m      4\u001b[0m \u001b[0mprint\u001b[0m\u001b[1;33m(\u001b[0m\u001b[0mtxt\u001b[0m\u001b[1;33m.\u001b[0m\u001b[0mfind\u001b[0m\u001b[1;33m(\u001b[0m\u001b[1;34m'pause'\u001b[0m\u001b[1;33m)\u001b[0m\u001b[1;33m)\u001b[0m\u001b[1;33m\u001b[0m\u001b[1;33m\u001b[0m\u001b[0m\n\u001b[1;32m----> 5\u001b[1;33m \u001b[0mprint\u001b[0m\u001b[1;33m(\u001b[0m\u001b[0mtxt\u001b[0m\u001b[1;33m.\u001b[0m\u001b[0mindex\u001b[0m\u001b[1;33m(\u001b[0m\u001b[1;34m'pause'\u001b[0m\u001b[1;33m)\u001b[0m\u001b[1;33m)\u001b[0m\u001b[1;33m\u001b[0m\u001b[1;33m\u001b[0m\u001b[0m\n\u001b[0m",
      "\u001b[1;31mValueError\u001b[0m: substring not found"
     ]
    }
   ],
   "source": [
    "#find locates the value instring\n",
    "#index locates the value in string with exception raised if value is not found\n",
    "txt = \"never stop learning\"\n",
    "print(txt.find('pause')) # return -1 when string not found\n",
    "print(txt.index('pause'))# returns error/exception when value not found"
   ]
  },
  {
   "cell_type": "code",
   "execution_count": 2,
   "metadata": {},
   "outputs": [
    {
     "name": "stdout",
     "output_type": "stream",
     "text": [
      "True\n",
      "False\n"
     ]
    }
   ],
   "source": [
    "#to check if all the characters are alphanumeric \n",
    "txt = \"HelloWorld123\" # space is not alphanumeric\n",
    "print(txt.isalnum()) # true if all chatacters are nums or letters and not special symbols\n",
    "test = \"12341234@\"\n",
    "print(test.isalnum())# @ is not letter or number"
   ]
  },
  {
   "cell_type": "code",
   "execution_count": 39,
   "metadata": {},
   "outputs": [
    {
     "name": "stdout",
     "output_type": "stream",
     "text": [
      "True\n",
      "False\n"
     ]
    }
   ],
   "source": [
    "# To check of all the chatacters are alphabets\n",
    "txt = \"thisisamazing\"\n",
    "print(txt.isalpha()) \n",
    "\n",
    "txt1 = \"lets do this\"\n",
    "print(txt1.isalpha()) # space is not alphabet"
   ]
  },
  {
   "cell_type": "code",
   "execution_count": 41,
   "metadata": {},
   "outputs": [
    {
     "name": "stdout",
     "output_type": "stream",
     "text": [
      "False\n",
      "True\n"
     ]
    }
   ],
   "source": [
    "# to check if all the characters are decimals\n",
    "txt = \"123 123 123\" # space is not decimal\n",
    "print(txt.isdecimal())\n",
    "\n",
    "txt2 = \"123456789\"\n",
    "print(txt2.isdecimal())"
   ]
  },
  {
   "cell_type": "code",
   "execution_count": 42,
   "metadata": {},
   "outputs": [
    {
     "name": "stdout",
     "output_type": "stream",
     "text": [
      "True\n"
     ]
    }
   ],
   "source": [
    "# to check if all the characters are digits \n",
    "txt = \"1231232234\"\n",
    "print(txt.isdigit())"
   ]
  },
  {
   "cell_type": "code",
   "execution_count": 43,
   "metadata": {},
   "outputs": [
    {
     "name": "stdout",
     "output_type": "stream",
     "text": [
      "False\n"
     ]
    }
   ],
   "source": [
    "# to check if the string is valid identfier\n",
    "txt = \"1identifier\"\n",
    "print(txt.isidentifier()) # it should not start with number\n",
    "\n",
    "txt1 = \"\""
   ]
  },
  {
   "cell_type": "code",
   "execution_count": 44,
   "metadata": {},
   "outputs": [
    {
     "name": "stdout",
     "output_type": "stream",
     "text": [
      "False\n"
     ]
    }
   ],
   "source": [
    "# to check if all the characcters are in lower case\n",
    "txt = \"From adversity to stars\"\n",
    "print(txt.islower())"
   ]
  },
  {
   "cell_type": "code",
   "execution_count": 45,
   "metadata": {},
   "outputs": [
    {
     "name": "stdout",
     "output_type": "stream",
     "text": [
      "True\n"
     ]
    }
   ],
   "source": [
    "# check if all the characters are numbers\n",
    "txt = \"9518347599\"\n",
    "print(txt.isnumeric())"
   ]
  },
  {
   "cell_type": "code",
   "execution_count": 46,
   "metadata": {},
   "outputs": [
    {
     "name": "stdout",
     "output_type": "stream",
     "text": [
      "False\n"
     ]
    }
   ],
   "source": [
    "# check if the all the characters are printable unlike tabs and carriage return \n",
    "txt = \"check if \\ris printable\"\n",
    "print(txt.isprintable()) # \\r is not pritable"
   ]
  },
  {
   "cell_type": "code",
   "execution_count": 47,
   "metadata": {},
   "outputs": [
    {
     "name": "stdout",
     "output_type": "stream",
     "text": [
      "True\n"
     ]
    }
   ],
   "source": [
    "# to check if the all the chatacters are space \n",
    "txt = \"         \"\n",
    "print(txt.isspace())"
   ]
  },
  {
   "cell_type": "code",
   "execution_count": 49,
   "metadata": {},
   "outputs": [
    {
     "name": "stdout",
     "output_type": "stream",
     "text": [
      "True\n"
     ]
    }
   ],
   "source": [
    "# to check if the string is title camel case\n",
    "txt = \"This Is Heading, Or Is It ?\"\n",
    "print(txt.istitle())"
   ]
  },
  {
   "cell_type": "code",
   "execution_count": 51,
   "metadata": {},
   "outputs": [
    {
     "name": "stdout",
     "output_type": "stream",
     "text": [
      "True\n"
     ]
    }
   ],
   "source": [
    "# to check if all the letters are in uppper case \n",
    "txt = \"THIS NEEDS TO BE DONE, ITS IMP\"\n",
    "print(txt.isupper())"
   ]
  },
  {
   "cell_type": "code",
   "execution_count": 54,
   "metadata": {},
   "outputs": [
    {
     "name": "stdout",
     "output_type": "stream",
     "text": [
      "Lets$join$this\n",
      "name#age\n"
     ]
    }
   ],
   "source": [
    "# to join iterables with space\n",
    "# tuple\n",
    "txt = (\"Lets\",\"join\", \"this\")\n",
    "print(\"$\".join(txt))\n",
    "\n",
    "#dict\n",
    "txt = {\"name\":\"prat\",\"age\":29}\n",
    "print(\"#\".join(txt))"
   ]
  },
  {
   "cell_type": "code",
   "execution_count": 55,
   "metadata": {
    "scrolled": true
   },
   "outputs": [
    {
     "name": "stdout",
     "output_type": "stream",
     "text": [
      "nabana               is my fav fruit\n"
     ]
    }
   ],
   "source": [
    "# making string left justified\n",
    "txt = \"nabana\"\n",
    "print(txt.ljust(20),\"is my fav fruit\")"
   ]
  },
  {
   "cell_type": "code",
   "execution_count": 7,
   "metadata": {},
   "outputs": [
    {
     "name": "stdout",
     "output_type": "stream",
     "text": [
      "I am certain mango        is my fav fruit\n"
     ]
    }
   ],
   "source": [
    "# lstrip removes spaces from left of the string\n",
    "string = \"        mango        \"\n",
    "print(\"I am certain \" + string.lstrip()+ \"is my fav fruit\") "
   ]
  },
  {
   "cell_type": "code",
   "execution_count": 8,
   "metadata": {},
   "outputs": [
    {
     "name": "stdout",
     "output_type": "stream",
     "text": [
      "Wello World!\n"
     ]
    }
   ],
   "source": [
    "# maketrans create the mapping table, transalete translates\n",
    "text = \"Hello World!\"\n",
    "table = text.maketrans(\"H\",\"W\")\n",
    "print(text.translate(table))"
   ]
  },
  {
   "cell_type": "code",
   "execution_count": 9,
   "metadata": {},
   "outputs": [
    {
     "name": "stdout",
     "output_type": "stream",
     "text": [
      "('East or west ', 'India', ' is the best')\n"
     ]
    }
   ],
   "source": [
    "#partition splits the string in to 3 parts tuple before the mathced string, the string , after matched string\n",
    "quote = \"East or west India is the best\"\n",
    "print(quote.partition(\"India\"))"
   ]
  },
  {
   "cell_type": "code",
   "execution_count": 10,
   "metadata": {},
   "outputs": [
    {
     "name": "stdout",
     "output_type": "stream",
     "text": [
      "Never underestimate anybody\n"
     ]
    }
   ],
   "source": [
    "# replace the part of a string with another string\n",
    "quote = \"Never underestimate yourself\"\n",
    "print(quote.replace(\"yourself\",\"anybody\"))"
   ]
  },
  {
   "cell_type": "code",
   "execution_count": 12,
   "metadata": {},
   "outputs": [
    {
     "name": "stdout",
     "output_type": "stream",
     "text": [
      "26\n"
     ]
    }
   ],
   "source": [
    "# rfind finds the 'last\" location of the string\n",
    "text = \"Lets find the location of location in this text\"\n",
    "print(text.rfind(\"location\",0,47)) "
   ]
  },
  {
   "cell_type": "code",
   "execution_count": 13,
   "metadata": {},
   "outputs": [
    {
     "name": "stdout",
     "output_type": "stream",
     "text": [
      "5\n"
     ]
    }
   ],
   "source": [
    "# rindex finds the last location of the sub-string in given string\n",
    "text = \"Lets do this\"\n",
    "print(text.rindex(\"do\")) "
   ]
  },
  {
   "cell_type": "code",
   "execution_count": 14,
   "metadata": {},
   "outputs": [
    {
     "name": "stdout",
     "output_type": "stream",
     "text": [
      "               mango\n"
     ]
    }
   ],
   "source": [
    "# to get the right justified location of the string\n",
    "text = \"mango\"\n",
    "print(text.rjust(20))"
   ]
  },
  {
   "cell_type": "code",
   "execution_count": 15,
   "metadata": {},
   "outputs": [
    {
     "name": "stdout",
     "output_type": "stream",
     "text": [
      "('Learn something ', 'new', ' everyday')\n"
     ]
    }
   ],
   "source": [
    "# rpartition returns the tuple in 3 parts \n",
    "text = \"Learn something new everyday\"\n",
    "print(text.rpartition(\"new\"))"
   ]
  },
  {
   "cell_type": "code",
   "execution_count": 17,
   "metadata": {},
   "outputs": [
    {
     "name": "stdout",
     "output_type": "stream",
     "text": [
      "['Your thoughts', ' creates reality']\n"
     ]
    }
   ],
   "source": [
    "# rsplit splits the string in to list with separtor as argument\n",
    "text = \"Your thoughts, creates reality\"\n",
    "print(text.rsplit(\",\"))"
   ]
  },
  {
   "cell_type": "code",
   "execution_count": 18,
   "metadata": {},
   "outputs": [
    {
     "name": "stdout",
     "output_type": "stream",
     "text": [
      "        mango\n"
     ]
    }
   ],
   "source": [
    "# rstrip is used, to strip a string from character, from right side only\n",
    "text = \"        mangopppppppp\"\n",
    "print(text.rstrip(\"p\"))"
   ]
  },
  {
   "cell_type": "code",
   "execution_count": 19,
   "metadata": {},
   "outputs": [
    {
     "name": "stdout",
     "output_type": "stream",
     "text": [
      "['never', 'doubt', 'yourself']\n"
     ]
    }
   ],
   "source": [
    "# split convert a string in to list\n",
    "text = \"never doubt yourself\"\n",
    "print(text.split())"
   ]
  },
  {
   "cell_type": "code",
   "execution_count": 20,
   "metadata": {},
   "outputs": [
    {
     "name": "stdout",
     "output_type": "stream",
     "text": [
      "['Look at that thing, is it a plane ', ' or is it a bird']\n"
     ]
    }
   ],
   "source": [
    "# splitlines splits the strings at new line character and returns list\n",
    "text = \"Look at that thing, is it a plane \\n or is it a bird\"\n",
    "print(text.splitlines())"
   ]
  },
  {
   "cell_type": "code",
   "execution_count": 22,
   "metadata": {},
   "outputs": [
    {
     "name": "stdout",
     "output_type": "stream",
     "text": [
      "True\n"
     ]
    }
   ],
   "source": [
    "# returns true if a string starts with some value\n",
    "text = \"ok, lets do this\"\n",
    "print(text.startswith(\"ok\"))"
   ]
  },
  {
   "cell_type": "code",
   "execution_count": 23,
   "metadata": {},
   "outputs": [
    {
     "name": "stdout",
     "output_type": "stream",
     "text": [
      "mango\n"
     ]
    }
   ],
   "source": [
    "# strip removes spaces at start and end of the string\n",
    "text = \"       mango        \"\n",
    "print(text.strip())"
   ]
  },
  {
   "cell_type": "code",
   "execution_count": 25,
   "metadata": {},
   "outputs": [
    {
     "name": "stdout",
     "output_type": "stream",
     "text": [
      "tHIS IS cAMEL cASE tEXT\n"
     ]
    }
   ],
   "source": [
    "# swapcases aleters lower case to upper and upper case to lower case\n",
    "text = \"This is Camel Case Text\"\n",
    "print(text.swapcase())"
   ]
  },
  {
   "cell_type": "code",
   "execution_count": 32,
   "metadata": {},
   "outputs": [
    {
     "name": "stdout",
     "output_type": "stream",
     "text": [
      "Lets Try This\n"
     ]
    }
   ],
   "source": [
    "# title converts first character of each case to upper case\n",
    "text = \"lets try this\"\n",
    "print(text.title())"
   ]
  },
  {
   "cell_type": "code",
   "execution_count": 28,
   "metadata": {},
   "outputs": [
    {
     "name": "stdout",
     "output_type": "stream",
     "text": [
      "hello Pam\n"
     ]
    }
   ],
   "source": [
    "# translate uses dictionary to translate ASCII codes to some other ASCII\n",
    "text = \"hello Sam\"\n",
    "dictone = {83: 80}\n",
    "print(text.translate(dictone))"
   ]
  },
  {
   "cell_type": "code",
   "execution_count": 34,
   "metadata": {
    "scrolled": true
   },
   "outputs": [
    {
     "name": "stdout",
     "output_type": "stream",
     "text": [
      "00000000000004\n",
      "0000000050\n"
     ]
    }
   ],
   "source": [
    "# zfill pads string with 0's at the beginning till string becomes of specified length\n",
    "text = \"4\"\n",
    "a = text.zfill(14)\n",
    "print(a)\n",
    "\n",
    "txt = \"50\"\n",
    "x = txt.zfill(10)\n",
    "print(x)"
   ]
  },
  {
   "cell_type": "code",
   "execution_count": 36,
   "metadata": {},
   "outputs": [
    {
     "name": "stdout",
     "output_type": "stream",
     "text": [
      "True\n",
      "True\n"
     ]
    }
   ],
   "source": [
    "# isinstance of checks if an object is instance of class mentioned\n",
    "x = 100\n",
    "print(isinstance(x,int))\n",
    "y= \"string\"\n",
    "print(isinstance(string,str))"
   ]
  },
  {
   "cell_type": "markdown",
   "metadata": {},
   "source": [
    "# Python File Handeling"
   ]
  },
  {
   "cell_type": "code",
   "execution_count": 26,
   "metadata": {},
   "outputs": [
    {
     "name": "stdout",
     "output_type": "stream",
     "text": [
      "File Opened\n",
      "File closed\n"
     ]
    }
   ],
   "source": [
    "try:\n",
    "    myfile = open(\"myfile.txt\",\"a\")    \n",
    "    print(\"File Opened\")\n",
    "    \n",
    "    myfile.write(\"Adding this to file!\")\n",
    "    \n",
    "except PermissionError:\n",
    "    print(\"You dont have permission to access this file\")\n",
    "finally:\n",
    "    myfile.close()\n",
    "    print(\"File closed\")"
   ]
  },
  {
   "cell_type": "code",
   "execution_count": 35,
   "metadata": {},
   "outputs": [
    {
     "name": "stdout",
     "output_type": "stream",
     "text": [
      "hello world\n"
     ]
    }
   ],
   "source": [
    "myfile = open(\"myfile.txt\",\"w\")\n",
    "myfile.write(\"hello world\")\n",
    "myfile.close()\n",
    "myfile = open(\"myfile.txt\",\"rt\")\n",
    "print(myfile.read())\n",
    "myfile.close()"
   ]
  },
  {
   "cell_type": "code",
   "execution_count": 38,
   "metadata": {},
   "outputs": [
    {
     "name": "stdout",
     "output_type": "stream",
     "text": [
      "file does not exsits\n"
     ]
    }
   ],
   "source": [
    "import os\n",
    "#os.remove(\"myfile.txt\")\n",
    "if os.path.exists(\"myfile.txt\"):\n",
    "    print(\"file exists\")\n",
    "    os.remove(\"myfile.txt\")\n",
    "else:\n",
    "    print(\"file does not exsits\")"
   ]
  },
  {
   "cell_type": "code",
   "execution_count": 41,
   "metadata": {},
   "outputs": [
    {
     "name": "stdout",
     "output_type": "stream",
     "text": [
      "folder not present\n"
     ]
    }
   ],
   "source": [
    "if os.path.exists(\"myfolder\"):\n",
    "    print(\"Folder exists\")\n",
    "    os.rmdir(\"myfolder\")\n",
    "else:\n",
    "    print(\"folder not present\")"
   ]
  },
  {
   "cell_type": "code",
   "execution_count": 1,
   "metadata": {},
   "outputs": [
    {
     "name": "stdout",
     "output_type": "stream",
     "text": [
      "HW\n"
     ]
    }
   ],
   "source": []
  },
  {
   "cell_type": "markdown",
   "metadata": {},
   "source": [
    "# Python Classes & Inheritance"
   ]
  },
  {
   "cell_type": "code",
   "execution_count": 8,
   "metadata": {},
   "outputs": [
    {
     "name": "stdout",
     "output_type": "stream",
     "text": [
      "welcome  Prathamesh Ausekar to the class of 2018\n"
     ]
    }
   ],
   "source": [
    "class Person:\n",
    "    def __init__(self,fname,lname):\n",
    "        self.firstname = fname\n",
    "        self.lastname = lname\n",
    "    \n",
    "    def printname(self):\n",
    "        print(self.fname,self.lname)\n",
    "        \n",
    "#p = Person(\"Prathamesh\",\"Ausekar\")\n",
    "#p.printname()   \n",
    "\n",
    "class Student(Person):\n",
    "    def __init__(self,fname,lname,year):\n",
    "        super().__init__(fname,lname)\n",
    "        self.graduationyear = year\n",
    "    \n",
    "    def welcome(self):\n",
    "        print(\"welcome \", self.firstname,self.lastname, \"to the class of\", self.graduationyear)\n",
    "        \n",
    "x = Student(\"Prathamesh\",\"Ausekar\",2018)\n",
    "x.welcome()"
   ]
  },
  {
   "cell_type": "code",
   "execution_count": null,
   "metadata": {},
   "outputs": [],
   "source": []
  }
 ],
 "metadata": {
  "kernelspec": {
   "display_name": "Python 3",
   "language": "python",
   "name": "python3"
  },
  "language_info": {
   "codemirror_mode": {
    "name": "ipython",
    "version": 3
   },
   "file_extension": ".py",
   "mimetype": "text/x-python",
   "name": "python",
   "nbconvert_exporter": "python",
   "pygments_lexer": "ipython3",
   "version": "3.8.8"
  }
 },
 "nbformat": 4,
 "nbformat_minor": 2
}
